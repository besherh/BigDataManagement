{
  "nbformat": 4,
  "nbformat_minor": 0,
  "metadata": {
    "kernelspec": {
      "display_name": "Python 3",
      "language": "python",
      "name": "python3"
    },
    "language_info": {
      "codemirror_mode": {
        "name": "ipython",
        "version": 3
      },
      "file_extension": ".py",
      "mimetype": "text/x-python",
      "name": "python",
      "nbconvert_exporter": "python",
      "pygments_lexer": "ipython3",
      "version": "3.7.6"
    },
    "colab": {
      "name": "Cross-Validation2.ipynb",
      "provenance": [],
      "include_colab_link": true
    }
  },
  "cells": [
    {
      "cell_type": "markdown",
      "metadata": {
        "id": "view-in-github",
        "colab_type": "text"
      },
      "source": [
        "<a href=\"https://colab.research.google.com/github/besherh/BigDataManagement/blob/main/ModelEvaluation/Cross_Validation2.ipynb\" target=\"_parent\"><img src=\"https://colab.research.google.com/assets/colab-badge.svg\" alt=\"Open In Colab\"/></a>"
      ]
    },
    {
      "cell_type": "markdown",
      "metadata": {
        "id": "IlEG0d97GumH"
      },
      "source": [
        "# Cross Validation\n",
        "> Holdout sets are a great start to model validation. However, using a single train and test set if often not enough. Cross-validation is considered the gold standard when it comes to validating model performance and is almost always used when tuning model hyper-parameters. This chapter focuses on performing cross-validation to validate model performance."
      ]
    },
    {
      "cell_type": "code",
      "metadata": {
        "id": "0w7Wbi0jGumN"
      },
      "source": [
        "import pandas as pd\n",
        "import numpy as np\n",
        "import matplotlib.pyplot as plt\n"
      ],
      "execution_count": 1,
      "outputs": []
    },
    {
      "cell_type": "markdown",
      "metadata": {
        "id": "RTpl6RZFGumO"
      },
      "source": [
        "## The problems with holdout sets"
      ]
    },
    {
      "cell_type": "markdown",
      "metadata": {
        "id": "SI0rN0hzGumP"
      },
      "source": [
        "### Two samples\n",
        "After building several classification models based on the `tic_tac_toe` dataset, you realize that some models do not generalize as well as others. You have created training and testing splits just as you have been taught, so you are curious why your validation process is not working.\n",
        "\n",
        "After trying a different training, test split, you noticed differing accuracies for your machine learning model. Before getting too frustrated with the varying results, you have decided to see what else could be going on."
      ]
    },
    {
      "cell_type": "code",
      "metadata": {
        "id": "sFYWdA9ZGumP",
        "colab": {
          "base_uri": "https://localhost:8080/",
          "height": 206
        },
        "outputId": "08c38a80-1afc-4254-f847-89d44dc7de02"
      },
      "source": [
        "#https://www.kaggle.com/aungpyaeap/tictactoe-endgame-dataset-uci\n",
        "\n",
        "tic_tac_toe = pd.read_csv('https://raw.githubusercontent.com/besherh/Machine-Learning-Course/master/ModelEvaluation/datasets/tic-tac-toe.csv')\n",
        "tic_tac_toe.head()"
      ],
      "execution_count": 6,
      "outputs": [
        {
          "output_type": "execute_result",
          "data": {
            "text/html": [
              "<div>\n",
              "<style scoped>\n",
              "    .dataframe tbody tr th:only-of-type {\n",
              "        vertical-align: middle;\n",
              "    }\n",
              "\n",
              "    .dataframe tbody tr th {\n",
              "        vertical-align: top;\n",
              "    }\n",
              "\n",
              "    .dataframe thead th {\n",
              "        text-align: right;\n",
              "    }\n",
              "</style>\n",
              "<table border=\"1\" class=\"dataframe\">\n",
              "  <thead>\n",
              "    <tr style=\"text-align: right;\">\n",
              "      <th></th>\n",
              "      <th>V1</th>\n",
              "      <th>V2</th>\n",
              "      <th>V3</th>\n",
              "      <th>V4</th>\n",
              "      <th>V5</th>\n",
              "      <th>V6</th>\n",
              "      <th>V7</th>\n",
              "      <th>V8</th>\n",
              "      <th>V9</th>\n",
              "      <th>V10</th>\n",
              "    </tr>\n",
              "  </thead>\n",
              "  <tbody>\n",
              "    <tr>\n",
              "      <th>0</th>\n",
              "      <td>x</td>\n",
              "      <td>x</td>\n",
              "      <td>x</td>\n",
              "      <td>x</td>\n",
              "      <td>o</td>\n",
              "      <td>o</td>\n",
              "      <td>x</td>\n",
              "      <td>o</td>\n",
              "      <td>o</td>\n",
              "      <td>positive</td>\n",
              "    </tr>\n",
              "    <tr>\n",
              "      <th>1</th>\n",
              "      <td>x</td>\n",
              "      <td>x</td>\n",
              "      <td>x</td>\n",
              "      <td>x</td>\n",
              "      <td>o</td>\n",
              "      <td>o</td>\n",
              "      <td>o</td>\n",
              "      <td>x</td>\n",
              "      <td>o</td>\n",
              "      <td>positive</td>\n",
              "    </tr>\n",
              "    <tr>\n",
              "      <th>2</th>\n",
              "      <td>x</td>\n",
              "      <td>x</td>\n",
              "      <td>x</td>\n",
              "      <td>x</td>\n",
              "      <td>o</td>\n",
              "      <td>o</td>\n",
              "      <td>o</td>\n",
              "      <td>o</td>\n",
              "      <td>x</td>\n",
              "      <td>positive</td>\n",
              "    </tr>\n",
              "    <tr>\n",
              "      <th>3</th>\n",
              "      <td>x</td>\n",
              "      <td>x</td>\n",
              "      <td>x</td>\n",
              "      <td>x</td>\n",
              "      <td>o</td>\n",
              "      <td>o</td>\n",
              "      <td>o</td>\n",
              "      <td>b</td>\n",
              "      <td>b</td>\n",
              "      <td>positive</td>\n",
              "    </tr>\n",
              "    <tr>\n",
              "      <th>4</th>\n",
              "      <td>x</td>\n",
              "      <td>x</td>\n",
              "      <td>x</td>\n",
              "      <td>x</td>\n",
              "      <td>o</td>\n",
              "      <td>o</td>\n",
              "      <td>b</td>\n",
              "      <td>o</td>\n",
              "      <td>b</td>\n",
              "      <td>positive</td>\n",
              "    </tr>\n",
              "  </tbody>\n",
              "</table>\n",
              "</div>"
            ],
            "text/plain": [
              "  V1 V2 V3 V4 V5 V6 V7 V8 V9       V10\n",
              "0  x  x  x  x  o  o  x  o  o  positive\n",
              "1  x  x  x  x  o  o  o  x  o  positive\n",
              "2  x  x  x  x  o  o  o  o  x  positive\n",
              "3  x  x  x  x  o  o  o  b  b  positive\n",
              "4  x  x  x  x  o  o  b  o  b  positive"
            ]
          },
          "metadata": {},
          "execution_count": 6
        }
      ]
    },
    {
      "cell_type": "code",
      "metadata": {
        "id": "PS9nvRhTGumQ",
        "colab": {
          "base_uri": "https://localhost:8080/"
        },
        "outputId": "791e2662-3493-4731-f781-30b35464eea4"
      },
      "source": [
        "# Create two different samples of 200 observations\n",
        "sample1 = tic_tac_toe.sample(n=200, random_state=1111)\n",
        "sample2 = tic_tac_toe.sample(n=200, random_state=1171)\n",
        "\n",
        "# Print the number of common observations\n",
        "print(len([index for index in sample1.index if index in sample2.index]))\n",
        "\n",
        "# Print the number of observations in the Class column for both samples\n",
        "print(sample1['V10'].value_counts())\n",
        "print(sample2['V10'].value_counts())"
      ],
      "execution_count": 8,
      "outputs": [
        {
          "output_type": "stream",
          "name": "stdout",
          "text": [
            "40\n",
            "positive    134\n",
            "negative     66\n",
            "Name: V10, dtype: int64\n",
            "positive    123\n",
            "negative     77\n",
            "Name: V10, dtype: int64\n"
          ]
        }
      ]
    },
    {
      "cell_type": "markdown",
      "metadata": {
        "id": "Lj-xtxAbGumR"
      },
      "source": [
        "Notice that there are a varying number of positive observations for both sample test sets. Sometimes creating a single test holdout sample is not enough to achieve the high levels of model validation you want. You need to use something more robust."
      ]
    },
    {
      "cell_type": "markdown",
      "metadata": {
        "id": "dEzLsLHZGumS"
      },
      "source": [
        "## Cross-validation\n",
        "![cv](https://github.com/goodboychan/goodboychan.github.io/blob/main/_notebooks/image/cv.png?raw=1)"
      ]
    },
    {
      "cell_type": "markdown",
      "metadata": {
        "id": "5sSo9mrzGumT"
      },
      "source": [
        "### scikit-learn's KFold()\n",
        "You just finished running a colleagues code that creates a random forest model and calculates an out-of-sample accuracy. You noticed that your colleague's code did not have a random state, and the errors you found were completely different than the errors your colleague reported.\n",
        "\n",
        "To get a better estimate for how accurate this random forest model will be on new data, you have decided to generate some indices to use for KFold cross-validation."
      ]
    },
    {
      "cell_type": "code",
      "metadata": {
        "id": "CY_RqVoBGumU",
        "colab": {
          "base_uri": "https://localhost:8080/",
          "height": 206
        },
        "outputId": "73967024-83e4-4561-83f1-e4875d5a6df4"
      },
      "source": [
        "candy = pd.read_csv('https://raw.githubusercontent.com/besherh/Machine-Learning-Course/master/ModelEvaluation/datasets/candy-data.csv')\n",
        "candy.head()"
      ],
      "execution_count": 9,
      "outputs": [
        {
          "output_type": "execute_result",
          "data": {
            "text/html": [
              "<div>\n",
              "<style scoped>\n",
              "    .dataframe tbody tr th:only-of-type {\n",
              "        vertical-align: middle;\n",
              "    }\n",
              "\n",
              "    .dataframe tbody tr th {\n",
              "        vertical-align: top;\n",
              "    }\n",
              "\n",
              "    .dataframe thead th {\n",
              "        text-align: right;\n",
              "    }\n",
              "</style>\n",
              "<table border=\"1\" class=\"dataframe\">\n",
              "  <thead>\n",
              "    <tr style=\"text-align: right;\">\n",
              "      <th></th>\n",
              "      <th>competitorname</th>\n",
              "      <th>chocolate</th>\n",
              "      <th>fruity</th>\n",
              "      <th>caramel</th>\n",
              "      <th>peanutyalmondy</th>\n",
              "      <th>nougat</th>\n",
              "      <th>crispedricewafer</th>\n",
              "      <th>hard</th>\n",
              "      <th>bar</th>\n",
              "      <th>pluribus</th>\n",
              "      <th>sugarpercent</th>\n",
              "      <th>pricepercent</th>\n",
              "      <th>winpercent</th>\n",
              "    </tr>\n",
              "  </thead>\n",
              "  <tbody>\n",
              "    <tr>\n",
              "      <th>0</th>\n",
              "      <td>100 Grand</td>\n",
              "      <td>1</td>\n",
              "      <td>0</td>\n",
              "      <td>1</td>\n",
              "      <td>0</td>\n",
              "      <td>0</td>\n",
              "      <td>1</td>\n",
              "      <td>0</td>\n",
              "      <td>1</td>\n",
              "      <td>0</td>\n",
              "      <td>0.732</td>\n",
              "      <td>0.860</td>\n",
              "      <td>66.971725</td>\n",
              "    </tr>\n",
              "    <tr>\n",
              "      <th>1</th>\n",
              "      <td>3 Musketeers</td>\n",
              "      <td>1</td>\n",
              "      <td>0</td>\n",
              "      <td>0</td>\n",
              "      <td>0</td>\n",
              "      <td>1</td>\n",
              "      <td>0</td>\n",
              "      <td>0</td>\n",
              "      <td>1</td>\n",
              "      <td>0</td>\n",
              "      <td>0.604</td>\n",
              "      <td>0.511</td>\n",
              "      <td>67.602936</td>\n",
              "    </tr>\n",
              "    <tr>\n",
              "      <th>2</th>\n",
              "      <td>One dime</td>\n",
              "      <td>0</td>\n",
              "      <td>0</td>\n",
              "      <td>0</td>\n",
              "      <td>0</td>\n",
              "      <td>0</td>\n",
              "      <td>0</td>\n",
              "      <td>0</td>\n",
              "      <td>0</td>\n",
              "      <td>0</td>\n",
              "      <td>0.011</td>\n",
              "      <td>0.116</td>\n",
              "      <td>32.261086</td>\n",
              "    </tr>\n",
              "    <tr>\n",
              "      <th>3</th>\n",
              "      <td>One quarter</td>\n",
              "      <td>0</td>\n",
              "      <td>0</td>\n",
              "      <td>0</td>\n",
              "      <td>0</td>\n",
              "      <td>0</td>\n",
              "      <td>0</td>\n",
              "      <td>0</td>\n",
              "      <td>0</td>\n",
              "      <td>0</td>\n",
              "      <td>0.011</td>\n",
              "      <td>0.511</td>\n",
              "      <td>46.116505</td>\n",
              "    </tr>\n",
              "    <tr>\n",
              "      <th>4</th>\n",
              "      <td>Air Heads</td>\n",
              "      <td>0</td>\n",
              "      <td>1</td>\n",
              "      <td>0</td>\n",
              "      <td>0</td>\n",
              "      <td>0</td>\n",
              "      <td>0</td>\n",
              "      <td>0</td>\n",
              "      <td>0</td>\n",
              "      <td>0</td>\n",
              "      <td>0.906</td>\n",
              "      <td>0.511</td>\n",
              "      <td>52.341465</td>\n",
              "    </tr>\n",
              "  </tbody>\n",
              "</table>\n",
              "</div>"
            ],
            "text/plain": [
              "  competitorname  chocolate  fruity  ...  sugarpercent  pricepercent  winpercent\n",
              "0      100 Grand          1       0  ...         0.732         0.860   66.971725\n",
              "1   3 Musketeers          1       0  ...         0.604         0.511   67.602936\n",
              "2       One dime          0       0  ...         0.011         0.116   32.261086\n",
              "3    One quarter          0       0  ...         0.011         0.511   46.116505\n",
              "4      Air Heads          0       1  ...         0.906         0.511   52.341465\n",
              "\n",
              "[5 rows x 13 columns]"
            ]
          },
          "metadata": {},
          "execution_count": 9
        }
      ]
    },
    {
      "cell_type": "code",
      "metadata": {
        "id": "n0NtsarxGumU"
      },
      "source": [
        "X = candy.drop(['competitorname', 'winpercent'], axis=1).to_numpy()\n",
        "y = candy['winpercent'].to_numpy()"
      ],
      "execution_count": 10,
      "outputs": []
    },
    {
      "cell_type": "code",
      "metadata": {
        "id": "QrjuS-XPGumV",
        "colab": {
          "base_uri": "https://localhost:8080/"
        },
        "outputId": "252573ea-96d8-4a61-c958-270aa5edfaef"
      },
      "source": [
        "from sklearn.model_selection import KFold\n",
        "\n",
        "# Use KFold\n",
        "kf = KFold(n_splits=5, shuffle=True, random_state=1111)\n",
        "\n",
        "# Create splits\n",
        "splits = kf.split(X)\n",
        "\n",
        "# Print the number of indices\n",
        "for train_index, val_index in splits:\n",
        "    print(\"Number of training indices: %s\" % len(train_index))\n",
        "    print(\"Number of validation indices: %s\" % len(val_index))"
      ],
      "execution_count": 11,
      "outputs": [
        {
          "output_type": "stream",
          "name": "stdout",
          "text": [
            "Number of training indices: 68\n",
            "Number of validation indices: 17\n",
            "Number of training indices: 68\n",
            "Number of validation indices: 17\n",
            "Number of training indices: 68\n",
            "Number of validation indices: 17\n",
            "Number of training indices: 68\n",
            "Number of validation indices: 17\n",
            "Number of training indices: 68\n",
            "Number of validation indices: 17\n"
          ]
        }
      ]
    },
    {
      "cell_type": "markdown",
      "metadata": {
        "id": "HXsRTHg9GumV"
      },
      "source": [
        "This dataset has 85 rows. You have created five splits - each containing 68 training and 17 validation indices. You can use these indices to complete 5-fold cross-validation."
      ]
    },
    {
      "cell_type": "markdown",
      "metadata": {
        "id": "kDRiDHC3GumW"
      },
      "source": [
        "### Using KFold indices\n",
        "You have already created `splits`, which contains indices for the candy-data dataset to complete 5-fold cross-validation. To get a better estimate for how well a colleague's random forest model will perform on a new data, you want to run this model on the five different training and validation indices you just created.\n",
        "\n",
        "In this exercise, you will use these indices to check the accuracy of this model using the five different splits. A for loop has been provided to assist with this process."
      ]
    },
    {
      "cell_type": "code",
      "metadata": {
        "id": "k6B2_bPgGumW"
      },
      "source": [
        "# Create splits\n",
        "splits = kf.split(X)"
      ],
      "execution_count": 37,
      "outputs": []
    },
    {
      "cell_type": "code",
      "metadata": {
        "id": "BwPdfJbZGumW",
        "colab": {
          "base_uri": "https://localhost:8080/"
        },
        "outputId": "2de8e4f8-9934-4f1e-a2d3-03710282d710"
      },
      "source": [
        "import sys\n",
        "from sklearn.ensemble import RandomForestRegressor\n",
        "from sklearn.metrics import mean_squared_error\n",
        "\n",
        "rfc = RandomForestRegressor(n_estimators=25, random_state=1111)\n",
        "\n",
        "# Access the training and validation indices of splits\n",
        "for train_index, val_index in splits:\n",
        "    # Setup the training and validation data\n",
        "    X_train, y_train = X[train_index], y[train_index]\n",
        "    X_val, y_val = X[val_index], y[val_index]\n",
        "    \n",
        "    # Fit the random forest model\n",
        "    rfc.fit(X_train, y_train)    \n",
        "    # Make predictions, and print the accuracy\n",
        "    predictions = rfc.predict(X_val)\n",
        "    print(\"Split accuracy:\" + str(mean_squared_error(y_val, predictions)))"
      ],
      "execution_count": 39,
      "outputs": [
        {
          "output_type": "stream",
          "name": "stdout",
          "text": [
            "Split accuracy:173.4624060357644\n",
            "Split accuracy:132.7340977072911\n",
            "Split accuracy:81.50364942339418\n",
            "Split accuracy:217.17904656079338\n"
          ]
        }
      ]
    },
    {
      "cell_type": "markdown",
      "metadata": {
        "id": "gD1gufNwGumX"
      },
      "source": [
        "`KFold()` is a great method for accessing individual indices when completing cross-validation. One drawback is needing a for loop to work through the indices though."
      ]
    },
    {
      "cell_type": "markdown",
      "metadata": {
        "id": "oU_LrkmPGumX"
      },
      "source": [
        "## sklearn's cross_val_score()"
      ]
    },
    {
      "cell_type": "markdown",
      "metadata": {
        "id": "6rXlr9-iGumX"
      },
      "source": [
        "### scikit-learn's methods\n",
        "You have decided to build a regression model to predict the number of new employees your company will successfully hire next month. You open up a new Python script to get started, but you quickly realize that sklearn has a lot of different modules. Let's make sure you understand the names of the modules, the methods, and which module contains which method.\n",
        "\n",
        "Follow the instructions below to load in all of the necessary methods for completing cross-validation using sklearn. You will use modules:\n",
        "\n",
        "- metrics\n",
        "- model_selection\n",
        "- ensemble"
      ]
    },
    {
      "cell_type": "code",
      "metadata": {
        "id": "LwAVQNrQGumX"
      },
      "source": [
        "from sklearn.model_selection import cross_val_score\n",
        "from sklearn.ensemble import RandomForestRegressor\n",
        "from sklearn.metrics import mean_squared_error, make_scorer"
      ],
      "execution_count": 40,
      "outputs": []
    },
    {
      "cell_type": "markdown",
      "metadata": {
        "id": "GscvPniaGumY"
      },
      "source": [
        "### Implement cross_val_score()\n",
        "Your company has created several new candies to sell, but they are not sure if they should release all five of them. To predict the popularity of these new candies, you have been asked to build a regression model using the candy dataset. Remember that the response value is a head-to-head win-percentage against other candies.\n",
        "\n",
        "Before you begin trying different regression models, you have decided to run cross-validation on a simple random forest model to get a baseline error to compare with any future results."
      ]
    },
    {
      "cell_type": "code",
      "metadata": {
        "id": "0ePWxSllGumY",
        "colab": {
          "base_uri": "https://localhost:8080/"
        },
        "outputId": "b6be6859-18fb-463a-bc88-618fa220950e"
      },
      "source": [
        "rfc = RandomForestRegressor(n_estimators=25, random_state=1111)\n",
        "mse = make_scorer(mean_squared_error)\n",
        "\n",
        "# Setup cross_val_score\n",
        "cv = cross_val_score(estimator=rfc, X=X_train, y=y_train, cv=10, scoring=mse)\n",
        "\n",
        "# Print the mean error\n",
        "print(cv.mean())"
      ],
      "execution_count": 41,
      "outputs": [
        {
          "output_type": "stream",
          "name": "stdout",
          "text": [
            "130.91371947185584\n"
          ]
        }
      ]
    },
    {
      "cell_type": "markdown",
      "metadata": {
        "id": "yrX0OLQvGumY"
      },
      "source": [
        "You now have a baseline score to build on. If you decide to build additional models or try new techniques, you should try to get an error lower than 155.56. Lower errors indicate that your popularity predictions are improving."
      ]
    }
  ]
}