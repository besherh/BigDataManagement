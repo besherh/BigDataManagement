{
  "nbformat": 4,
  "nbformat_minor": 0,
  "metadata": {
    "colab": {
      "name": "basic_eda_spark.ipynb",
      "provenance": [],
      "authorship_tag": "ABX9TyM/O6RfwS3B6/JqQOKMRSDQ",
      "include_colab_link": true
    },
    "kernelspec": {
      "name": "python3",
      "display_name": "Python 3"
    }
  },
  "cells": [
    {
      "cell_type": "markdown",
      "metadata": {
        "id": "view-in-github",
        "colab_type": "text"
      },
      "source": [
        "<a href=\"https://colab.research.google.com/github/besherh/BigDataManagement/blob/main/SparkNotebooks/basic_eda_spark.ipynb\" target=\"_parent\"><img src=\"https://colab.research.google.com/assets/colab-badge.svg\" alt=\"Open In Colab\"/></a>"
      ]
    },
    {
      "cell_type": "markdown",
      "metadata": {
        "id": "NI4MkvGio2zj"
      },
      "source": [
        "#Setting up PySpark in Colab\n",
        "Spark is written in the Scala programming language and requires the Java Virtual Machine (JVM) to run. Therefore, our first task is to download Java.\n",
        "\n"
      ]
    },
    {
      "cell_type": "code",
      "metadata": {
        "colab": {
          "base_uri": "https://localhost:8080/"
        },
        "id": "AHNCU0iVor0S",
        "outputId": "088ec005-824c-4f40-bdfd-9c5b18be8c00"
      },
      "source": [
        "!apt-get install openjdk-8-jdk-headless"
      ],
      "execution_count": 1,
      "outputs": [
        {
          "output_type": "stream",
          "name": "stdout",
          "text": [
            "Reading package lists... Done\n",
            "Building dependency tree       \n",
            "\n",
            "The following additional packages will be installed:\n",
            "  openjdk-8-jre-headless\n",
            "Suggested packages:\n",
            "  openjdk-8-demo openjdk-8-source libnss-mdns fonts-dejavu-extra\n",
            "  fonts-ipafont-gothic fonts-ipafont-mincho fonts-wqy-microhei\n",
            "  fonts-wqy-zenhei fonts-indic\n",
            "The following NEW packages will be installed:\n",
            "  openjdk-8-jdk-headless openjdk-8-jre-headless\n",
            "0 upgraded, 2 newly installed, 0 to remove and 39 not upgraded.\n",
            "Need to get 36.5 MB of archives.\n",
            "After this operation, 143 MB of additional disk space will be used.\n",
            "Get:1 http://archive.ubuntu.com/ubuntu bionic-updates/universe amd64 openjdk-8-jre-headless amd64 8u312-b07-0ubuntu1~18.04 [28.2 MB]\n",
            "Get:2 http://archive.ubuntu.com/ubuntu bionic-updates/universe amd64 openjdk-8-jdk-headless amd64 8u312-b07-0ubuntu1~18.04 [8,298 kB]\n",
            "Fetched 36.5 MB in 2s (15.1 MB/s)\n",
            "Selecting previously unselected package openjdk-8-jre-headless:amd64.\n",
            "(Reading database ... 155335 files and directories currently installed.)\n",
            "Preparing to unpack .../openjdk-8-jre-headless_8u312-b07-0ubuntu1~18.04_amd64.deb ...\n",
            "Unpacking openjdk-8-jre-headless:amd64 (8u312-b07-0ubuntu1~18.04) ...\n",
            "Selecting previously unselected package openjdk-8-jdk-headless:amd64.\n",
            "Preparing to unpack .../openjdk-8-jdk-headless_8u312-b07-0ubuntu1~18.04_amd64.deb ...\n",
            "Unpacking openjdk-8-jdk-headless:amd64 (8u312-b07-0ubuntu1~18.04) ...\n",
            "Setting up openjdk-8-jre-headless:amd64 (8u312-b07-0ubuntu1~18.04) ...\n",
            "update-alternatives: using /usr/lib/jvm/java-8-openjdk-amd64/jre/bin/orbd to provide /usr/bin/orbd (orbd) in auto mode\n",
            "update-alternatives: using /usr/lib/jvm/java-8-openjdk-amd64/jre/bin/servertool to provide /usr/bin/servertool (servertool) in auto mode\n",
            "update-alternatives: using /usr/lib/jvm/java-8-openjdk-amd64/jre/bin/tnameserv to provide /usr/bin/tnameserv (tnameserv) in auto mode\n",
            "Setting up openjdk-8-jdk-headless:amd64 (8u312-b07-0ubuntu1~18.04) ...\n",
            "update-alternatives: using /usr/lib/jvm/java-8-openjdk-amd64/bin/idlj to provide /usr/bin/idlj (idlj) in auto mode\n",
            "update-alternatives: using /usr/lib/jvm/java-8-openjdk-amd64/bin/wsimport to provide /usr/bin/wsimport (wsimport) in auto mode\n",
            "update-alternatives: using /usr/lib/jvm/java-8-openjdk-amd64/bin/jsadebugd to provide /usr/bin/jsadebugd (jsadebugd) in auto mode\n",
            "update-alternatives: using /usr/lib/jvm/java-8-openjdk-amd64/bin/native2ascii to provide /usr/bin/native2ascii (native2ascii) in auto mode\n",
            "update-alternatives: using /usr/lib/jvm/java-8-openjdk-amd64/bin/javah to provide /usr/bin/javah (javah) in auto mode\n",
            "update-alternatives: using /usr/lib/jvm/java-8-openjdk-amd64/bin/hsdb to provide /usr/bin/hsdb (hsdb) in auto mode\n",
            "update-alternatives: using /usr/lib/jvm/java-8-openjdk-amd64/bin/clhsdb to provide /usr/bin/clhsdb (clhsdb) in auto mode\n",
            "update-alternatives: using /usr/lib/jvm/java-8-openjdk-amd64/bin/xjc to provide /usr/bin/xjc (xjc) in auto mode\n",
            "update-alternatives: using /usr/lib/jvm/java-8-openjdk-amd64/bin/schemagen to provide /usr/bin/schemagen (schemagen) in auto mode\n",
            "update-alternatives: using /usr/lib/jvm/java-8-openjdk-amd64/bin/extcheck to provide /usr/bin/extcheck (extcheck) in auto mode\n",
            "update-alternatives: using /usr/lib/jvm/java-8-openjdk-amd64/bin/jhat to provide /usr/bin/jhat (jhat) in auto mode\n",
            "update-alternatives: using /usr/lib/jvm/java-8-openjdk-amd64/bin/wsgen to provide /usr/bin/wsgen (wsgen) in auto mode\n"
          ]
        }
      ]
    },
    {
      "cell_type": "markdown",
      "metadata": {
        "id": "GGwmuhGmpTkj"
      },
      "source": [
        "Next, we will install Apache Spark 3.0.1 with Hadoop 2.7 .\n"
      ]
    },
    {
      "cell_type": "code",
      "metadata": {
        "colab": {
          "base_uri": "https://localhost:8080/"
        },
        "id": "Pu9RT0qvpV_7",
        "outputId": "b97aa065-c5a2-4708-add6-09c519a015f9"
      },
      "source": [
        "!wget https://archive.apache.org/dist/spark/spark-3.2.1/spark-3.2.1-bin-hadoop2.7.tgz\n"
      ],
      "execution_count": 3,
      "outputs": [
        {
          "output_type": "stream",
          "name": "stdout",
          "text": [
            "--2022-03-13 15:12:13--  https://archive.apache.org/dist/spark/spark-3.2.1/spark-3.2.1-bin-hadoop2.7.tgz\n",
            "Resolving archive.apache.org (archive.apache.org)... 138.201.131.134, 2a01:4f8:172:2ec5::2\n",
            "Connecting to archive.apache.org (archive.apache.org)|138.201.131.134|:443... connected.\n",
            "HTTP request sent, awaiting response... 200 OK\n",
            "Length: 272637746 (260M) [application/x-gzip]\n",
            "Saving to: ‘spark-3.2.1-bin-hadoop2.7.tgz’\n",
            "\n",
            "spark-3.2.1-bin-had 100%[===================>] 260.01M  28.8MB/s    in 9.9s    \n",
            "\n",
            "2022-03-13 15:12:23 (26.3 MB/s) - ‘spark-3.2.1-bin-hadoop2.7.tgz’ saved [272637746/272637746]\n",
            "\n"
          ]
        }
      ]
    },
    {
      "cell_type": "markdown",
      "metadata": {
        "id": "bWrJkJsSpZY6"
      },
      "source": [
        "Now, we just need to unzip that folder.\n"
      ]
    },
    {
      "cell_type": "code",
      "metadata": {
        "id": "N8osF5ZSpbAe"
      },
      "source": [
        "!tar xf /content/spark-3.2.1-bin-hadoop2.7.tgz\n"
      ],
      "execution_count": 4,
      "outputs": []
    },
    {
      "cell_type": "markdown",
      "metadata": {
        "id": "5XsjEvGaq2Px"
      },
      "source": [
        "There is one last thing that we need to install and that is the findspark library. It will locate Spark on the system and import it as a regular library.\n",
        "\n"
      ]
    },
    {
      "cell_type": "code",
      "metadata": {
        "id": "6v7dSMKLq7sy"
      },
      "source": [
        "!pip install -q findspark\n"
      ],
      "execution_count": 5,
      "outputs": []
    },
    {
      "cell_type": "markdown",
      "metadata": {
        "id": "KEtMvmDDrAT-"
      },
      "source": [
        "Now that we have installed all the necessary dependencies in Colab, it is time to set the environment path. This will enable us to run Pyspark in the Colab environment.\n"
      ]
    },
    {
      "cell_type": "code",
      "metadata": {
        "id": "AJ74KqQ0rCQz"
      },
      "source": [
        "import os\n",
        "os.environ[\"JAVA_HOME\"] = \"/usr/lib/jvm/java-8-openjdk-amd64\"\n",
        "os.environ[\"SPARK_HOME\"] = \"/content/spark-3.2.1-bin-hadoop2.7\"\n"
      ],
      "execution_count": 6,
      "outputs": []
    },
    {
      "cell_type": "markdown",
      "metadata": {
        "id": "LFMTvwGCrWCD"
      },
      "source": [
        "We need to locate Spark in the system. For that, we import findspark and use the findspark.init() method."
      ]
    },
    {
      "cell_type": "code",
      "metadata": {
        "colab": {
          "base_uri": "https://localhost:8080/",
          "height": 35
        },
        "id": "8Nt1kPgRrWXr",
        "outputId": "d56f00b7-acdb-4927-9672-3025e1c9b632"
      },
      "source": [
        "import findspark\n",
        "findspark.init()\n",
        "findspark.find()"
      ],
      "execution_count": 7,
      "outputs": [
        {
          "output_type": "execute_result",
          "data": {
            "text/plain": [
              "'/content/spark-3.2.1-bin-hadoop2.7'"
            ],
            "application/vnd.google.colaboratory.intrinsic+json": {
              "type": "string"
            }
          },
          "metadata": {},
          "execution_count": 7
        }
      ]
    },
    {
      "cell_type": "markdown",
      "metadata": {
        "id": "rQ5fGiVxrgg_"
      },
      "source": [
        "Now, we can import SparkSession from pyspark.sql and create a SparkSession, which is the entry point to Spark.\n",
        "\n",
        "You can give a name to the session using appName() and add some configurations with config() if you wish."
      ]
    },
    {
      "cell_type": "code",
      "metadata": {
        "id": "5BtkNi4NrjZ3"
      },
      "source": [
        "from pyspark.sql import SparkSession\n",
        "\n",
        "spark = SparkSession.builder\\\n",
        "        .master(\"local\")\\\n",
        "        .appName(\"MyFirstEDA\")\\\n",
        "        .config('spark.ui.port', '4050')\\\n",
        "        .getOrCreate()"
      ],
      "execution_count": 9,
      "outputs": []
    },
    {
      "cell_type": "markdown",
      "metadata": {
        "id": "cptuFcj_rrAz"
      },
      "source": [
        "Finally, print the SparkSession variable."
      ]
    },
    {
      "cell_type": "code",
      "metadata": {
        "colab": {
          "base_uri": "https://localhost:8080/",
          "height": 222
        },
        "id": "iZlftTV-rscj",
        "outputId": "f2eeaacc-4716-4b21-e8fc-2545effa0ddc"
      },
      "source": [
        "spark\n"
      ],
      "execution_count": 10,
      "outputs": [
        {
          "output_type": "execute_result",
          "data": {
            "text/plain": [
              "<pyspark.sql.session.SparkSession at 0x7f27452236d0>"
            ],
            "text/html": [
              "\n",
              "            <div>\n",
              "                <p><b>SparkSession - in-memory</b></p>\n",
              "                \n",
              "        <div>\n",
              "            <p><b>SparkContext</b></p>\n",
              "\n",
              "            <p><a href=\"http://b50faf6440c2:4050\">Spark UI</a></p>\n",
              "\n",
              "            <dl>\n",
              "              <dt>Version</dt>\n",
              "                <dd><code>v3.2.1</code></dd>\n",
              "              <dt>Master</dt>\n",
              "                <dd><code>local</code></dd>\n",
              "              <dt>AppName</dt>\n",
              "                <dd><code>Colab</code></dd>\n",
              "            </dl>\n",
              "        </div>\n",
              "        \n",
              "            </div>\n",
              "        "
            ]
          },
          "metadata": {},
          "execution_count": 10
        }
      ]
    },
    {
      "cell_type": "markdown",
      "metadata": {
        "id": "xolQcJheskwP"
      },
      "source": [
        "#Loading data into PySpark\n",
        "We will use the read.csv module. The inferSchema parameter provided will enable Spark to automatically determine the data type for each column but it has to go over the data once. If you don’t want that to happen, then you can instead provide the schema explicitly in the schema parameter.\n"
      ]
    },
    {
      "cell_type": "code",
      "metadata": {
        "id": "EC7jBeYCn5pW"
      },
      "source": [
        "#Download this file https://raw.githubusercontent.com/besherh/BigDataManagement/main/SparkCSV/deaily_weather.csv (r-click then saveas)\n",
        "#then upload it to your colab session\n",
        "df = spark.read.csv(\"/content/daily_weather.csv\", header=True, inferSchema=True)"
      ],
      "execution_count": 13,
      "outputs": []
    },
    {
      "cell_type": "markdown",
      "metadata": {
        "id": "Tmw-YkjnpY-N"
      },
      "source": [
        "The first argument specifies the URL to the daily_weather.csv file, the second argument specifies the spark-csv format, the third argument says the first line in daily_weather.csv is the header, and the fourth argument says to infer the data types."
      ]
    },
    {
      "cell_type": "markdown",
      "metadata": {
        "id": "H7cLLyhlqmpn"
      },
      "source": [
        "The file daily_weather.csv is a comma-separated file that contains weather data. This data comes from a weather station located in San Diego, California. The weather station is equipped with sensors that capture weather-related measurements such as air temperature, air pressure, and relative humidity. Data was collected for a period of three years, from September 2011 to September 2014, to ensure that sufficient data for different seasons and weather conditions is captured.\n",
        "![Capture.JPG](data:image/jpeg;base64,/9j/4AAQSkZJRgABAQEAeAB4AAD/4RDgRXhpZgAATU0AKgAAAAgABAE7AAIAAAAHAAAISodpAAQAAAABAAAIUpydAAEAAAAOAAAQyuocAAcAAAgMAAAAPgAAAAAc6gAAAAgAAAAAAAAAAAAAAAAAAAAAAAAAAAAAAAAAAAAAAAAAAAAAAAAAAAAAAAAAAAAAAAAAAAAAAAAAAAAAAAAAAAAAAAAAAAAAAAAAAAAAAAAAAAAAAAAAAAAAAAAAAAAAAAAAAAAAAAAAAAAAAAAAAAAAAAAAAAAAAAAAAAAAAAAAAAAAAAAAAAAAAAAAAAAAAAAAAAAAAAAAAAAAAAAAAAAAAAAAAAAAAAAAAAAAAAAAAAAAAAAAAAAAAAAAAAAAAAAAAAAAAAAAAAAAAAAAAAAAAAAAAAAAAAAAAAAAAAAAAAAAAAAAAAAAAAAAAAAAAAAAAAAAAAAAAAAAAAAAAAAAAAAAAAAAAAAAAAAAAAAAAAAAAAAAAAAAAAAAAAAAAAAAAAAAAAAAAAAAAAAAAAAAAAAAAAAAAAAAAAAAAAAAAAAAAAAAAAAAAAAAAAAAAAAAAAAAAAAAAAAAAAAAAAAAAAAAAAAAAAAAAAAAAAAAAAAAAAAAAAAAAAAAAAAAAAAAAAAAAAAAAAAAAAAAAAAAAAAAAAAAAAAAAAAAAAAAAAAAAAAAAAAAAAAAAAAAAAAAAAAAAAAAAAAAAAAAAAAAAAAAAAAAAAAAAAAAAAAAAAAAAAAAAAAAAAAAAAAAAAAAAAAAAAAAAAAAAAAAAAAAAAAAAAAAAAAAAAAAAAAAAAAAAAAAAAAAAAAAAAAAAAAAAAAAAAAAAAAAAAAAAAAAAAAAAAAAAAAAAAAAAAAAAAAAAAAAAAAAAAAAAAAAAAAAAAAAAAAAAAAAAAAAAAAAAAAAAAAAAAAAAAAAAAAAAAAAAAAAAAAAAAAAAAAAAAAAAAAAAAAAAAAAAAAAAAAAAAAAAAAAAAAAAAAAAAAAAAAAAAAAAAAAAAAAAAAAAAAAAAAAAAAAAAAAAAAAAAAAAAAAAAAAAAAAAAAAAAAAAAAAAAAAAAAAAAAAAAAAAAAAAAAAAAAAAAAAAAAAAAAAAAAAAAAAAAAAAAAAAAAAAAAAAAAAAAAAAAAAAAAAAAAAAAAAAAAAAAAAAAAAAAAAAAAAAAAAAAAAAAAAAAAAAAAAAAAAAAAAAAAAAAAAAAAAAAAAAAAAAAAAAAAAAAAAAAAAAAAAAAAAAAAAAAAAAAAAAAAAAAAAAAAAAAAAAAAAAAAAAAAAAAAAAAAAAAAAAAAAAAAAAAAAAAAAAAAAAAAAAAAAAAAAAAAAAAAAAAAAAAAAAAAAAAAAAAAAAAAAAAAAAAAAAAAAAAAAAAAAAAAAAAAAAAAAAAAAAAAAAAAAAAAAAAAAAAAAAAAAAAAAAAAAAAAAAAAAAAAAAAAAAAAAAAAAAAAAAAAAAAAAAAAAAAAAAAAAAAAAAAAAAAAAAAAAAAAAAAAAAAAAAAAAAAAAAAAAAAAAAAAAAAAAAAAAAAAAAAAAAAAAAAAAAAAAAAAAAAAAAAAAAAAAAAAAAAAAAAAAAAAAAAAAAAAAAAAAAAAAAAAAAAAAAAAAAAAAAAAAAAAAAAAAAAAAAAAAAAAAAAAAAAAAAAAAAAAAAAAAAAAAAAAAAAAAAAAAAAAAAAAAAAAAAAAAAAAAAAAAAAAAAAAAAAAAAAAAAAAAAAAAAAAAAAAAAAAAAAAAAAAAAAAAAAAAAAAAAAAAAAAAAAAAAAAAAAAAAAAAAAAAAAAAAAAAAAAAAAAAAAAAAAAAAAAAAAAAAAAAAAAAAAAAAAAAAAAAAAAAAAAAAAAAAAAAAAAAAAAAAAAAAAAAAAAAAAAAAAAAAAAAAAAAAAAAAAAAAAAAAAAAAAAAAAAAAAAAAAAAAAAAAAAAAAAAAAAAAAAAAAAAAAAAAAAAAAAAAAAAAAAAAAAAAAAAAAAAAAAAAAAAAAAAAAAAAAAAAAAAAAAAAAAAAAAAAAAAAAAAAAAAAAAAAAAAAAAAAAAAAAAAAAAAAAAAAAAAAAAAAAAAAAAAAAAAAAAAAAAAAAAAAAAAAAAAAAAAAAAAAAAAAAAAAAAAAAAAAAAAAAAAAAAAAAAAAAAAAAAAAAAAAAAAAAAAAAAAAAAAAAAAAAAAAAAAAAAAAAAAAAAAAAAAAAAAAAAAAAAAAAAAAAAAAAAAAAAAAAAAAAAAAAAAAAAAAAAAAAAAAAAAAAAAAAAAAAAAAAAAAAAAAAAAAAAAAAAAAAAAAAAAAAAAAAAAAAAAAAAAAAAAAAAAAAAAAAAAAAAAAAAAAAAAAAAAAAAAAAAAAAAAAAAAAAAAAAAAAAAAAAAAAAAAAAAAAAAAAAAAAAAAAAAAAAAAAAAAAAAAAAAAAAAAAAAAAAAAAAAAAAAAAAAAAAAAAAAAAAAAAAAAAAAAAAAAAAAAAAAAAAAAAAAAAAAAAAAAAAAAAAAAAAAAAAAAAAAAAAAAAAAAAAAAAAAAAAAAAAAAAAAAAAAAAAAAAAAAAAAAAAAAAAAAAAAAAAAAAAAAAAAAAAAAAAAAAAAAAAAAAAAAAAAAAAAAAAAAAAAAAAAAAAAAAAAAAAAAAAAAAAAAAAAAAAAAAAAAAAAAAAAAAAAAAAAAAAAAAAAAAAAAAAAAAAAAAAAAAAAAAAAAAAAAAAAAAAAAAAAAAAAAAAAAAAAAAAAAAAAAAAAAAAAAAAAAAAAAAAAAAAAAAAAAAAAAAAAAAAAAAAAAAAAAAAAAAAAAAAAAAAAAAAAAAAAAAAAAAAAAAAAAAAAAAAAAAAAAAAAAAAAAAAAAAAAAAAAAAAAAAAAAAAAAAAAAAAAAAAAAAEJlc2hlcgAAAAWQAwACAAAAFAAAEKCQBAACAAAAFAAAELSSkQACAAAAAzAzAACSkgACAAAAAzAzAADqHAAHAAAIDAAACJQAAAAAHOoAAAAIAAAAAAAAAAAAAAAAAAAAAAAAAAAAAAAAAAAAAAAAAAAAAAAAAAAAAAAAAAAAAAAAAAAAAAAAAAAAAAAAAAAAAAAAAAAAAAAAAAAAAAAAAAAAAAAAAAAAAAAAAAAAAAAAAAAAAAAAAAAAAAAAAAAAAAAAAAAAAAAAAAAAAAAAAAAAAAAAAAAAAAAAAAAAAAAAAAAAAAAAAAAAAAAAAAAAAAAAAAAAAAAAAAAAAAAAAAAAAAAAAAAAAAAAAAAAAAAAAAAAAAAAAAAAAAAAAAAAAAAAAAAAAAAAAAAAAAAAAAAAAAAAAAAAAAAAAAAAAAAAAAAAAAAAAAAAAAAAAAAAAAAAAAAAAAAAAAAAAAAAAAAAAAAAAAAAAAAAAAAAAAAAAAAAAAAAAAAAAAAAAAAAAAAAAAAAAAAAAAAAAAAAAAAAAAAAAAAAAAAAAAAAAAAAAAAAAAAAAAAAAAAAAAAAAAAAAAAAAAAAAAAAAAAAAAAAAAAAAAAAAAAAAAAAAAAAAAAAAAAAAAAAAAAAAAAAAAAAAAAAAAAAAAAAAAAAAAAAAAAAAAAAAAAAAAAAAAAAAAAAAAAAAAAAAAAAAAAAAAAAAAAAAAAAAAAAAAAAAAAAAAAAAAAAAAAAAAAAAAAAAAAAAAAAAAAAAAAAAAAAAAAAAAAAAAAAAAAAAAAAAAAAAAAAAAAAAAAAAAAAAAAAAAAAAAAAAAAAAAAAAAAAAAAAAAAAAAAAAAAAAAAAAAAAAAAAAAAAAAAAAAAAAAAAAAAAAAAAAAAAAAAAAAAAAAAAAAAAAAAAAAAAAAAAAAAAAAAAAAAAAAAAAAAAAAAAAAAAAAAAAAAAAAAAAAAAAAAAAAAAAAAAAAAAAAAAAAAAAAAAAAAAAAAAAAAAAAAAAAAAAAAAAAAAAAAAAAAAAAAAAAAAAAAAAAAAAAAAAAAAAAAAAAAAAAAAAAAAAAAAAAAAAAAAAAAAAAAAAAAAAAAAAAAAAAAAAAAAAAAAAAAAAAAAAAAAAAAAAAAAAAAAAAAAAAAAAAAAAAAAAAAAAAAAAAAAAAAAAAAAAAAAAAAAAAAAAAAAAAAAAAAAAAAAAAAAAAAAAAAAAAAAAAAAAAAAAAAAAAAAAAAAAAAAAAAAAAAAAAAAAAAAAAAAAAAAAAAAAAAAAAAAAAAAAAAAAAAAAAAAAAAAAAAAAAAAAAAAAAAAAAAAAAAAAAAAAAAAAAAAAAAAAAAAAAAAAAAAAAAAAAAAAAAAAAAAAAAAAAAAAAAAAAAAAAAAAAAAAAAAAAAAAAAAAAAAAAAAAAAAAAAAAAAAAAAAAAAAAAAAAAAAAAAAAAAAAAAAAAAAAAAAAAAAAAAAAAAAAAAAAAAAAAAAAAAAAAAAAAAAAAAAAAAAAAAAAAAAAAAAAAAAAAAAAAAAAAAAAAAAAAAAAAAAAAAAAAAAAAAAAAAAAAAAAAAAAAAAAAAAAAAAAAAAAAAAAAAAAAAAAAAAAAAAAAAAAAAAAAAAAAAAAAAAAAAAAAAAAAAAAAAAAAAAAAAAAAAAAAAAAAAAAAAAAAAAAAAAAAAAAAAAAAAAAAAAAAAAAAAAAAAAAAAAAAAAAAAAAAAAAAAAAAAAAAAAAAAAAAAAAAAAAAAAAAAAAAAAAAAAAAAAAAAAAAAAAAAAAAAAAAAAAAAAAAAAAAAAAAAAAAAAAAAAAAAAAAAAAAAAAAAAAAAAAAAAAAAAAAAAAAAAAAAAAAAAAAAAAAAAAAAAAAAAAAAAAAAAAAAAAAAAAAAAAAAAAAAAAAAAAAAAAAAAAAAAAAAAAAAAAAAAAAAAAAAAAAAAAAAAAAAAAAAAAAAAAAAAAAAAAAAAAAAAAAAAAAAAAAAAAAAAAAAAAAAAAAAAAAAAAAAAAAAAAAAAAAAAAAAAAAAAAAAAAAAAAAAAAAAAAAAAAAAAAAAAAAAAAAAAAAAAAAAAAAAAAAAAAAAAAAAAAAAAAAAAAAAAAAAAAAAAAAAAAAAAAAAAAAAAAAAAAAAAAAAAAAAAAAAAAAAAAAAAAAAAAAAAAAAAAAAAAAAAAAAAAAAAAAAAAAAAAAAAAAAAAAAAAAAAAAAAAAAAAAAAAAAAAAAAAAAAAAAAAAAAAAAAAAAAAAAAAAAAAAAAAAAAAAAAAAAAAAAAAAAAAAAAAAAAAAAAAAAAAAAAAAAAAAAAAAAAAAAAAAAAAAAAAAAAAAAAAAAAAAAAAAAAAAAAAAAAAAAAAAAAAAAAAAAAAAAAAAAAAAAAAAAAAAAAAAAAAAAAAAAAAAAAAAAAAAAAAAAAAAAAAAAAAAAAAAAAAAAAAAAAAAAAAAAAAAAAAAAAAAAAAAAAAAAAAAAAAAAAAAAAAAAAAAAAAAAAAAAAAAAAAAAAAAAAAAAAAAAAAAAAAAAAAAAAAAAAAAAAAAAAAAAAAAAAAAAAAAAAAAAAAAAAAAAAAAAAAAAAAAAAAAAAAAAAAAAAAAAAAAAAAAAAAAAAAAAAAAAAAAAAAAAAAAAAAAAAAAAAAAAAAAAAAAAAAAAAAAAAAAAAAAAAAAAAAAAAAAAAAAAAAAAAAAAAAAAAAAAAAAAAAAAAAAAAAAAAAAAAAAAAAAAAAAAAAAAAAAAAAAAAAAAAAAAAAAAAAAAAAAAAAAAAAAAAAAAAAAAAAAAAAAAAAAAAAAAAAAAAAAAAAAAAAAAAAAAAAAAAAAAAAAAAAAAAAAAAAAAAAAAAAAAAAAAAAAAAAAAAAAAAAAAAAAAyMDIxOjAzOjE1IDExOjM1OjQ0ADIwMjE6MDM6MTUgMTE6MzU6NDQAAABCAGUAcwBoAGUAcgAAAP/hCxlodHRwOi8vbnMuYWRvYmUuY29tL3hhcC8xLjAvADw/eHBhY2tldCBiZWdpbj0n77u/JyBpZD0nVzVNME1wQ2VoaUh6cmVTek5UY3prYzlkJz8+DQo8eDp4bXBtZXRhIHhtbG5zOng9ImFkb2JlOm5zOm1ldGEvIj48cmRmOlJERiB4bWxuczpyZGY9Imh0dHA6Ly93d3cudzMub3JnLzE5OTkvMDIvMjItcmRmLXN5bnRheC1ucyMiPjxyZGY6RGVzY3JpcHRpb24gcmRmOmFib3V0PSJ1dWlkOmZhZjViZGQ1LWJhM2QtMTFkYS1hZDMxLWQzM2Q3NTE4MmYxYiIgeG1sbnM6ZGM9Imh0dHA6Ly9wdXJsLm9yZy9kYy9lbGVtZW50cy8xLjEvIi8+PHJkZjpEZXNjcmlwdGlvbiByZGY6YWJvdXQ9InV1aWQ6ZmFmNWJkZDUtYmEzZC0xMWRhLWFkMzEtZDMzZDc1MTgyZjFiIiB4bWxuczp4bXA9Imh0dHA6Ly9ucy5hZG9iZS5jb20veGFwLzEuMC8iPjx4bXA6Q3JlYXRlRGF0ZT4yMDIxLTAzLTE1VDExOjM1OjQ0LjAyNzwveG1wOkNyZWF0ZURhdGU+PC9yZGY6RGVzY3JpcHRpb24+PHJkZjpEZXNjcmlwdGlvbiByZGY6YWJvdXQ9InV1aWQ6ZmFmNWJkZDUtYmEzZC0xMWRhLWFkMzEtZDMzZDc1MTgyZjFiIiB4bWxuczpkYz0iaHR0cDovL3B1cmwub3JnL2RjL2VsZW1lbnRzLzEuMS8iPjxkYzpjcmVhdG9yPjxyZGY6U2VxIHhtbG5zOnJkZj0iaHR0cDovL3d3dy53My5vcmcvMTk5OS8wMi8yMi1yZGYtc3ludGF4LW5zIyI+PHJkZjpsaT5CZXNoZXI8L3JkZjpsaT48L3JkZjpTZXE+DQoJCQk8L2RjOmNyZWF0b3I+PC9yZGY6RGVzY3JpcHRpb24+PC9yZGY6UkRGPjwveDp4bXBtZXRhPg0KICAgICAgICAgICAgICAgICAgICAgICAgICAgICAgICAgICAgICAgICAgICAgICAgICAgICAgICAgICAgICAgICAgICAgICAgICAgICAgICAgICAgICAgICAgICAgICAgICAgIAogICAgICAgICAgICAgICAgICAgICAgICAgICAgICAgICAgICAgICAgICAgICAgICAgICAgICAgICAgICAgICAgICAgICAgICAgICAgICAgICAgICAgICAgICAgICAgICAgICAgCiAgICAgICAgICAgICAgICAgICAgICAgICAgICAgICAgICAgICAgICAgICAgICAgICAgICAgICAgICAgICAgICAgICAgICAgICAgICAgICAgICAgICAgICAgICAgICAgICAgICAKICAgICAgICAgICAgICAgICAgICAgICAgICAgICAgICAgICAgICAgICAgICAgICAgICAgICAgICAgICAgICAgICAgICAgICAgICAgICAgICAgICAgICAgICAgICAgICAgICAgIAogICAgICAgICAgICAgICAgICAgICAgICAgICAgICAgICAgICAgICAgICAgICAgICAgICAgICAgICAgICAgICAgICAgICAgICAgICAgICAgICAgICAgICAgICAgICAgICAgICAgCiAgICAgICAgICAgICAgICAgICAgICAgICAgICAgICAgICAgICAgICAgICAgICAgICAgICAgICAgICAgICAgICAgICAgICAgICAgICAgICAgICAgICAgICAgICAgICAgICAgICAKICAgICAgICAgICAgICAgICAgICAgICAgICAgICAgICAgICAgICAgICAgICAgICAgICAgICAgICAgICAgICAgICAgICAgICAgICAgICAgICAgICAgICAgICAgICAgICAgICAgIAogICAgICAgICAgICAgICAgICAgICAgICAgICAgICAgICAgICAgICAgICAgICAgICAgICAgICAgICAgICAgICAgICAgICAgICAgICAgICAgICAgICAgICAgICAgICAgICAgICAgCiAgICAgICAgICAgICAgICAgICAgICAgICAgICAgICAgICAgICAgICAgICAgICAgICAgICAgICAgICAgICAgICAgICAgICAgICAgICAgICAgICAgICAgICAgICAgICAgICAgICAKICAgICAgICAgICAgICAgICAgICAgICAgICAgICAgICAgICAgICAgICAgICAgICAgICAgICAgICAgICAgICAgICAgICAgICAgICAgICAgICAgICAgICAgICAgICAgICAgICAgIAogICAgICAgICAgICAgICAgICAgICAgICAgICAgICAgICAgICAgICAgICAgICAgICAgICAgICAgICAgICAgICAgICAgICAgICAgICAgICAgICAgICAgICAgICAgICAgICAgICAgCiAgICAgICAgICAgICAgICAgICAgICAgICAgICAgICAgICAgICAgICAgICAgICAgICAgICAgICAgICAgICAgICAgICAgICAgICAgICAgICAgICAgICAgICAgICAgICAgICAgICAKICAgICAgICAgICAgICAgICAgICAgICAgICAgICAgICAgICAgICAgICAgICAgICAgICAgICAgICAgICAgICAgICAgICAgICAgICAgICAgICAgICAgICAgICAgICAgICAgICAgIAogICAgICAgICAgICAgICAgICAgICAgICAgICAgICAgICAgICAgICAgICAgICAgICAgICAgICAgICAgICAgICAgICAgICAgICAgICAgICAgICAgICAgICAgICAgICAgICAgICAgCiAgICAgICAgICAgICAgICAgICAgICAgICAgICAgICAgICAgICAgICAgICAgICAgICAgICAgICAgICAgICAgICAgICAgICAgICAgICAgICAgICAgICAgICAgICAgICAgICAgICAKICAgICAgICAgICAgICAgICAgICAgICAgICAgICAgICAgICAgICAgICAgICAgICAgICAgICAgICAgICAgICAgICAgICAgICAgICAgICAgICAgICAgICAgICAgICAgICAgICAgIAogICAgICAgICAgICAgICAgICAgICAgICAgICAgICAgICAgICAgICAgICAgICAgICAgICAgICAgICAgICAgICAgICAgICAgICAgICAgICAgICAgICAgICAgICAgICAgICAgICAgCiAgICAgICAgICAgICAgICAgICAgICAgICAgICAgICAgICAgICAgICAgICAgICAgICAgICAgICAgICAgICAgICAgICAgICAgICAgICAgICAgICAgICAgICAgICAgICAgICAgICAKICAgICAgICAgICAgICAgICAgICAgICAgICAgICAgICAgICAgICAgICAgICAgICAgICAgICAgICAgICAgICAgICAgICAgICAgICAgICAgICAgICAgICAgICAgICAgICAgICAgIAogICAgICAgICAgICAgICAgICAgICAgICAgICAgICAgICAgICAgICAgICAgICAgICAgICAgICAgICAgICAgICAgICAgICAgICAgICAgICAgICAgICAgICAgICAgICAgICAgICAgCiAgICAgICAgICAgICAgICAgICAgICAgICAgICA8P3hwYWNrZXQgZW5kPSd3Jz8+/9sAQwAHBQUGBQQHBgUGCAcHCAoRCwoJCQoVDxAMERgVGhkYFRgXGx4nIRsdJR0XGCIuIiUoKSssKxogLzMvKjInKisq/9sAQwEHCAgKCQoUCwsUKhwYHCoqKioqKioqKioqKioqKioqKioqKioqKioqKioqKioqKioqKioqKioqKioqKioqKioq/8AAEQgCtAMFAwEiAAIRAQMRAf/EAB8AAAEFAQEBAQEBAAAAAAAAAAABAgMEBQYHCAkKC//EALUQAAIBAwMCBAMFBQQEAAABfQECAwAEEQUSITFBBhNRYQcicRQygZGhCCNCscEVUtHwJDNicoIJChYXGBkaJSYnKCkqNDU2Nzg5OkNERUZHSElKU1RVVldYWVpjZGVmZ2hpanN0dXZ3eHl6g4SFhoeIiYqSk5SVlpeYmZqio6Slpqeoqaqys7S1tre4ubrCw8TFxsfIycrS09TV1tfY2drh4uPk5ebn6Onq8fLz9PX29/j5+v/EAB8BAAMBAQEBAQEBAQEAAAAAAAABAgMEBQYHCAkKC//EALURAAIBAgQEAwQHBQQEAAECdwABAgMRBAUhMQYSQVEHYXETIjKBCBRCkaGxwQkjM1LwFWJy0QoWJDThJfEXGBkaJicoKSo1Njc4OTpDREVGR0hJSlNUVVZXWFlaY2RlZmdoaWpzdHV2d3h5eoKDhIWGh4iJipKTlJWWl5iZmqKjpKWmp6ipqrKztLW2t7i5usLDxMXGx8jJytLT1NXW19jZ2uLj5OXm5+jp6vLz9PX29/j5+v/aAAwDAQACEQMRAD8A+jfIT1k/7+N/jR5Cesn/AH8b/GpKKAI/IT1k/wC/jf40eQnrJ/38b/GszxVeanp3hPUr3QYoZtQtoGmhinUsjleSuAQckAgc9cVyw+Ilzqn/AAhUHh+G3e68Q/v7kSqzLbwIuZcYYYbd8oJJGQRg0Ad55Cesn/fxv8aPIT1k/wC/jf41yVr8StPn8WQ6Dc6NrunyXMrxWt1fWBhguGUE/IxOTkDIyB74rEvPjLYz+G9Y1LS9N1a3i0zAe+udOWWDf5yRmMATJub5843DA57bSAekeQnrJ/38b/GjyE9ZP+/jf41yWv8AxK0/w3rQsdT0bXVthJHE+qLYH7IhcgDMhIzjIzgH2zWHe/F0aF4y8R6ZrWl3lxYaVJAI7jTbNpPJR49zPOxbAGSMYA78GgD0nyE9ZP8Av43+NHkJ6yf9/G/xrh5/iRBYeLNWiv5LddBsdHh1JLlEYyP5jYA64IORgYByeta/hTxxYeLJru2hsdS0u9tQjyWeqW3kSlG+7IFycqSCM57e4yAdD5Cesn/fxv8AGjyE9ZP+/jf41JRQBH5Cesn/AH8b/GjyE9ZP+/jf41JRQBH5Cesn/fxv8aPIT1k/7+N/jUlFAEfkJ6yf9/G/xo8hPWT/AL+N/jUlFAEfkJ6yf9/G/wAaPIT1k/7+N/jUlFAEfkJ6yf8Afxv8aPIT1k/7+N/jUlFAEfkJ6yf9/G/xo8hPWT/v43+NSUUAR+QnrJ/38b/Go5IlV4gGkwzYP7xvQn19qsVHL/rIf98/+gmgA8hPWT/v43+NHkJ6yf8Afxv8akooAj8hPWT/AL+N/jR5Cesn/fxv8a5v4keJrzwf8PtS13TI4Jbq18rYlwpZDulRDkAg9GPesWz8V+MNC8VaXpfj200RrbV2eK2utIeUCKRV3YkEnUEdMdKAO+8hPWT/AL+N/jR5Cesn/fxv8a5DQ/ijomv69Fptra6lBHdNItlf3Nrstr0ofmET5+Y8E8gdD34p3hn4l6d4r1EQabo+uJZv5nk6pPYFbObYSDiUE4zg43AdMcHigDrfIT1k/wC/jf40eQnrJ/38b/GuO0L4q6F4g1+DTbS21OGO8Mq2N/cWuy2vTGfmET55PBPIHQjrgHIPxlsdR0KTUdK03VrW3jnjiN3d6cskLM0gQouJly3OeG4HY9KAPSPIT1k/7+N/jR5Cesn/AH8b/GuE1f4w6Ho2sajYXGma1KNLmSK+urezEkNuGxtd2DcKcntk4OBVS7+K7p4s17SotIvFtNM017tL8WplTKxNJvYb1HlkABRkbj3XPAB6N5Cesn/fxv8AGjyE9ZP+/jf41w918VdM07TdJLWWqavf32mx6jJb6VY73ihZQfMdN5CLk4xubHqeCZL/AOLOg2i6SbK11PVzrFu89mmm2vmvIEOGXbkHcMHIxxtOSKAO08hPWT/v43+NHkJ6yf8Afxv8azfC/iSw8XeG7TW9J8z7LdAlVlXa6kMVIIBPIIPc1rUAR+QnrJ/38b/GjyE9ZP8Av43+NSUUAR+QnrJ/38b/ABo8hPWT/v43+NSUUAR+QnrJ/wB/G/xo8hPWT/v43+NSUUAR+QnrJ/38b/GjyE9ZP+/jf41JRQBH5Cesn/fxv8aPIT1k/wC/jf41JRQBH5Cesn/fxv8AGjyE9ZP+/jf41JRQBH5Cesn/AH8b/GjyE9ZP+/jf41JRQBH5Cesn/fxv8aPIT1k/7+N/jUlFAEfkJ6yf9/G/xo8hPWT/AL+N/jUlFAEfkJ6yf9/G/wAajmiVLeRlaQFVJB8xvT61YqO5/wCPWX/cP8qADyE9ZP8Av43+NHkJ6yf9/G/xqSigCPyE9ZP+/jf40eQnrJ/38b/GpK8yj+JOsP8AAA+OTbWP9p7SfK8t/J4uTF03bvu8/e6/lQB6T5Cesn/fxv8AGjyE9ZP+/jf41wuvfF3SPDupXmn3el6xeXFjDFPcmxtVkREdd28sWG1RkAlsckYzziTXPiRDpOq3S2sM2owReHv7ZjggtTulUyhA3ml+Bg5K+XwMtu420Adt5Cesn/fxv8aPIT1k/wC/jf41z3gnxY3ibwPa67qNpLpzNFvn8+IxocKCzpknMZ6gk8isrSPi3oWsapFZw2GsW6XYk+wXdzZGOG/KckQtnkkDIBA9OCQKAO28hPWT/v43+NHkJ6yf9/G/xrhvhl451Xxy+sXGoWDWNtaXJit42smjONzYBkMhDuoADAKuCR1zxh6T8Xb5vEnjKz1u2tIrPRBeNZSRIytP9nfaVYliC2GToB1P4AHqvkJ6yf8Afxv8aPIT1k/7+N/jXmHhT4uXE/gq61bxdY51CPV20yDT9It2eWdwiHaqMxyRuYnkDA9cZ6RPiPp8/hf+2bHR9cvmW5a0m0+1sGe6t5V+8siA4UgYJye4oA6vyE9ZP+/jf40eQnrJ/wB/G/xriW+Lehjw3aatFYavPJdXj2SabFabrsTJ95Cm7GQMHr3HfIGifH1jHZ6JPdabq1m+s3osore6tfJlikOf9YrEYXjqu6gDpfIT1k/7+N/jR5Cesn/fxv8AGuO1T4qaJpNnqlzc2uoMml6iunTCOJGLSMMgqN/K/kfaoL74t6Xp8Vt9o0LxD9okt2uri0SwzLYQhivmTru+QHBI5JwMnGRkA7jyE9ZP+/jf40eQnrJ/38b/ABptndwX9jBeWcqzW9xGssUi9HRhkEfUGpqAI/IT1k/7+N/jR5Cesn/fxv8AGpKKAI/IT1k/7+N/jR5Cesn/AH8b/GpKKAI/IT1k/wC/jf40eQnrJ/38b/GpKKAI/IT1k/7+N/jR5Cesn/fxv8akooAj8hPWT/v43+NHkJ6yf9/G/wAakooAj8hPWT/v43+NHkJ6yf8Afxv8akooAj8hPWT/AL+N/jR5Cesn/fxv8akooAj8hPWT/v43+NHkJ6yf9/G/xqSigCPyE9ZP+/jf40eQnrJ/38b/ABqSigCKEbWlXLEK/GST/CPWili/1k3++P8A0EUUASUUUUAFed+AfhlJ4Q8V6tqVzcxz2pDQaRChJ+y27yNIykEAA7iOmeh9cD0SigDyHR/hj4uh8UaJqmu6jo9++lXryNeASm7u4m3f6yRgeVyAsYwoBPPHN6b4aaxJ8FtU8ILc2P8AaF5dtPHKZH8oKbhZcE7c52gjp1/OvUKKAPIfGHwx8W+JNX1Vv7R0e6spriO5sXvhK1xbbSuYUOCsSHByVBLEDI54sa/4A8aXWu+K20TUNFi0zxL5UUy3QkaWONYtjMuFwG68HIIPUGvVqKAPLNX+EVzqZ1W0S+hjsbnQrXTbdzuMgkgdWVmXGNp2Doc9eKv/AAx+HU/g66vby/0/RLO4nQRINJlu5AVzk7jPIR1HQL+PavRKKACiiigAooooAKKKKACiiigAooooAKKKKACiiigAqOX/AFkP++f/AEE1JUcv+sh/3z/6CaAJKKKKAOX+JHhq88YfD7UtC0ySCK6uvK2PcMVQbZUc5IBPRT2rDt/CXi/xF4k03UPH13oqWulGSS3ttHWX97I67cuZOm0dMV6JRQB474I+DFz4X8W215d2+hzWti7vDfRvd/bJTzt3J5giXg84BHGMc5FvRvhlr9v8Qv7buv7A0uzPmLcDQhcRNeoV2qskTMY1HRjjPzDuea9XooA878G+E/G/hufTtIudb0z/AIRrTDJ5f2eA/artSSUWTcCqAZ6oc8Y5zkUovhnrKfB+z8KG5sft0F+LlpBI/lFROZMA7M5wfTrXqNFAHh7aJ4p8R+KviDo/h680y30++vY4b43sbmSNTGMtFt4JIyCG44GCMk10epfDvXl1vWDolxpv9maroH9lyfamkEyusLpGRtBXGSuTzxnAz19NooA8wTwJ4v0CTTNQ8I6ho/29NEt9KvotQWQxZiUASRsoznORgjGOSPS14d+Gt14c1rwrLBeQ3Frotlcw3DPlZJJJmLkqoGNu5j1PAx1r0WigDl/h34ZvPCPg+PStSkglnWeaUtbsSuHkLDkgHOD6V1FFFABRRRQAUUUUAFFFFABRRRQAUUUUAFFFFABRRRQAUUUUAFFFFABUdz/x6y/7h/lUlR3P/HrL/uH+VAElFFFABXjp+GHjRfCreBotV0X/AIRRp8i4Mcv21YjL5pXGNmd2e/49q9iooA8+1TwDqV5qvjW4t5rRYte0uKytFZ2zGyxlMv8ALwMntk1BD8OdT/tKOWe5tBD/AMIaPD77WYt5+clwNo+THfIPtXpFFAHJ+FPDeq2nw4Tw14nksjIlq1kH08uV8nZsBJcA7sZzxiuc0L4f+K0v/D9n4k1PSpdE8NSGSxNlG63FyVG2Pzd3yrhTk7SfTn7w9PooA5fwD4ZvPC2jX1pqEkEklxqM92hgYkBJGyAcgc+tcHqnwZ1TVJZzJeWcYuPEt1qEuyRwWsZzHuj+79/92Pl+7/tV7JRQB4/rHwc1DU9E1SEy6bLcyeJLjV7WCd5RBJDKFXy5Cm11YAZ+XPTGeciWL4X+ItL8H2VloDaFZXQvnuL/AE4SXZsbtCmwI5d2dxgDKkBTnBHGW9booA8lg+F2t2fw/vNAW38MajJNqkt0qX0EywiJ1ABTyyGhccjC5wDgNTk+GXie18E6La2uq2EmsaRqw1C3iuGme0iQcLArHMmwDpnnqPevWKKAPJE+GPie40vUBqd7pT319r8GrO0LSLGqryyAFScjoOuQBk5qT4i/Ca78UeMF1zTYNHvRLbrDPb6vJcxiMqeHQwMCcg4Ibpjvnj1eigClo2mRaNodlptuEWO0gSFQgYKAoxwGZiB6AsT7mrtFFABRRRQAUUUUAFFFFABRRRQAUUUUAFFFFABRRRQAUUUUAFFFFAEcX+sm/wB8f+giiiL/AFk3++P/AEEUUASUUUUAFFFFABRRRQAUUUUAFFFFABRRRQAUUUUAFFFFABRRRQAUUUUAFFFFABRRRQAVHL/rIf8AfP8A6CakqOX/AFkP++f/AEE0ASUUUUAFFFFABRRRQAUUUUAFFFFABRRRQAUUUUAFFFFABRRRQAUUUUAFFFFABRRRQAUUUUAFFFFABRRRQAUUUUAFR3P/AB6y/wC4f5VJUdz/AMesv+4f5UASUUUUAFFFFABRRRQAUUUUAFFFFABRRRQAUUUUAFFFFABRRRQAUUUUAFFFFABRRRQAUUUUAFFFFABRRRQAUUUUAFFFFABRRRQBHF/rJv8AfH/oIooi/wBZN/vj/wBBFFAElFR+QnrJ/wB/G/xo8hPWT/v43+NAElFR+QnrJ/38b/GjyE9ZP+/jf40ASUVH5Cesn/fxv8aPIT1k/wC/jf40ASUVH5Cesn/fxv8AGjyE9ZP+/jf40ASUVH5Cesn/AH8b/GjyE9ZP+/jf40ASUVH5Cesn/fxv8aPIT1k/7+N/jQBJRUfkJ6yf9/G/xo8hPWT/AL+N/jQBJRUfkJ6yf9/G/wAaPIT1k/7+N/jQBJRUfkJ6yf8Afxv8aPIT1k/7+N/jQBJRUfkJ6yf9/G/xo8hPWT/v43+NAElFR+QnrJ/38b/GjyE9ZP8Av43+NAElFR+QnrJ/38b/ABo8hPWT/v43+NAElRy/6yH/AHz/AOgmjyE9ZP8Av43+NRyQqJIuX5f/AJ6N/dPvQBYoqPyE9ZP+/jf40eQnrJ/38b/GgCSio/IT1k/7+N/jR5Cesn/fxv8AGgCSio/IT1k/7+N/jR5Cesn/AH8b/GgCSio/IT1k/wC/jf40eQnrJ/38b/GgCSio/IT1k/7+N/jR5Cesn/fxv8aAJKKj8hPWT/v43+NHkJ6yf9/G/wAaAJKKj8hPWT/v43+NHkJ6yf8Afxv8aAJKKj8hPWT/AL+N/jR5Cesn/fxv8aAJKKj8hPWT/v43+NHkJ6yf9/G/xoAkoqPyE9ZP+/jf40eQnrJ/38b/ABoAkoqPyE9ZP+/jf40eQnrJ/wB/G/xoAkoqPyE9ZP8Av43+NHkJ6yf9/G/xoAkoqPyE9ZP+/jf40eQnrJ/38b/GgCSio/IT1k/7+N/jR5Cesn/fxv8AGgCSio/IT1k/7+N/jR5Cesn/AH8b/GgCSio/IT1k/wC/jf40eQnrJ/38b/GgCSo7n/j1l/3D/KjyE9ZP+/jf41HcQqLaUgvwh6yN6fWgCxRUfkJ6yf8Afxv8aPIT1k/7+N/jQBJRUfkJ6yf9/G/xo8hPWT/v43+NAElFR+QnrJ/38b/GjyE9ZP8Av43+NAElFR+QnrJ/38b/ABo8hPWT/v43+NAElFR+QnrJ/wB/G/xo8hPWT/v43+NAElFR+QnrJ/38b/GjyE9ZP+/jf40ASUVH5Cesn/fxv8aPIT1k/wC/jf40ASUVH5Cesn/fxv8AGjyE9ZP+/jf40ASUVH5Cesn/AH8b/GjyE9ZP+/jf40ASUVH5Cesn/fxv8aPIT1k/7+N/jQBJRUfkJ6yf9/G/xo8hPWT/AL+N/jQBJRUfkJ6yf9/G/wAaPIT1k/7+N/jQBJRUfkJ6yf8Afxv8aPIT1k/7+N/jQBJRUfkJ6yf9/G/xo8hPWT/v43+NAElFR+QnrJ/38b/GjyE9ZP8Av43+NAElFR+QnrJ/38b/ABo8hPWT/v43+NAElFR+QnrJ/wB/G/xo8hPWT/v43+NAElFR+QnrJ/38b/GjyE9ZP+/jf40AEX+sm/3x/wCgiikgUK0wGcb+5z/CKKAJaKKKAKer6nDouh32qXSyPBY28lzIsYBYqiliACQM4HqKwD8QbGKzv7m90zUrMWmnHU0SeOPdc24zlkCucHgfK+0jcOOuNfxPpk2teEdY0u1aNJ76xmto2kJChnjKgkgE4yfQ1z+u+CbvWrmcG5hhhn8OzaSW5LLK7KQ2MYKjae4NAGpq/jPT9Fkukuobpza6W+qP5aKcxKcFRlh83t096zn+IsKSzwjw7rjTw2gvjCIoQWtjn96CZQOq42Eh+fu8HGZqXg/xNry6nJqP9k2st1oEulRRwXEki+YxBDsxjXCnngAkY/izxt3Xhm8n8QX18ksAiuNCGnICx3CQO5yePu/MOevXigCnJ4/aLxDf28OmXWpafBpttqEUtjEC6xv5hdm3uuRhUwqgufmwD20brxvZRb20+xvtVghtku7i4skQpBE67lY72UsSoLbUDNjHHIzi2nhfxRpLTDTTpMqXOj2mnsZ5pFMUkSSKZAAh3r8/3Tt3eq96h+GX9m3WbLR/D+uxPZW9sH1qL57d4YliDLiN96lVUlMryPvc8AHVW3i61v8AxD/ZWm2V5ebYIrmS7iEYhjjlBKMSzhjnaeACfat+uf0Pw/PpXiDUbxzai3uLS0t4o7ZDGEMIkDYTkKvzjABOAK6CgAooooAKKKKACiiigAooooAKKKKACiiigAooooAKjl/1kP8Avn/0E1JUcv8ArIf98/8AoJoAkooooAoa1rFvoWmG+u0keITQw4iALbpZVjXqRxlxn2z16Vlav4503RptSiube8kbTmtUlEMasXNw5VNo3ZOCOf0zVrxdo9xr3hmexsZIo7nzYZ4TNnYXilSVVYjkAlMEgHGc4PSuZufB2v6pf6pfXx023lvrrTJkhhnkkWNbWbe4LlF3EjkfKOTg9NxANW48bRrZ3BezutNu7S/tbSe2u4Y5WHnugUjy5dpBD9Qx2kHKnGCSfEGwS9hj/s3U3s7i/GnQagsSGCWffsIHz7sBt3zFQp2HBPGamseDNQ1DVtXuoZrZUvbzTJ4w7sCFtpAzg/L1IHHX3xWPrml6xoFtomlj7FJo6eJLeSK48x/tBV7neIzHt2jaWI37jkKPlBJwAdd/wmWnizS58m52Pqx0gDaufOExi3fe+5uBOeuO3amJ41s3vkT7DfLYS3f2KLVCifZ5Jt2zaPn8zBcFAxTaT0JBBOHJ4P1/z0som03+zo/EI1lbhppPOdTP5rReXs2ggs2G3HO0DAzkN0j4etpGoxxJoXhi4t4b0zx6tcW2688stvClNgHmAnaJPM6ANtz8tAHU6/4kh0CXT4ZLO7vZ9RnNvbxWqoWZwjPzuZQBhTyTgd8DJqtYeMrG/msIRbXcE97dz2fkyou6CWFWZ1chiOiHBUsDkVY1jR7jUPEHh++heNYtMupZpg5IZla3kjG3jk5cdccZ+lc6vg/WbK8TUbBrGe6g1u61COCaZ40kimjKbS4QlWAbP3WHFAGlN4+sUkiit9O1G7uJtRuNOihhSPc8sIYsfmcALhTgkj3xTdN+IFlqU1mBpep28F1dtYi5njjCJcqGzEwDls/IRuAKZ43VR0bwdq1nqWn3l/NZF4dXvdQnWFnxtnjdQq5XkgtznHA/Cn2Xg3ULfT7GB5rYtb+IZtUchmwYnklYKPl+9iQcdOvNADvDXj86nbWX9rabdW32y6ltY71YlFs8qu4CD5y4JC4yVClgQD0FaNl41s726tFFjfQ2V/IYrLUZUQQXLjJAXDl1yFYgsqg44PIzi6b4R182WmaRq7aaNO0++a9M9vLI0suHZ0j2FAFwWGW3HOMY5zUfhj4fv4fm0+3/ALD8MNHYP8ur/Zs3kyDO3K7Bsk6ZfzG6H5eeADp/DfiWPxPaPd2mnXttaAlYp7kRqsxDFW2hXLcFSMkAHtmuc0jx9qE93qbanpcyoupNp2nWFvDGbi4kXJYb/PK/KqlmJCKB0Zq6TwlpFxoPhe0028eN5od+5oiSpy7MMZAPQ+lYCeDtVs5jqFnLZyX1vrlzqNvDLIyxSxTIUKOwUlG2sTkBhkAcg0AXZPiBYpb2+3TdRkvZr9tONgqR+dFOEZ9rZcJgquQwYrhgc4yRs6prcOkaXHd3VvcGSZ0iitI1VpZJX6RjnbnPfdtGCScDNc1b+DtUfXLPWb6a1F22sNqN3FE7FI0Fq1ukcZKguQNmSQufmOBwK1fGnho+J9Ht4UjtJprO6S7igvo98ExUEFJBg/KQxGcHBwcHGKAHR+Lo5Le6A0jVP7QtZY4pdNESNMDIModyuY9pGTuL7RggkEYqunjyx+y3ZuNP1C3vbW8SybTnjRp3mdQyKu1yhyrZzuwACSQBWRP4K1F9Emg07S9C0Uy3UbzWGlSy2y3UKqwaOS5jRW5LZGI+MYOdxIg0/wCH+pWL3l3bQaNYy/2pb6nZ2VnuS3QpD5TREhBjILfOFPJ3bf4aANTUPHF3bX2jwxaFfpJeXk1rNYzRILglYWdTGRJ5ZBIHzbiuAwyCDjodD1qDXtNN3bxTQFJpIJYJ1AkikRirK2CRkEdQSPesg6Tr2pa5oupat/Z0A0+6mlNvbSSPtjaBowN7KN7bmyflQAcc4ybvhfRbjRINTS6eJzd6nc3ieWScJI5ZQcgc46/zoAzrf4gWd1p4vYtJ1QxTXX2OzykW69m3MCkY8zIxscln2rhSc4qzZeNrC71C2sJbW8s72a6ktJLe4VA1vKkfmhX2sR8yfMpUsCO+eKzYfB+pWnhrRYreW0bU9G1CS8jV3YQzB2lBQttyuUlPzbTggcEVU1jwPrWraHq1yLqztfEN9exXdvsd2gtfLURhd20M2Y9+W2jl+gAoA39G8a6Xrtjpl1p6XDLqc8sMKsgDL5YYl254UhQQRnO9eOeOhrk/D3g19C8T3V4s0baetukdlAM7o2KRrKT258iMjHq3rXWUAFFFFABRRRQAUUUUAFR3P/HrL/uH+VSVHc/8esv+4f5UASUUUUAFeaaX8Tr+8+G+rapd2dvba5p9ib1ICreTPEwJjlUZyVJBUjOQyn2r0uvNNY+GV/qHwzsNItLu2ttdsrNrUXILGKWNwRJExxkoeGHGQyqaANvxt4vvfDtxAml2sV0LeJr/AFMOGJis0ZVZlwR83JI68I3FdejrJGrxsHRgCrKcgj1Fcl/wg0OqazrGpeIpZ3kvXEMMdlqFxAgtVXCo4Rl3EkyMc5Hz4FafhDS7/Q/DFtpWqTx3ElnuhimRy2+EMfL3ZAwwTaCORkdaANuiiigAooooAKKKKACiiigAooooAKKKKACiiigAooooAKKKKACiiigAooooAKKKKACiiigAooooAKKKKAI4v9ZN/vj/ANBFFEX+sm/3x/6CKKAJKKKKACiiigAooooAKKKKACiiigAooooAKKKKACiiigAooooAKKKKACiiigAooooAKjl/1kP++f8A0E1JUcv+sh/3z/6CaAJKKKKACiiigAooooAKKKKACiiigAooooAKKKKACiiigAooooAKKKKACiiigAooooAKKKKACiiigAooooAKKKKACo7n/j1l/wBw/wAqkqO5/wCPWX/cP8qAJKKKKACiiigAooooAKKKKACiiigAooooAKKKKACiiigAooooAKKKKACiiigAooooAKKKKACiiigAooooAKKKKACiiigAooooAji/1k3++P8A0EUURf6yb/fH/oIooAkooooAKKKKACiiigAooooAKKKKACiiigAooooAKKKKACiiigAooooAKKKKACiiigAqOX/WQ/75/wDQTUlRy/6yH/fP/oJoAkooooAKKKKACiiigAooooAKKKKACiiigAooooAKKKKACiiigAooooAKKKKACiiigAooooAKKKKACiiigAooooAKjuf+PWX/AHD/ACqSo7n/AI9Zf9w/yoAkooooAKKKKACiiigAooooAKKKKACiiigAooooAKKKKACiiigAooooAKKKKACiiigAooooAKKKKACiiigAooooAKKKKACiiigCOL/WTf74/wDQRRRF/rJv98f+giigA8hPWT/v43+NHkJ6yf8Afxv8akooAj8hPWT/AL+N/jR5Cesn/fxv8akooAj8hPWT/v43+NHkJ6yf9/G/xqSigCPyE9ZP+/jf40eQnrJ/38b/ABqSigCPyE9ZP+/jf40eQnrJ/wB/G/xqSigCPyE9ZP8Av43+NHkJ6yf9/G/xqSigCPyE9ZP+/jf40eQnrJ/38b/GpKKAI/IT1k/7+N/jR5Cesn/fxv8AGpKKAI/IT1k/7+N/jR5Cesn/AH8b/GpKKAI/IT1k/wC/jf40eQnrJ/38b/GpKKAI/IT1k/7+N/jR5Cesn/fxv8akooAj8hPWT/v43+NHkJ6yf9/G/wAakooAj8hPWT/v43+NRyQqJIuX5f8A56N/dPvVio5f9ZD/AL5/9BNAB5Cesn/fxv8AGjyE9ZP+/jf41JRQBH5Cesn/AH8b/GjyE9ZP+/jf41Bqd/8A2Zp8l19lursqQFgtIt8jknAAHQcnqSAOpIAzXOT+O4xHdRPY3mmXtneWdvPBdwxynbcSKqEeXLtIOSM7iVxkqcYIB1XkJ6yf9/G/xo8hPWT/AL+N/jWToviWPXb++gtNPvY4bG4ltpLuYRrG0sbbWVQHLH1ztxjvnis+5+IFja32pRSabqRttKuUt76+WNPJgLBSGPz7ivzjO1SVwSQBgkA6byE9ZP8Av43+NHkJ6yf9/G/xrnZfHVjDd6tHJY34t9Ifyrq7EaGPzCqsqKA29mbeoACnk844pJvHVnZQXh1bTdQ066tY45BZziJpJlkcRoUZJGQ5cheWGCRnAINAHR+QnrJ/38b/ABo8hPWT/v43+NYM3jBLWx8y80XVbe7a7SzhsZY4xJPI67hsff5TDbkk78DaQeeKng8UQST6bb3Gn39lcajPNbpDcxKrRvGjM24hiCpCnDIWByOaANfyE9ZP+/jf40eQnrJ/38b/ABrmpvH1ijxxW2najeXE2oz6dFBAke55YQS5yzhQuFJySOBzipD43s1uTv0+/WwW6FlLqRWPyIp92zY3z7+JCELBSob+LAJAB0PkJ6yf9/G/xo8hPWT/AL+N/jVbVdSbS7NZo7C81CR5FjS3s4wzsT3JYhVAGSWZgOMZyQDi2PjqxvL2G0lsb+yuHv30+SO4RP3M4i80KxV2HzLyCpI+lAHR+QnrJ/38b/GjyE9ZP+/jf41z58bWcknk6fYX1/ctdT28MFusYabycCWRWd1UIrMFyxHzcAHjMZ8eWTtpkVlpuo3l3qJnRbWJI1kheAgSpJvdVUqSe5BxwTlcgHSeQnrJ/wB/G/xo8hPWT/v43+Nc/L4zjttStre60XVre2urz7FDfSxRrE0pyB8pfzQpKkBigB4OcEGoV8f2LX1tEumam1pd3v2G21ARJ5EsoJBx8+8AFW+YqAdpxnigDpvIT1k/7+N/jR5Cesn/AH8b/GsCHxrZzXkS/Yb5LCe6+xwam6J5EsuSoUDf5gBYFQxQKSODyM5l98QWa+0mPSdMuWs7/VFshqFxGvkTD5g/l4feDlTgsoU7TjPFAHZeQnrJ/wB/G/xo8hPWT/v43+NZ+ta9DozWsX2W5vru8kMdvaWqqZJCBljl2VQAOSWYDt1IFUtN8aafqd9ZWaW93BPdGePZMijyZocb4nwxw+DkYyCASD0yAbvkJ6yf9/G/xo8hPWT/AL+N/jXOxeOLW8WAaTpeo6lNP5rxw26xKTFHIY/O3SSKoRmHy5O4g5xwcEPjqxvb7TbXSrG/v5NQtzcr5MaIIow+xzJ5jLt2twRyc9AaAOi8hPWT/v43+NHkJ6yf9/G/xqlq2rSaYYEt9Kv9TmnYgR2aJ8gAyWZ5GVFHQAFsnPAODhPD+u23iPR49Rs45okZ3jaKdQrxujFGUgEjIZSOCR70AXvIT1k/7+N/jR5Cesn/AH8b/GuY0X4gWGtHT3GnalY2mpbhZ3l5GixTOoLFPlcsrYVyNwAOw4J4zZ0/xpZ6hdWS/Yb62tNSJGn306IIbshSwC4cuu5VZl3quQOO2QDe8hPWT/v43+NHkJ6yf9/G/wAa5PTfH0GsLod1BZ3lhY6tI4ilvYY/3qrBJISCsuYwPL5LKc9hg7ha0/x1p97cWqzWd9Y219HJLY3l2iLFdog3Erhiy5T5wHVSVBOODgA6LyE9ZP8Av43+NHkJ6yf9/G/xrkLfx5NqHijQbG00q6tbHVVmkS5vYlX7RGkZZXj2uSueDiRVOGHHXHZ0AR+QnrJ/38b/ABqO4hUW0pBfhD1kb0+tWKjuf+PWX/cP8qADyE9ZP+/jf40eQnrJ/wB/G/xqSigCPyE9ZP8Av43+NHkJ6yf9/G/xqSigCPyE9ZP+/jf40eQnrJ/38b/GpKKAI/IT1k/7+N/jR5Cesn/fxv8AGpKKAI/IT1k/7+N/jR5Cesn/AH8b/GpKKAI/IT1k/wC/jf40eQnrJ/38b/GpKKAI/IT1k/7+N/jR5Cesn/fxv8akooAj8hPWT/v43+NHkJ6yf9/G/wAakooAj8hPWT/v43+NHkJ6yf8Afxv8akooAj8hPWT/AL+N/jR5Cesn/fxv8akooAj8hPWT/v43+NHkJ6yf9/G/xqSigCPyE9ZP+/jf40eQnrJ/38b/ABqSigCPyE9ZP+/jf40eQnrJ/wB/G/xqSigCPyE9ZP8Av43+NHkJ6yf9/G/xqSigCPyE9ZP+/jf40eQnrJ/38b/GpKKAI/IT1k/7+N/jR5Cesn/fxv8AGpKKAI/IT1k/7+N/jR5Cesn/AH8b/GpKKAI/IT1k/wC/jf40eQnrJ/38b/GpKKAIoFCtMBnG/uc/wiili/1k3++P/QRRQBJRRRQBDd3dvYWc13ezJBbwIZJZZGwqKBkkn0rnpfHujGx1CW2lkSexsmvmhv7S4td0Qz8/zRbiuRglVbHp0rW8QDVG8Oagvh5o11Q27i1aTGBJjg8gjPpkYz14rzS/8Ja/qE2tTw6XqxN74fu7JX1XUopZpbh3Vh8iyGOJTyAEwo2nIXjIB6Nb+JtLutck0eCWWW/hCmZI7aVki3JvXdJt2rlTxkjPIHIIq5qepWmjaXc6jqUvk2lrGZZpNpbao5JwASfwFY3hzSryw8Q+ILq6g8uK8lt2gfcp3hLdEbocjDAjmoviWdvww8RHAONPlOD0Py0AWY/HHh6S0vLk3zRRWcAuZjNbSxnySSBKoZQXQkHDLkH1ok8baJFbwzNJenz0aRIk025aUopAMhjEe8Jkj5iApyMGuV8S6Fr3iqHUrgaI9gw0STT4bWa4iZp5ZJEclSrFQgEYALFSdx+UY50PEfh67bxt/bK2GqalaT2CWrRaXqjWcsLo7sCf3sSurB+7Egr05OADcvvGugafHFJNfNLHLbfaxJa28lwiwf8APV2jVgidfmbA4PPBp154w0OwvxaXF4+/93ukjt5JIYvMOE3yqpRN2Rjcw4IPQiuQ1Dwzf2dnYjRPDuoWF9BYqlvdaRrSuYXDs4hmE5USx5bOSr9WwBwTJq+ieIxqYudKsb221t0t9+rWN/GLO5cJsc3FvIRwvONsbNgLhgeAAdjN4m0i3s726mu9sNhcraXLeU58uVigC4xk/wCsTkZHPsagbxnoS3V/A144OnZ+1yG2l8qEjHymTbs3cjC5ycjAOa5LXNC8QPaeIdJs9Ge5TU9Whv4bxbiJY1QGAspDMH3Dyjxtwc9e1WdR8I6pe+GvEVtFCEnuNcXUbeL7QYvtKI0Thd6HKFvLIB4IODxQB1+k6/p+ttOljJMJbcqJoLm2kt5U3DKkxyKrbTg4bGDg4PBxH4j1xfD+jNe/Z3upmljgt7dCFMs0jhEXJ4UFmGT2GeD0rK8LaQLfV7u/Oh6jpzPCkAm1TVmu55ACW2hfNlVUBOQd+SSeB1Ot4ltPt3hy8tjpi6sJEANm03lGUZGdr/wuOqnI+YD5l+8ADPj8Xx2Ml9b+KIYdMurKKKdlgma5SSOVmRCh2KzMXRl2bM5xjORT/wDhO/Dy6ffXs97JbRae8Ud2Lq0mhkhMhAj3I6BgGLDBxjrzwa5aHw54gs5tX1nQ7W+06a6+x28cFxeR3N6YI5C0z75Xkj3kOVUM5ACjOMgClF4P1t4te2aVfJHfTaS8A1HUluZnWC53Sl2MjYO0btoJXBGOcqADsf8AhYfhoO6PeXMbxSLHOkun3CNbFtu0ygxgxKd4wz7VPOCcHHTVwGv+GdXvYfHa21pvOrQ262X7xB5pWLa3U/Lg+uK7+gAooooAKKKKACiiigAqOX/WQ/75/wDQTUlRy/6yH/fP/oJoAkooooAxvFWm6hq2hm20i6NvP50UjYuHg81FcM0fmx/PHuAI3LkjPQ1xdn8N9RtzqH2a00XS4bu502eO1snfZELabc4LbBvZlwd2BknBHG49l4v8Sp4S8M3GrSWst2YyqpDGrHczEAZKq20c9ce3JIBr2PjfSpzJBfSm1vLWFZr5PIn8q0BjEo3yvGgT5CD84U5yMZBAALXhrR7jRrbUI7p43NzqVzdp5ZJwkkhZQcgc4PP864xdK1nxFL420S1+wppl7q3kT3EsjiaFTbwb9qBSHypwMsuDz83Susi8c+H5LC8vGvJYIrGFbi4FzaTQukR6OEdAzKcHkAjioH+IvhlBNvvLkGBPNlU6fcbo4sZ80r5eRHj/AJafd96AKd/4In1PQ/FOn3M1uBq+pLfW5ZDIi7Eg2rIpAyC8PIGcqetQ2vhG7hsb77P4X8G6dLNAsX2aG2Msdz8wLCRwiYUgYC7Gwfm+b7tdNruuQaH4avNadTcQ2sBm2xEfOMZGD0wfXoOtZ+l+KZ5b3UbLWtPW1urCCG5ZbCV71Xjk3BcbY1bfmNvl29MEE54AMKz8E6laaLfWi6boktpcXUckehXdxNc2kMYB37JGTMbFm3DEZVduAOchbDwZrmlWOkzWclpLc6ZfyzwafcXs0kMMDwmIQrOys/yj5gSmMkjAGDWlrPjVrDxSdEtBovniOIj+09X+yPK8hYBI0ETliML6feAo1Xxq9n4sOhWY0XzlWIAajq/2WSWSQnCRxiJy/G305YDFAFPRvB2rWepafeX81kXh1e91CdYWfG2eN1CrleSC3OccD8KrWnw9aw1OZYtC8MXsMl+90mp31tvuokd/MKFNnzsCWCv5i4G3j5cHpdV8aaFot1Nb6hdTK1uqtcPFaTSx24b7vmSIhWPI5wxHBB6EGo7/AMd+HNM1C4s73UGjktXiS5cW8rRW/mBShkkClEVtwwzEDrzwcAB4y0TUNc062g06RDHHcb7m0kupLZLuIoymNpIwWAywbGCDtweDXNWnw+1O18O67bWqaTp93dajFqemJZ7lgtZEWPahAUcBkIJA+YEnaudo7PR/EWm661wunSymS2K+bFPbSQOoYZU7ZFU4IBwcYODzxWXD4707+0vEFvfJNZQ6I6JJcSwyhZdyqeMoMsWbaqgsX4K5yKAMW4+HBjsfDzCz0rWp9LtpILm21Vf3NyZcO8obY+x/MXOdpyGYcZzWnpfhO6stW0S8FrpFhFYx3YmtdNiMUamYx7Qox82NhyxC54O0dBvaTrun62s/9nyyF7dxHPDPA8EsTEBgGjkVWXIIIyOQeKwbrxtPby6ndx6Ur6LpNx9mu7x7rbLuGN7JFsIZV3DJLqThsA4AIBhH4e6xLrNleXUel3Fzaaql4+q3FzNLczQrKWESqyYhAVvuKxUkds5GXaXUsl/oXhrTL7Tb23sNcaXZE8n21I0eQkTQMo8oKSRvJIb5MAbq9G1vxEmk2reRazXN21zFaQQsrRLLLJjb+8YYKgHLMu7GCMEjFN0bxC94+pW2sW0WnXmlsPtKrceZFsZdyyLIVXKkZzlRgq3pkgHMaH8Pm0W+t4V0LwxNDa3Zmj1aW23Xhj3b1BTYAJAeBJ5nYNtzxT4fCPiK3j0bSI3006TpOprdpcNNJ58sQZiqFNm1WG7Gdx3bRwM1q6L4+0/U/D9zrF3DNYW8d81nFGyNJLMcgLiNV3bmz9wAkfgas/8ACd+HRp0t7JeyRRQ3K2kqS2kySpKwBVDGyBwSCMcc5oAf4h0nULnU9L1bRvs0l5pzSDyLqRo45kkUKw3qrFSMAg7T0xjnI57UfA+tXHhe4ezvrW38SS6mdUinBYQwSMojKA43ECLK5wMnnA6Dbh+IHhueZYkvJ1czLbuJLGdPIkZtqpKWQeUSSMB9uc8ZrpKAOB1H4dQxXmlz2GkaNrMNlpyac1nq67VCISVkR/Lk2tkkEbec9RjnV0Twxc6ZrtletHptvDBpb2jW+nwmGNZGmEnyJyAvB5zknnAzx1NFAHLeL/D2oa3e6fJBFa6hYQK4uNLvLuS3hnYlCjuURw4XafkZSp3Z7VN4E8O3PhbwuNLvTas6XM8imzUpHseVnUBT93AbG3Jxjqa6OigDy/wZomreI/BfhaPVfsUOlWKG4SS3lczzny3jRChULGAJCSQzbio4XJxpeFvAkug3OnxPoXhdV08Ff7Wits3dwAMKduxRG5GCzb3yQePm476igDh7LwNeR+H/AAfpt5NbkaNG8d4Y3b5w1rJD+7JXnmQHnHGfpTYPBur38Gj6Z4hlshp2iwyRRy2cjmW8JhaBHZWUCLCOxIDPliOcDnuqKAOH0vw54mTWPDh1RtL+xaDFJF5sEshlusxGNXKFAIzgAldzdTzwM9xRRQAVHc/8esv+4f5VJUdz/wAesv8AuH+VAElFFFABXLeE/H2l+KrLTmQSWt5fWxnSB4pPLOMb1SYoEkKk4IU5GDkDBx1Neb2Hg7WP+Ed8E6fNCbV9Ps54L51kQm3L2rRg8N83zEfdz/WgDr9N8W6Lq96trYXTvJIGMLvbyRx3AU/MYpGULKB1yhYY56c1mX/xH0K30m+vLKWa8e2tZrmFFtZlS7EfDGKTZtkXJXLpuAB3HjmsHQfB9wY9PsdS0LUbe4sbeSFtRn12Se3RvKaLfbxGVidwY/KyR7VJ7gA6EVnr9z4Dl8Ly6B9nkh0iWxN5JdReVJIITGhiCksVY8/OEIB7nigDXfx3oltY2txfS3EDXFr9raIWc7tBF3eQBMxpnPzOFB2kjoak1Hxx4f0q9a0u72QzJbLdusFrLOFgOcSkopAT5Tlug4zjIzz9vZ69pc13d2/h6a8Oq6ZBb+S1xAptZoldNsuXwY23g5QuRhvl6Zy9IttT8M+IrnRLHSn1qeDw1p9q0kUscYV0M6gnzGH7snOcZIwPlNAHa6n410HSPM+1XcsixW4uZXtLSa5WKIgkO7RIwRSFYgtjIBPanXvjLQtPulguL1juWN2ligklhiWQ4RpJUUpGD2LEDHPTmuHv/CfieLQU8PMmoahaW+jxWln9hv47W3EwiKO053LKwzjCjchBAIz0mvvD+vw21o+h6TqOn60thbRpqFnqUXkNIsZQpdQu21lQk8okhIxtYEYoA7S98XaJp+qtp91dus6NGkrLbyPFC0hwiySqpSMtkYDMD8y+ozH/AMJtoP8AaaWP2uXzJLn7Ikv2SbyGm5HlibZ5ZbIIxu6gjrxWdZQa1oOq6vbwaK2pxanffa47tbiOKFA6IrrKGO8FdhI2q4IK9DnHO3+g+KtT1axn1Ky1K6ubTWYrhpTqEUdklslwWUQwqwLsEYEmVd3ynDHCggHT2nj/AExrAz6gk0Ev2i6iWC2glunKQTGNpCsaEheASSMDcBmultbqC9s4bq0lWa3njWSKRDlXVhkEH0IOa82XwvqVtYoZtD1M3a3V+8N7o+pxQXMKyXRlRSruqPGyhSQxbBGCnOR32gJqcXh6xTX5Y5tTWBRdSRgbWkxyeAB+QA9qANCiiigAooooAKKKKACiiigAooooAKKKKACiiigAooooAKKKKACiiigAooooAji/1k3++P8A0EUURf6yb/fH/oIooAkooooAKKKKAK2oaZY6tZm01Wyt722YgmG5iWRCR0O1gRWZF4H8KQMWg8MaNGzKyEpp8QJVhgjhehBII9DW5RQAUUUUAFFFFABRRRQBT1PSNN1q2W31nT7XUIFcSLFdQLKoYAjcAwIzgkZ9zVbTfC3h/R7r7TpGhabYXG0p5trZxxPtPUZUA44rVooAKKKKACiiigAooooAKKKKACiiigAqOX/WQ/75/wDQTUlRy/6yH/fP/oJoAkooooA57x1pd5rPgy9sdNh865laIom4LnbKjHkkDoDWRqPhXUtRh8bwxxxxNqtxBJZvI42y7LeFcNjJUb0ZeR74NdxRQB5t4k0PXvFsWqXp0OTT5Dosmnw2lxPC0k8kkiOxyjlQq+WACWBO48Dvq6xoGp3XiHxRcwW2+G/0BLO2bzFHmTAz5XBOR99eTgc9etdpRQBzWraVqtx8OhpumuYNRW1hQATmMkrtLx+YvK7gGXcOmc1Q8PabdaXq1/f6d4bm0XS/syomkRPArTzhiTKqJIYkO3C53AtjnoK7SigDi/E9jqtyNe0+z8NWt4ms2yQRX0ZijCkoUJuSzb2CE7lKKxxxjI5ra5o+rtpms6HbaBb341WzjtotUQxR8+V5Ze63NvYocsCitxgcEZPe0UAeW+M/DnirWbPWtMMOpajG9r5WmGG/jtrUfulDGYBhI8hZXwGDp8yj5clhe1fwvrF5o/jCOCxzLqbWhtVMqAyBIolbndgYKsOfTivRKKAMHTtNu4PHuuajLFttLqzs4oZNwO5ozOXGM5GN69R3471zureHtZl1zW7q0sDMDqFjqlqTKipc+QkatDktlXO1sEjbnblhzj0CigDmfD9jfy+KdY1/ULF9NS9ht7aG1ldGk2xbyXfYzLkmQgAMeF564HP+LPCc+v3eoWNt4euLd9QmQSalHqWLRowFzLJBvG6UAEAGNuQh38fL6NRQBzfiqz1DUrWGXTrCSS40nUIbuKN5EUXaqPmCHdwcOwG/b8w9PmrJbw1rWvSaxey+Xop1G4tv9FvIluS8EKn5ZBHKB87E5CuRtGD1IruqKAPNbbQ/G2naHqsazfvLvW5J3/syOKK4e3fO94jNI6Ak7CAxBUBuSSKhsPCWsi9u5jpVzBDNr9jfRJd34uZVhjRVYu7OxLArnGTjIClgK9QooA8+vvDGrzaf4rjjtMvqGt2t1bDzU/eRIbfc3XjHlvwcHj3Feg0UUAFFFFABRRRQAUUUUAFFFFABRRRQAVHc/wDHrL/uH+VSVHc/8esv+4f5UASUUUUAFFFFABRRRQAVEtrbpdyXSQRLcSIsbzBAHZVJKqW6kAscDtk+tS0UAFFFFABRRRQAUUUUAFFFFABRRRQAUUUUAFFFFABRRRQAUUUUAFFFFABRRRQAUUUUAFFFFABRRRQBHF/rJv8AfH/oIooi/wBZN/vj/wBBFFAElFFFABRRRQAUUUUAFFFFABRRRQAUUUUAFFFFABRRRQAUUUUAFFFFABRRRQAUUUUAFRy/6yH/AHz/AOgmpKjl/wBZD/vn/wBBNAElFFFABRRRQAUUUUAFFFFABRRRQAUUUUAFFFFABRRRQAUUUUAFFFFABRRRQAUUUUAFFFFABRRRQAUUUUAFFFFABUdz/wAesv8AuH+VSVHc/wDHrL/uH+VAElFFFABRRRQAUUUUAFFFFABRRRQAUUUUAFFFFABRRRQAUUUUAFFFFABRRRQAUUUUAFFFFABRRRQAUUUUAFFFFABRRRQAUUUUARxf6yb/AHx/6CKKIv8AWTf74/8AQRRQBJRUfkJ6yf8Afxv8aPIT1k/7+N/jQBJRUfkJ6yf9/G/xo8hPWT/v43+NAElFR+QnrJ/38b/GjyE9ZP8Av43+NAElFR+QnrJ/38b/ABo8hPWT/v43+NAElFR+QnrJ/wB/G/xo8hPWT/v43+NAElFR+QnrJ/38b/GjyE9ZP+/jf40ASUVH5Cesn/fxv8aPIT1k/wC/jf40ASUVH5Cesn/fxv8AGjyE9ZP+/jf40ASUVH5Cesn/AH8b/GjyE9ZP+/jf40ASUVH5Cesn/fxv8aPIT1k/7+N/jQBJRUfkJ6yf9/G/xo8hPWT/AL+N/jQBJRUfkJ6yf9/G/wAaPIT1k/7+N/jQBJUcv+sh/wB8/wDoJo8hPWT/AL+N/jUckKiSLl+X/wCejf3T70AWKKj8hPWT/v43+NHkJ6yf9/G/xoAkoqPyE9ZP+/jf40eQnrJ/38b/ABoAkoqPyE9ZP+/jf40eQnrJ/wB/G/xoAkoqPyE9ZP8Av43+NHkJ6yf9/G/xoAkoqPyE9ZP+/jf40eQnrJ/38b/GgCSio/IT1k/7+N/jR5Cesn/fxv8AGgCSio/IT1k/7+N/jR5Cesn/AH8b/GgCSio/IT1k/wC/jf40eQnrJ/38b/GgCSio/IT1k/7+N/jR5Cesn/fxv8aAJKKj8hPWT/v43+NHkJ6yf9/G/wAaAJKKj8hPWT/v43+NHkJ6yf8Afxv8aAJKKj8hPWT/AL+N/jR5Cesn/fxv8aAJKKj8hPWT/v43+NHkJ6yf9/G/xoAkoqPyE9ZP+/jf40eQnrJ/38b/ABoAkoqPyE9ZP+/jf40eQnrJ/wB/G/xoAkoqPyE9ZP8Av43+NHkJ6yf9/G/xoAkqO5/49Zf9w/yo8hPWT/v43+NR3EKi2lIL8Iesjen1oAsUVH5Cesn/AH8b/GjyE9ZP+/jf40ASUVH5Cesn/fxv8aPIT1k/7+N/jQBJRUfkJ6yf9/G/xo8hPWT/AL+N/jQBJRUfkJ6yf9/G/wAaPIT1k/7+N/jQBJRUfkJ6yf8Afxv8aPIT1k/7+N/jQBJRUfkJ6yf9/G/xo8hPWT/v43+NAElFR+QnrJ/38b/GjyE9ZP8Av43+NAElFR+QnrJ/38b/ABo8hPWT/v43+NAElFR+QnrJ/wB/G/xo8hPWT/v43+NAElFR+QnrJ/38b/GjyE9ZP+/jf40ASUVH5Cesn/fxv8aPIT1k/wC/jf40ASUVH5Cesn/fxv8AGjyE9ZP+/jf40ASUVH5Cesn/AH8b/GjyE9ZP+/jf40ASUVH5Cesn/fxv8aPIT1k/7+N/jQBJRUfkJ6yf9/G/xo8hPWT/AL+N/jQBJRUfkJ6yf9/G/wAaPIT1k/7+N/jQBJRUfkJ6yf8Afxv8aPIT1k/7+N/jQBJRUfkJ6yf9/G/xo8hPWT/v43+NABF/rJv98f8AoIopIFCtMBnG/uc/wiigCWiiigAoqG7u7ews5ru9mSC3gQySyyNhUUDJJPpXPS+PdGNjqEttLIk9jZNfNDf2lxa7ohn5/mi3FcjBKq2PTpQB09FZNv4m0u61yTR4JZZb+EKZkjtpWSLcm9d0m3auVPGSM8gcgijxVry+GPCuoa09vJcizgaUQoGy5A4BKqdo9WxgDk8CgDWorAn8baLaRQtdS3MbSW4uXQWM7NBGf45QEzEvB5faPlPoaTUfHXh3S7qS3vL9g8MSTymK2llSON87ZGdFKqhx94nA7mgDoKK59fHPh42t7ctfPFDYwrPM01tLH+6YkLIoZQXQkHDLkcdat6P4l0vXZZotNnkaWFVd4preSF9rZ2uFkVSVODhhkHB5oA1aKzPEetp4d0C41OSCS5MZRI4IyA0sjuqIuTwMsyjJ6ZzWfF4sFjJfQeKYINLns4EuiYLhriOSJmKgqdisX3Dbs25JK7d2cAA6OiufXx14e+x31zNey2qaeIzdLd2k0DwhzhGKSIG2k98Y688VXPxG8MqJfMvLmIwEeesun3CNApAIeRTGDGhDDDthTzzwaAOoooooAKKKKACiiigAooooAKKKKACo5f8AWQ/75/8AQTUlRy/6yH/fP/oJoAkooooAqanf/wBmafJdfZbq7KkBYLSLfI5JwAB0HJ6kgDqSAM1zk/juMR3UT2N5pl7Z3lnbzwXcMcp23EiqhHly7SDkjO4lcZKnGDq+KtN1DVtDNtpF0befzopGxcPB5qK4Zo/Nj+ePcARuXJGehri7P4b6jbnUPs1poulw3dzps8drZO+yIW025wW2DezLg7sDJOCONxAOz0XxLHrt/fQWmn3scNjcS20l3MI1jaWNtrKoDlj6524x3zxWPZ+OplvvEMeqaVcRxabqCWdmIVRnuWdEKoAJDlyXyCdqhSMkENjZ8NaPcaNbahHdPG5udSubtPLJOEkkLKDkDnB5/nXNaz4DvtTn1rcmmzw3OpQapaJd5dJHSJI2hmj242EKfmBJ+YHbxggGrc+PbKytZmvdN1KC7guYLaSwMcbzBpjiIja5Rgx7hj0I6jFQr8RbQPcC40XV7dbK5jtr55EhK2byFQm4rIdwO9TmPfgHJxVSLwVcm2j+z6P4e0QrqdndGDTIyN0cMm5t8gRd7HJ2jYAOeTniS+8G6hdW/imOOa2B1jULe6g3M3yrGsIYN8vB/dNjGeooAuSeP7GK+vIn03U/sljeCyur/wApPIhkOMZ+fcR8y8hTjPOKnufGtna3U+6xvnsLa5FrcakiJ5EMuQNpBcOQCwBZUKgk5PDY5e10vWvEH/CT6PD9hj0m41txPcPI/nxqBGzKsYXa2cABiy4yeDjmyPh61vrN+8eheGNQivb97xdQ1G233EHmPvdCmz95gltp8xcZHHHIBvR+NIp5dUW00XVrmPTJmt5JYYUYSTAqPLRd+4k7gdxAUDJZhg4y9a+IU9npGqtZ6FfRappslsJrS7EJwkz4V8pKVIOGHDZBxkYyann8LawNB1i1sb2OC4vdWN9GY7iSHfFvRjE0iDfGWClSy5IzxmsO3+HGowWfiBLSz0XTF1OGyFvaWcj7I3t5GbDuYwX3Agl9uckgg4ywB1V141sbLTdau7q0vIxohjF3FtQvl40kAXDYOBIAecZBxkYJSfxtY22qavaS2V8IdH2/bb0IhijLRLIoA3b3JDAAKpOeuMgnB8QeEPEmpQeI7WxGlJF4hWGWSSa4k3W0iRIjIFEf7xT5Yw2VI3E7TjB0tR8FS6tb+Lra5nhSLXJ4ZbdtvmbPLhiUb1IAI3xdM8juKANbSfEiajqLafdabfaVe+QLhLe9Ee6SLO0sDG7rwcAgkEZHHIqLXvFf9gi6kbRNWvreyg+0XNxbRRiONMEnBkdS5AUkhA2OM8mqfhXw3JpWoPdTeHfDOjMbcRE6REWklYkEkyeXHtTgfJhsnB3cYOV4w8D6n4i1LUyYtOv7a8tfKtG1G4lI05yhVmSAKUZjwRJlWGSOQOQDek8b6XHY6vdMlzs0pI3dfLG6dZEDRmMZ53Z2jOPmBBxTbrxtZ2s9wX0+/axtJlgu9QVI/Jt5CQCp+fe2CygsisoycnhsZF74EvrzW/D10Lm3jtbe3gi1eAMx+0G3IkhC8YIEmc5xxj6VBJ8PWi1rUJItC8MajFfXjXYv9Ttt9xb723OuzZ+8AOdv7xMZx25AN5PGcU1xqsdro2rXKaXI0MssMKMHmGMRIu/cSdynO0KAcsy4OIj4+sYE1NdT07UdPutOSFntJkjeSbzSViEfluysWYbQNw564HNQXHhbWBoevW1hfR29zqGqfbYWjnkizHmMmNpFG5CwRlLLkgNkZrlbzwU/h611bWLhNH0K2KWEtvHaCWaOGe2mLqZm8sF1Yld0hAIBOQdu5gDsY/Htlv1SG+03UrC60xbfzbaeNGeRp2ZYkj2OyuzFQODjLAE5DYkbxvZW1vef2nY32n3lp5WbCZEeabzW2ReX5bsrb3BUYbgg5wOa4yDSbr4g33ii5aTSZY5BpxtHt3N5ZPJA0rmJnKqJVO8BsKMb8YJXJ2/+EGuJNPuDaaP4c8P3cc8FzaJpkRYPJC4cebL5aZUkbcBMrycnOAAa3hzxTea34s1zS7rTZdPTTYbV1iuFXzd0vmE5ZHZGGEUjaeMkHngO1PxvY6Zd3iNZX1xaac6Jf38CIYbRmAOGywZsKys2xW2hhnvhPD2k63D4q1rWtdWwhGoQWsMEFnM8vliLzc7mZEzkyZBAHpjjJz9V8Ka1LH4g0vTZbEaZ4hkLz3E0jia13xrFKqoFKyZVMqSy4LHOccgGs/jLTksr6cxXJay1BdPaAKpkkldkCbBuwQwkVgcjg5OMGmf8JrZfbADZXw09rv7EuqFU+ztNu2bfv78b/k3bNu7vjms+48E3D/EGy1aG5jXSI0jluLViS8lzEjxxN0xgLJk89Y044qhpnw9bS9SESaF4YuoFvWuE1a6tt94I2cybSmwAuCdok8wYAB2kjBAOo0PxLHr93fRWmn3sUFlcTWr3UwjEbyxOUZVAcsemc7QMd85FVtV8ZRaPPIbvRtW+ww3EdvLqAijEKM7KoOGcSMoLgblQjrgnBq14Y0e40WxvYbp43a41K7u1MZJASWZpFByBzhhn37muN8Q/D7WNZvdQd49LvJJbxLi01C+uZnlt4ldX8mOIoVh6FS6N8w6rk8AHpdFFFABRRRQAVHc/8esv+4f5VJUdz/x6y/7h/lQBJRRRQAUUVykfxB0q88S6VpOl77sai8yi4Mckce2NGbfGzJtmUlcbkJAyDnkZAOrorF07xfomq3gtrK7ZmdXaF5LeSOO4VfvNFIyhJQOuUJGOenNQWXjvw7qF7Ha2l9I0syPJDutZUWZEBLPGzKFdRj7ykjpzyKAOhornoPHegXOmw31vc3MsFwwS32WFwXuDtLfuk2bpAACSVBAwc4xU7eLtFXTbe+W7eWO5kaKGOG3kkmd1zuQQqpk3Ltbcu3K4OcYoA2qKw38ZaGlna3KXM063bOkUVtaTTTEp98GJELrtPDZUbSQDgmryava3Og/2vp8iXVq1ubiJ0biRduRz2oAvUVzega14i1qy0/UJtF0u2sb2GOfcuqySSojqGHyfZwCeRxuH1qbT/Gug6nqNvZWd3K0t1v8AszvaTRxXOwZby5WQJJwCflJyORxQBvUVy3hXx/pfie1sNoktby9iaRIXikMbFfvqkxQJIV7hTkYORwcTW3j3w9d6VHqNtdXEtrM6pAy2E5NwzAkCJdm6QgA5CA7cHOMGgDo6KwZvG2gQWdrcPeSFbuZ7eGNLWVpWlQEtGYwpdXGD8pAPtVS98f6VbDR54PMuLTUriW3MiRSeZE8asSvkhC5bcu3bgEGgDqaKxP8AhMNEOlwX6XUkkVzK0MMcVtK8zyJneghCmTcu1sjbkAEnFQXXjTTY7W0urSQXMNyJ8KqS+buiQsyCMRk7gVIKttI54J4oA6KisrwxrqeJfDGn6xHbyWwvLdJTDIjAoWUEgFlXcOeGAww5HBrVoAKKKKACiiigAooooAKKKKACiiigAooooAKKKKACiiigCOL/AFk3++P/AEEUURf6yb/fH/oIooAkooooAzvEA1RvDmoL4eaNdUNu4tWkxgSY4PIIz6ZGM9eK80v/AAlr+oTa1PDperE3vh+7slfVdSilmluHdWHyLIY4lPIATCjacheM+uUUAc54c0q8sPEPiC6uoPLivJbdoH3Kd4S3RG6HIwwI5qz4y0y51nwPrWm2Cq9zd2M0MKs2AzMhAGT05rR1DTLHVrM2mq2Vve2zEEw3MSyISOh2sCKo2HhHw3pV4l3pnh/S7K5jzsnt7KON1yMHDAAjIJFAHG3nh7UG1u81G50HWL2HU7SEC3s9Z+yNbSImwxzBJ1RlPXcpcj5uOmX3vg/Ul0XxZZ2GmpGt7oNrYWMSXIcF44pVMYd8EgblG5wM5z616NRQB5l470q+t9N1XUHtlNuugQ2uXcYMqz7ihHJxgjnGK6XSLfVNR8Yya7qOlyaVFHYCzSCeaOSSRi+9m/dswCjAAycnJ4Hfo7m1gvbZ7e8gjuIJBh4pUDKw9weDUOpaVp2sWottXsLW/twwcRXUKyruHQ4YEZ5NAEHiG0+3eHb22Omx6oJIiDZyS+WJh/dDYOD6HjnHI6jhk8OeILe41bWtBs73TbmSC3tbeC9vUuruRFl3zPvkeRASpKorMVBGTjNdrp3hTw9pF2LrSdB0yxuAComtrOONwD1G5QDWtQB5MfB2uTN4gaPS9QWO/trBIP7S1FLieRopy0m8+YwU4O4KpK4IxgkqNzxB4b1a+Pjz7Lab/wC1tLht7L94g82RY5QRyfl5ZeTgc13tFAEdupS2iRhhlQAj3xUlFFABRRRQAUUUUAFFFFABRRRQAVHL/rIf98/+gmpKjl/1kP8Avn/0E0ASUUUUAUdZ1nT/AA/pUupaxcra2cJQSTMCQu5gi5wD/EwGe3fiqUXjDRJdPvbw3ckMdgVW5S5tpYZYywGweU6hyWyAoC/MTgZPFZ3xMeSPwLK8MKzyLfWJSJ22iQ/bIcKT2B6Vg674Y1rxLfX2uf2bPYvH9iEGnPeLFPdLBJJI+ZYXIjY+aQhDdVGdoPAB1j+NtBi0u4v7i8kt4baWOGdZ7WWOWJnICBomUONxYYJXB601fGelr9vlupvs1tZxQyN50U0c370sFUxPGCCSuFUbmYnoOM8xceFbm70+5lsfD99ZzzX+nMx1LVzdTzRQ3CyMW3SuqqoLYAck5bgcZta74b1e48TalqtlaCZY5tOubeIyqv2kwGUyICT8rYcYLYGccgZIAOhTxloTaZcXxvHjitpVgljlt5Y5kkbG1PJZRJubIwNuTkYzTPDniy38S6lq9vZwSJFpsscXmSq8buWQMcxuqshBJGD6ZrmbvQNc1DWrjxOultbype2c0OlyzR+bNHAsqsSysYw589io3Y+RckZ42/Cdpqf/AAkXiPVNU0p9MTUJ4Ggjkljd2VIQhLbGYA5HTJ+poAqJ8SrFPEGr2l/bS2dhpky2xu5IZy807BSEWMRY53ED5yxwCFIYGta58b6BZypHdXU8RKxvIXs5gLYSHCGY7MQ5/wCmm316Vztx4X1aTXNSuBZ5in8SWV9G3mJ80McUas+M9ip468cCpNY0fW4pfFljYaT9vi8SAeTdmeNY7YtAsDCYMwbauzcNitkHHBoA3dS8c+HtI1Cey1C+eKa1KC5ItpWS3342GR1UqincPmYgdeeDi7o/iLTNdkuI9NmlaS22GWOa3khdQ2SrbZFUlTg4YcHBweK4zVvB+rPoPjCytLf7Q9/b2sVmxkRTP5cSqTyfl5B64rprPTLuL4iarqckOLO4061gil3D5nR5iwxnIwHXkjvQBR1jxxNpmpakkWmRzWGkvbx3s7XWybdNtx5UWwhwA69WXJyACRzqeIfEcOg6Lf3zR7jZmNT9oLQRFnZVX96ylduWGWGcc59K5PxD4b1e71LWhHpD32oXkitpOuC4jX+y1KKu3lhJHsZWYiNWD7ueSQOq15L250qWK30iDUZLWWGQRXqxlLsKwZvL+b5XAztLgAMB25oAzj41eLwfea9ONFmigdY43sdX8+BmZlX55TEoTBYZ4OBzVnTvF0Euhyarqk+lC1EywxSaTftfrK5IAQbYlJckgBVDE5rIbSdXubvXdc/4R+3LXclkYtK1AxO8ogJLuSrGNZSGwhLEDy0yR2hu9N8US3Ota1pdlc6XJqEtnE1rHLbm7aGIMJHBJaESEOAMsfljHIOAADoP+E78PLp9zeTXskEdpcR21wlxaTRSRSSbdgaNkDgNuXBxj34NRx/EHw3JIY/tlwjpMsMwksLhPs7sQFE25B5W4sMF9oPboa5C08Iaybi/f+yruKG41fSrqNb7UFuZjFDIvml3Z25AUnaCRggLnoNXV/DOr3UfjYQWm46pdWkln+8QeaqRQqx5PGCjdcdKAOi8VeKIvC1pZTzWtxci6vIrXEEUjlQ7AFsIrEkA8L1Y8Dmlm8Y6FBqv9ny3jCfzlgZ/s8hijlYZWNpQuxXOR8rMDyOORUXjSwvb7SbN9NtXvJbPUrW7a3jdFeRI5VZgpcqucZPJHTrXOXuga5Lpur+HI9KLwarqbXS6mZ4/KhieQSNuXdv8xcFQApB+U7hzgA63xFrr6Jb2YtrT7ZeX92lnawmTy1LsGYl3wdqhUYkgE8cAk1HpXiI3bXNrqVo1rqFncJbzw25a4QF1DIwcKDsKkZZlXBBzxglfFVl9u0ZYzpD6sEnjk8iG5+zzJhs+ZE+Vw6nkfMnGfm7HJ8H6LdaHJql/Np9zEdVvUKWr3KzzQRKgQPLIzncxwWOGcgEAZxQA+TxtLHcSXI0xTokOo/2bLem5/erLvERbytmDGJCFJ3g9TtwObmreLoNM8XaNoCW7XE+pSMsjq2BbL5bspbjkt5bADj7rHtzzsnh7WjY3XhhdNb7Fca0b5dTE0flJbm4FyV27vM8zOUA2kdDu64S+8H+J08VaRfQahYXkS6vLe3EpsWR4laJ0UMTP84VSsahQMcMc4OQDpm8a6CmqLYNdyiVrr7GJfsk3kGfOPK87Z5e7PGN2c8deKry/EPwzDcSQyX8oaO5ktGYWcxQzpu3Qh9m0yfKcIDubjaDkZ5TVNB8VapqlrLqFlqV3Paa1DciX+0Io7JbWO63qIoVYF32EZMq5+VsN91Top4Y1ZbKzT7Hh4/Fs2pOPMTi3aaVg/X+6y8deelAHZaTrNjrlm1zpsruiSNE6yRPE8bqeVZHAZT7EDqD3q9WD4Z0270+78QPeReWt5qr3EB3A74zFEobg8cq3B54reoAKKKKACiiigAqO5/49Zf8AcP8AKpKjuf8Aj1l/3D/KgCSiiigCC+tvtun3FrvMfnxNHvAztyCM/rXnceg+IdQbwxpV3orWMOj209pc6iJ4mRibZoVeJQ+8qTg4YKRleOpHpdFAHmOleEZlsbSz1XRb+zm0+0mifU7rXpJrWI+S0XmQRGVuGDE4dI9qk9wAYbK41C+1jwfp82lrB9n0q5WOdLqKWO6HkKgkiKMf3Z+U5bafmXjrXqlZ+m6Bo+jSyyaRpNjYST4817W2SIyY/vFQM9T1oA4eXwlqUXh/wU8ljeXEmjacLW9sbDUDazbnijBZZFkRWKtHgguAQxOTxllx4OuUOl6la6HqUUcFxdNcafBrsn2xxNsAlMxlUFx5YynmFcMcMTXpdFAHnFz4XddNt2g8L6tbyNPcSCaw17OoWrSbfnLySBW3bBuXzHUELw3JHVadbazJ4HFvrjifVpLV1lIKjLEHaCVAXIBAJAAznHFbtFAHK+EfB2m6D4d0ySLQdNs9bhsI45Z0toxJ5vlgPukUZOTnJB5rmtK0HxPP4q8NaprVlqktzYzSNqV1d6hEYSzWzx5ggjbYEDY5Kq/zDIb5iPT6KAOA0Twzq9lY+AY5rTy20lpjfASofK3W8iDofmyzKOM9c1Sj8H6rb+DvBgmsbqafRYPKvLCy1A20x3oFJSVJFUlSOhcAgtz0z6ZRQBwWmeGLiDV9DvbbRZrCKLUrm7uVutRN3MA9s0Su7MzfMSFG1WcAYOeThul+GdXt/ENhc3FpiGDX9SvGYyIdsMscgjbGc8lhx1GeQK7+igDy+Xwdq6X0eozWN7cxwatqMhtLHUTbTSQ3DqySI6yIONnKsw4Y9xitG28K3a3WkS2ekSafEtzezXC3OoG6kXzYSivI7Mx3McZClwPU139FAGH4Ktruw8D6NYalZyWd1ZWUVtLFI6N80aBSQUZgQcZHOcdQOlblFFABRRRQAUUUUAFFFFABRRRQAUUUUAFFFFABRRRQAUUUUARxf6yb/fH/AKCKKIv9ZN/vj/0EUUASUUUUAFFFFABRRRQAUUUUAFFFFABRRRQAUUUUAFFFFABRRRQAUUUUAFFFFABRRRQAVHL/AKyH/fP/AKCakqOX/WQ/75/9BNAElFFFAEVza295D5N3BHPFuV9kqBl3KwZTg9wQCPQgGpaKKACiiigAooooAKKKKACiiigAooooAKKKKACiiigAooooAKKKKACiiigAooooAKKKKACiiigAooooAKjuf+PWX/cP8qkqO5/49Zf9w/yoAkooooAKKKKACiiigAooooAKKKKACiiigAooooAKKKKACiiigAooooAKKKKACiiigAooooAKKKKACiiigAooooAKKKKACiiigCOL/WTf74/9BFFEX+sm/wB8f+giigCSiiigAooooAKKKKACiiigAooooAKKKKACiiigAooooAKKKKACiiigAooooAKKKKACo5f9ZD/vn/0E1JUcv+sh/wB8/wDoJoAkooooAKKKKACiiigAooooAKKKKACiiigAooooAKKKKACiiigAooooAKKKKACiiigAooooAKKKKACiiigAooooAKjuf+PWX/cP8qkqO5/49Zf9w/yoAkooooAKKKKACiiigAooooAKKKKACiiigAooooAKKKKACiiigAooooAKKKKACiiigAooooAKKKKACiiigAooooAKKKKACiiigCOL/WTf74/9BFFEX+sm/wB8f+giigA8hPWT/v43+NHkJ6yf9/G/xqSigCPyE9ZP+/jf40eQnrJ/38b/ABqSigCPyE9ZP+/jf40eQnrJ/wB/G/xqSigCPyE9ZP8Av43+NHkJ6yf9/G/xqSigCPyE9ZP+/jf40eQnrJ/38b/GpKKAI/IT1k/7+N/jR5Cesn/fxv8AGpKKAI/IT1k/7+N/jR5Cesn/AH8b/GpKKAI/IT1k/wC/jf40eQnrJ/38b/GpKKAI/IT1k/7+N/jR5Cesn/fxv8akooAj8hPWT/v43+NHkJ6yf9/G/wAakooAj8hPWT/v43+NHkJ6yf8Afxv8akooAj8hPWT/AL+N/jR5Cesn/fxv8akooAj8hPWT/v43+NRyQqJIuX5f/no390+9WKjl/wBZD/vn/wBBNAB5Cesn/fxv8aPIT1k/7+N/jUlFAEfkJ6yf9/G/xo8hPWT/AL+N/jVTVtYg0ZbNrpJWS7u47RWjAIR5DhS2SOC2Bxk5YcVm2njXS71bk2y3Dtb6qNKKbAC8u4AsvPKAEnPojYBIwQDd8hPWT/v43+NHkJ6yf9/G/wAa5Gy+IEdxb6dHDpmo6pe3tm94qWdvHH+7V9hJDzYXnHG45zx6VZk8e2MtnbTaRZX2ptcWA1HZbRrmGA/dd97L1II2rljtbAOKAOl8hPWT/v43+NHkJ6yf9/G/xrC8PeJhe/Dux8S620NqslgLu6aNSEjG3cxAyTgenJrFn+IF3/bv2U6TdabbDRbnUs30CtI2wpsKhJcYwzZRircDO3NAHb+QnrJ/38b/ABo8hPWT/v43+NczF48svtE8U1peeVY2kd3fX3lokFujxeYGILljkAjaoYgj0wTMnjexh87+27K+0MR2j3qHUET97CmN7L5bvyu5cqcN8w464AOg8hPWT/v43+NHkJ6yf9/G/wAa43XfHl9p/h+4vLbwzqlvdR+Q8cd9FEFdJJApOVlwCM42khgWUlcZIuv40itbu/hube5eeK6t7SCxigXznllhEnlhvMKMQCxLEooCnkgbiAdL5Cesn/fxv8aPIT1k/wC/jf41zU3j+wgsBLLp2oi8F+unSad5aG4jnZSyKcPswy4IYMVwwJIwcauha7FrtvctHbXFnNaXDW1xbXIXfFIAGwSjMpyrKQQTwaANDyE9ZP8Av43+NHkJ6yf9/G/xrn7vxnHY6lFBd6Lq0VrNfJYJfvFGsLSs21flL+ZtLcBtm09QSOakt/GWnXFjYXCxXKvfX0liluyqJI5Yy4k3jdgBRG5JyeB3zQBueQnrJ/38b/GjyE9ZP+/jf41g6f40s9QurJfsN9bWmpEjT76dEEN2QpYBcOXXcqsy71XIHHbMGm+ORq+j2+o6d4d1ueG7YC2AihBlGGLHJk2oBtIy5XJI27sigDpfIT1k/wC/jf40eQnrJ/38b/Guai8eWU9lE9vpuoyX0t5LZDTFSPzxLET5mSX8vaAM7t+MEc5OKLbx7ZXtjHLaabqUt1Ldy2cdh5SLO0kX+szucIoXuWYDt1IBAOl8hPWT/v43+NHkJ6yf9/G/xrnv+E3snt4BbWN/cX81xJajTY0QTpJGMyBiziMBRg7t+05XBORmTwZ4iuPE2l3t3dW/2Yw6jcWqRFCrKsb7QHGT8/rg4z0oA3fIT1k/7+N/jR5Cesn/AH8b/GuctvHdldXVuqafqC2d5M8FnfukYguZFz8i/PuGdrbSyqrY4PIzLF430qbT9IvQJ0i1SGSdQ6AG3SNC8jSDPG3G04z8xA96AN7yE9ZP+/jf40eQnrJ/38b/ABrnrfxtayMv2vTNRsFmtXu7RrqOMfao0Xc20K5KttIO1wjc9ODjR8Pa4PEOlR6jFp95Z28wDwG7CAzRkZDgKzEAg9GwfagDQ8hPWT/v43+NHkJ6yf8Afxv8a5+08Zxz6xYWF1ouraeNSaRbOe7ijRZiilyNocyISqkgOqnjseK6SgCPyE9ZP+/jf40eQnrJ/wB/G/xqSigCPyE9ZP8Av43+NHkJ6yf9/G/xqSigCPyE9ZP+/jf41HcQqLaUgvwh6yN6fWrFR3P/AB6y/wC4f5UAHkJ6yf8Afxv8aPIT1k/7+N/jUlFAEfkJ6yf9/G/xo8hPWT/v43+NPd1jjZ5GCIoJZmOAB6muKT4gteeItAtrXTbm103VTO63t7GqrPCkTOJI8OSgOFOJFUlW6dcAHZeQnrJ/38b/ABo8hPWT/v43+Nc/Y+N7G7nthPZX1hbXqPJZXd2iLHdKilyVAYsuUBcB1UkA8cEVBZeP7O8vbOB9J1W1TUIZLiznniQJPGi7iww5K5GCAwU/MOKAOn8hPWT/AL+N/jR5Cesn/fxv8a5iy8ewahplhd2miaq7akN1jb7YRJcoF3M4zLtVQO7lckgDORmwvjWzltbc2ljfXN9cTSW406NEE6SR/wCsDFnCDb678HK7SdwyAb/kJ6yf9/G/xo8hPWT/AL+N/jXOf8J1ZyraR2Wm6hd39zJNH/Z8YiSaJocCUOXkVPlLKOGOdwIyOa37C8XUNPgu0hngWZA4iuIjHImezKeQR6UASeQnrJ/38b/GjyE9ZP8Av43+NYeseM9P0N9VS9hut2mWkV26oikzpIzKoj55O5duDjkj1qLUvGNrBJbxWhdjLJY5lEIkTZczeWg++uCcE552jBw3AIB0PkJ6yf8Afxv8aPIT1k/7+N/jXn0HxF1d4rGSfQpVNxr1zphgVUaR0jE20LiUqHBjVWZiF+8RxzXZ6HrcOu2MlxDBPbPDPJbz29wFEkUiHBU7SVPY5BIII5oAveQnrJ/38b/GjyE9ZP8Av43+NcZbeLtXl+waxJHZf2JqGpfYIrcRv9ojUu0SSmTdtbc6g7AgwHHzHHO/r3iSHQrjT7ZrK8vrnUZWht4bRULMyoXOSzKAMKeSceuKANTyE9ZP+/jf40eQnrJ/38b/ABrmNN+IFlqU1mBpep28F1dtYi5njjCJcqGzEwDls/IRuAKZ43VYtfGtndXVqBY30VjezG3tNRkRBBPIM4AAcuM7WwWRQccHlcgG/wCQnrJ/38b/ABo8hPWT/v43+Nc/H4zi/taysrvRtVso9QneC0urmKNY5XUM2Nu8yLkKSN6L+FQ6V8QLHVbmxVdN1G1ttQkkhtby5SNYpJIwxZeHLDhHwSoB2nB6UAdN5Cesn/fxv8aPIT1k/wC/jf41iaB4si8QtC1tpWpQWlzCZ7W8miQwzoCOQUZihIIIDhSRnjg4k1fxNHpeoCwttNv9Vvfs5uXt7FYy0cQO3cTI6jk5AUEscHA4NAGv5Cesn/fxv8aPIT1k/wC/jf41zl947srQymHTdTvIrW3jub2WCBQLONxuBdXZWJ2/MVUMwHUcjMGp/EbTNMuL0fYNQu7bT4op7u8to42ihikAKvkuGYYycKCeDx0oA6ryE9ZP+/jf40eQnrJ/38b/ABrlrvx1FFZ6gJLG90y7s1t5TFeW6OXiml2K4VJcYJDDBYEY5HYvPj6yGoy250zUhbQagumzXxSMQxzswVQfn3kEsvIUgbhnHOADpvIT1k/7+N/jR5Cesn/fxv8AGuYvPiBY2d0y/wBm6lNaLqCaab6KNDD9oZwhXlw+FYkFtu3KkAk4Bk8deItT8O6VZvotj9qury9htEZlV1j3sBkqZI9xPQDcBnqQKAOj8hPWT/v43+NHkJ6yf9/G/wAa5e38e2xsr2a407UNtjO1k8qxRgXN0HEfkxIJCxLMRgn5QOrDBw648f2FlYXs2oadqNtc2M8EM9i0cbzL57BY2GxyrKSeqsfusMZGKAOm8hPWT/v43+NHkJ6yf9/G/wAa5NviNaxSXi3Wh6xbf2dNHHqBkSEizEm3Y7FZSHUhs/u95AByBxnsKAI/IT1k/wC/jf40eQnrJ/38b/GpKKAI/IT1k/7+N/jR5Cesn/fxv8akooAigUK0wGcb+5z/AAiili/1k3++P/QRRQBJRRRQBDd3dvYWc13ezJBbwIZJZZGwqKBkkn0rBXx/4dKTtLd3Ft9nhW4kW6sJ4G8pnCCQK6Asu4gFhkDvitPxANUbw5qC+HmjXVDbuLVpMYEmODyCM+mRjPXiuG03wlf3/iq7m1XT9VTT77R7ixuJtVv4p5nkkkRifLR2SNSM4EeB8pyq8ZAO11LxLpGkS3Eeo3ghe2t1uZV2M22NnKL0ByWYFQo5J4ANGjeJdL1+W6i0yeR5rMqLiGa3kheItnAZZFUgnBOMdMHoRXn9voOu2fhdtU8S/Zl1xdTsXSCS5RFuUtiiJGHJ2h5D5jgE/ekAOO3Q+D7q5vvHHiy5u7B7Bv8ARI/IkkR5FxGx+coWUMQynAY8MvOeAAdVfanaaa1qt7L5Zu51tofkYhpCCQCQOM7TycDOB1IqpD4m0e4jleC9WQQ3/wDZz7UYkXAYKY8Y7E8noBznAJqv4y0y51XwvcR6bH5l/bvHd2abwm6aJxIi7jwMlduTxzXM+FvB2raZrunNfpH9jW1S/umDLk6lsaNxjuNrk59VHXsAbcfxB0RbO0ku7hvPurc3Kw2dtcXOYwxUuNsQbaCOSVGPyzZ1HxroenWkM7XZnFxa/bIhbwyTZhxkSsUU7E5Hzthffg1z3hDwxq2l3Fk9/Z+V5WhvaOfMRsSmctt4J7YOelUfDmgeIvC+l27HRG1Ka60G3sJYEniBtpofMwGZnAMbebyV3EbehoA7zw5rH/CQeGNN1jyPs/262juPJ379m5QcZwM4z1wKra/4t0rw7vS9lka4W3a48mKCSUpGv8blFby0zxvbC8Hng0ngrTrrSPAmiadqEXk3VrYwxTR7g211QAjIJB59KydZsdY0/wAQ6xfabpLavFrGnR24VJY4/Ilj8wDzN7D92wl6qGIwflORQBNZ+P8ATm0mHUtVaHT7dtJtNTlBd5GhWclQDhMFQRjcDnrlVGCb1x410W1iie4kvUaWJpvK/s64MscasVLyR+XujXIOGcAHBwTXEf8ACGa8dBitjYZkHhzSbFkM0f8AroJ2aVPvY4Ug56HsTWx4g8O3i+ML7VRpmq6ta31pFGqaZq7WTwyR7vlcedGGRg+QckghuOaAOi1PxjoWkmMXd6WElv8Aat1tBJcBIP8Anq5jVgidcO2AcHB4OMwfEC0e+1m3SBkXTLq2txPOkyRTec0a5DCIjOZMKBkNw2Qp3Cppuk6n4P1CWTSvDxvba60+2gjt7S9Qi0khDLsZ5irNGQ4w4Bbhsr0zV1Xw9rdzN4gjj0zIv77TLuKSOeMx4he38xeSGyojY8qAQBjk4oA6k+L9EGsDTPtjfaDP9m3/AGeTyfOxnyvO2+Xvx/DuznjGeKii8b6BNqn9nxXkjTC7ayLfZJvKWdSQYjLt2B+OAWycjGcjPNN4d1ttIbwt/Zn7htYN7/a5ljMQhN19p+7u8zzf4Mbcd92Klk8M6v8A2P5KWmJT4tGokCVB/o/2sSF85/uc469sZ4oA7+uRtPG89wYL6TSli0S6v/sFvdm6zMzmTyldodmAhkG0HeW5BKgE466vObrwlPqPiG1WHw9caWkOrpqE91/aXmWjiOTeGih38SOQNxMa4y/zHPzAHUL420F9SisVu5d81ybSOb7JN5DzDOYxNs8stlWGA3UEdeKrH4i+GPNEf2+YkzPbqRZTlXmQkNErbMNJkHCDLHjAORXK3OgeKdR1jTZ9Ts9Subm01mOeWd9QiSzS3WVtvkwow3EKwJMi7+DgngVo2nhfVodH8NwtZhZbLxJc31yPMT5IXe6KvnPORLHwMnnpwcAHZ6Vq9lrdj9r02VpIhI0bB42jdHUlWVkYBlII6EA1drB8Labd6d/bP22Ly/tOqz3EXzA7o224PB46Hg81vUAFRy/6yH/fP/oJqSo5f9ZD/vn/ANBNAElFFFAGR4q0eTXvC97p9s6R3MiB7d5M7UmRg8bHHOA6qfwrnvD3gW80jXNLvLi7hkhtrBPtKKWzJfAOrTDj7pWaQc8/d966rWdZ0/w/pUupaxcra2cJQSTMCQu5gi5wD/EwGe3fiqUXjDRJdPvbw3ckMdgVW5S5tpYZYywGweU6hyWyAoC/MTgZPFAGR4T8IX+hX2mTXc1s62mlPZOImYku0wcEZUcYH1z2rP8AD/g3xF4VsbBtKfTbi8GkxaddrPNIkaPGzskqEIS2PMYFSFzxyK6R/G2gxaXcX9xeSW8NtLHDOs9rLHLEzkBA0TKHG4sMErg9aavjPS1+3y3U32a2s4oZG86KaOb96WCqYnjBBJXCqNzMT0HGQCpYeD3Pwoh8I6nOqyHTfsUs1vllB2bdy5AzzzyBWZeeGfFWt6k11q50mELol1pyC3nkcyTTbP3hzGu1Ts+6MkerZ46JPGWhNplxfG8eOK2lWCWOW3ljmSRsbU8llEm5sjA25ORjNM8OeLLfxLqWr29nBIkWmyxxeZKrxu5ZAxzG6qyEEkYPpmgDJTwJPc6Xr+n6hcxJFq1jb2qyQ5YxtHDsLEEAEbuQO49KpQ/D6S80u9sbvQ/DGhm4sWtjd6RbbpnkYffGUj2KCM7PnznG4YybqfEqxTxBq9pf20tnYaZMtsbuSGcvNOwUhFjEWOdxA+cscAhSGBrWufG+gWcqR3V1PESsbyF7OYC2EhwhmOzEOf8Appt9elAGfq+l+KvEPh29sdQj0e0dkiMKQTyyCSVJFclnKLsU7cYCuec54wa114Q1eXW7jXIWsVvRqNvf28DSuY222vkSRs+zIzubDBT0UkdRWxqXjnw9pGoT2WoXzxTWpQXJFtKyW+/GwyOqlUU7h8zEDrzwcXdH8RaZrslxHps0rSW2wyxzW8kLqGyVbbIqkqcHDDg4ODxQBzi+ENVub9NVv5bRL2bWIb+4hidmjiiiiMaojFQXbGCSQoySOMDOz4f0S50nVfEFzcPEyanqAuYRGSSq+TGmGyBg5Q9M8YrO1jxxNpmpakkWmRzWGkvbx3s7XWybdNtx5UWwhwA69WXJyACRzqeIfEcOg6Lf3zR7jZmNT9oLQRFnZVX96ylduWGWGcc59KAONu/h9rN5q8N3cx6XdXNvq0d8uqXVzLJcPClx5ggRChWABSR8jFTtGVG4kbEHgecePNQ1O4uYzo8ySyW9qpO+O4mRI5X5GANsfHPWR/Wpz41eLwfea9ONFmigdY43sdX8+BmZlX55TEoTBYZ4OBzVnTvF0Euhyarqk+lC1EywxSaTftfrK5IAQbYlJckgBVDE5oAxfC3gSXQbnT4n0Lwuq6eCv9rRW2bu4AGFO3YojcjBZt75IPHzcD+CdWTwZ4e0gta3q6cpS+sHvJbeC8BUgAuiEsoODsZSrZOelbv/AAnfh5dPubya9kgjtLiO2uEuLSaKSKSTbsDRsgcBty4OMe/BqOP4g+G5JDH9suEdJlhmElhcJ9ndiAom3IPK3FhgvtB7dDQBxw0aTwEmn3t3daHYTrql1Jbwu8ltZGOaMFovN2EQsNny5BDbcDk4DNH8KXXiXR7fW7iy0nUpk1W9uEtb+M/ZbqGZwNyMUYgfIGR9pyO3zZHeeKvFEXha0sp5rW4uRdXkVriCKRyodgC2EViSAeF6seBzSzeMdCg1X+z5bxhP5ywM/wBnkMUcrDKxtKF2K5yPlZgeRxyKAMSHwlqOnnTNR0jT9Bsb2ymnJ060Vre2eKVVUgyKhJcbEO/yxnGNo61r+DtH1LR9NvV1p7V7q7v57tvspYookbIA3AHjpVnxFrr6Jb2YtrT7ZeX92lnawmTy1LsGYl3wdqhUYkgE8cAk1HpXiI3bXNrqVo1rqFncJbzw25a4QF1DIwcKDsKkZZlXBBzxgkAwdO8Ia1Bb6Pot1LYjR9HuxcxXEUjme4CEmJGjK7UwSMsGbO3gDPEdr8OpTqviRb+7jOl6hbT22nRRZL2yXJL3BORgEueADjAFaEnjaWO4kuRpinRIdR/s2W9Nz+9WXeIi3lbMGMSEKTvB6nbgc3NW8XQaZ4u0bQEt2uJ9SkZZHVsC2Xy3ZS3HJby2AHH3WPbkAwdJ8D3NpbtE2geFbCVLOW3+3WNufOuHZNob/Vr5I6lhmTOce567RtPn07wxYadJIguLazjgaRBuUMqBcjOMjI71SbxroKaotg13KJWuvsYl+yTeQZ848rztnl7s8Y3Zzx14qvL8Q/DMNxJDJfyho7mS0ZhZzFDOm7dCH2bTJ8pwgO5uNoORkA5vRfh/q9l4j0HVL2DS2udMkc3moG6muLvUN1u8W9ndMpglSI8svJwV2gN6VVHSdZsdcs2udNld0SRonWSJ4njdTyrI4DKfYgdQe9XqACiiigAooooAKjuf+PWX/cP8qkqO5/49Zf8AcP8AKgCSiiigCK7tkvLKe1mz5c0bRttODgjBx+dcJF4O8Q3Uug2Gryab/ZWjwzWzTQTP590jW7Qq+woFjbBBK7mGScHjB72eZbe3kmkDlY1LsI0Z2IAzwqgkn2AJNcTp/wAULK7t9AmuNPuoF1i3uJQqQTSyI0Rj+RI1j3SgiQncowApPIzgAqaP4AOnW0drfaF4ZgitrWWCTVLG0LXlyChQMECDynIOWw0mTlQOcjI0C9u/EGueHLK2vtJv7fTdOuEM2nyu7ANEERp1ZR5DHj92dxzv5+WvQJPGGiR6dYXqXUlxFqKl7VLW1lnllUDLHykUuAuQGyBtJAOCQK0bXUrW/wBKTUNPmS5tpIzJG6Hhh/T0x2oA4q78ATzaB4Tjms9J1W70CxFpLZ6gpa2nBjjVyrFGKkGMFW2HjIwM8MvPh61xBpdyNC8MNLYyzk6T9m2WbRy7c/Nsb94vlp+88sZ5G0ZqzpXxNttW+Hl14ki09ormzRGuNOkmwybwrId2OVZWDBscj8a37/xfommak1je3jJNGYxKy28jxwGQ4QSyKpSMnIxvI6g9xQBzt54LuJ9CgsW8NeE5rcyyvLYRpJarAWwFaKdEJ3gDBYRqW4I24wd3w9DqmkW2m6PqTPfstpJJPqDSu22QOuI8sCW4c4YtkiPkc8U/EfxC0rQLXWRGlzfX2kwmSe2htZmVWMYdQ8qoyoCCPmPHX0OIz8R9Kg1S6ttQiuraGCxgvRL9lndtj+ZuLxiPdGqbBlmwPm7dwCTxN4SuNb8U6JqVtNFHb2r4v43JzPGsiSxgDGCRJGDzjgms2x8B6haeHILGS6t5biLV7S6Dlm2i2t5I/LQcZ3eVGOOm4nnHNd4jrJGrxsHRgCrKcgj1FYmr+MtE0O4mh1G5mDW8YkuGhs5pkt1OcGRo0ZUzgn5iOOelAGJZ+D9Vh1KyeV7P7PZ6/d6oHWVi7xTLN8u3ZgMGlA6kEAnI6VueGtFuNGbWDdPE/wBu1OW8j8sk4RwoAOQOflPr9ai1Dxz4e0u8mtru+fzII0mmMVrLKsUbDKu7opVV/wBokD3qv4q8e6V4Y0/UJGL3d1ZW32hoIo5GQZBKK8qqyxbiMDdjPbNAGfaeEdYiFjo8z2P9iafqZv4Z1kc3EiiRpI4mj27V2uwBYMchR8ozxv6to9xf+ItBv4XjWLTZ5pJgxO5g8LoNvHPLDrjiptS1lNO8PjVJRGi4iJErsFG9lXGVVj/F/d/Icin/AMJvoH9qtpwvJDOt0LN2FrL5aTk4EbSbdisTjAJ5yMdRQBkWXg3ULfT7GB5rYtb+IZtUchmwYnklYKPl+9iQcdOvNU/DXw9bw/PY2y6F4YeKxlymrG23XkkYztyuwbZOn7zzG6Z288dRJ4u0SPWBpjXb/aPPFsXW3kMKzEZETTBfLVyCPlLA8jjkVDD458P3FpNcw3c7wQyiHzBZTYkkJ2+XH8n7x8gjam4jHIoA5PTfh7rMGtaJf30ely3enXhmutUe5lmur9TGydXT90BkHygzLnoVx82ra+DNSt9J8K23n2vm6NfyXM7bmKsrJMBt4GTmReDjoea2z4x0QaWL/wC1S+Wbj7L5P2WX7R53Xy/I2+Zvx823bnb83TmmJ420GTTvtkd1MyfajZ+StnMZ/OA3GPydnmbgvzY29OenNAGN4d8IajpviiPU3tNK0iMRut3HpE8oi1BzgK7QFVSMj5jnLtzjd3Opqelaxb+KH13QI7G5lnsVs5re9neFV2Ozo4ZUfP8ArGBXAzxyMcy/8JjpTrZTwXMb2l1FcSmRhIrqIR842bOo5BDFSMYwTwHaZ400DV3dbO+YBbc3Qee3kgR4QQDIrSKodBkZZSQMj1oAx7vw54ljm1Y6fPpcp1yCNLueXzIvs0ojETSRxgPvBUAhCy4I5Y54rX/gC8fw74m0qwntwupWFvaWbTOw2+VFsy+F4/DNdFpHjLQ9c1FLDTrmZrp7Y3aRTWk0JeHKjzB5irlSWABHB5xnBxLrPinSNBmEWpXEolMTTmOC2lnZI14MjCNWKp/tNgdeeKAMTxN4Qv8AWtW1O5tZrZEu7GztoxIzAhobl5WJwp4KsAPf061He+DdQudD1GySa2El1r0epISzYESzRyEH5fvYQ8dM45rUHjPTo7rVheOkNrp726JcIxl+0mZAyhFUZJO4ABdxPap08Y6G+lS6h9sZYYpxbPG9vIsyzEgCPySok3nIwu3JyMA5oA861CeQXR8K6Re6bdL/AMJPHcmDzJFvY1N0s0itAV+4p3N524goBgc5r0XxRotxrcGmJavEhtNTtrx/MJGUjcMwGAecdP51WHjfTZr3To7Ql4LuW4inlnDW7WrQxl2Do6hgcf3scEHpUsXjfw/NZXV2L10gtLP7dK8ttLH+4JYCRQygup2NjbnPGOoyAZj+D7/+wbuGK4tlvl1uTVrMsWMZPnmREk4yMj5SRnGcjdjBrX3g7WNYnvNSv3sYL66utPK28UzyRwwW0/mkeYUUs7FnP3QB8o9Sd/UvFenWMVuY7iF3uPs7oH8wKY5pVjVsqjcktwCBkjkgZIdb+LtFutXXTYbqQ3DyvDGxtpVikkTO9ElK7GYYbIDE/KfQ0AYureDtQv4/F6wzWynXGtzbbmb5PLjRTv8Al45U4xmu0rGsvFui6jqSWNpdO0shcQu1vIkU5T7wjlZQkhGCcKxOFY9AcbNABRRRQAUUUUARxf6yb/fH/oIooi/1k3++P/QRRQBJRRRQAUUUUAQ3lla6hZyWl/bQ3VtKMSQzxh0cehU8Gs5/Cfh2TTY9Ok0DS3sonMkds1lGY0Y9WC4wDz1rXooAy9M8MaDoty1xo2iabp87IY2ltbSOJipIO0lQDjIBx7CtSiigAooooAx77wh4b1S9kvNT8PaVeXUmN89xZRyO+AAMsVJOAAPwq/p+m2Ok2a2ml2dvZWyklYbaJY0BJycKoA61ZooAKKKKACiiigApGVXUq4DKwwQRkEUtFAHP/wDCA+Dv+hT0P/wWw/8AxNdBRRQAUUUUAFFFFABUcv8ArIf98/8AoJqSo5f9ZD/vn/0E0ASUUUUAcn8THkj8CyvDCs8i31iUidtokP2yHCk9gelYOu+GNa8S319rn9mz2Lx/YhBpz3ixT3SwSSSPmWFyI2PmkIQ3VRnaDx6Lc2tveQ+TdwRzxblfZKgZdysGU4PcEAj0IBqWgDzi48K3N3p9zLY+H76znmv9OZjqWrm6nmihuFkYtuldVVQWwA5Jy3A4za13w3q9x4m1LVbK0Eyxzadc28RlVftJgMpkQEn5Ww4wWwM45AyR3tFAHnV3oGuahrVx4nXS2t5UvbOaHS5Zo/NmjgWVWJZWMYc+exUbsfIuSM8bfhO01P8A4SLxHqmqaU+mJqE8DQRySxu7KkIQltjMAcjpk/U11VFAHn1x4X1aTXNSuBZ5in8SWV9G3mJ80McUas+M9ip468cCpNY0fW4pfFljYaT9vi8SAeTdmeNY7YtAsDCYMwbauzcNitkHHBrvaKAPOdW8H6s+g+MLK0t/tD39vaxWbGRFM/lxKpPJ+XkHriums9Mu4viJqupyQ4s7jTrWCKXcPmdHmLDGcjAdeSO9dBRQB5z4h8N6vd6lrQj0h77ULyRW0nXBcRr/AGWpRV28sJI9jKzERqwfdzySB1WvJe3OlSxW+kQajJaywyCK9WMpdhWDN5fzfK4GdpcABgO3NblFAHCNpOr3N3ruuf8ACP25a7ksjFpWoGJ3lEBJdyVYxrKQ2EJYgeWmSO0N3pviiW51rWtLsrnS5NQls4mtY5bc3bQxBhI4JLQiQhwBlj8sY5BwB6DRQB5XaeENZNxfv/ZV3FDcavpV1Gt9qC3MxihkXzS7s7cgKTtBIwQFz0Grq/hnV7qPxsILTcdUurSSz/eIPNVIoVY8njBRuuOld/RQBz3jSwvb7SbN9NtXvJbPUrW7a3jdFeRI5VZgpcqucZPJHTrXOXuga5Lpur+HI9KLwarqbXS6mZ4/KhieQSNuXdv8xcFQApB+U7hzj0SigDF8VWX27RljOkPqwSeOTyIbn7PMmGz5kT5XDqeR8ycZ+bscnwfot1ocmqX82n3MR1W9QpavcrPNBEqBA8sjOdzHBY4ZyAQBnFdhRQB55J4e1o2N14YXTW+xXGtG+XUxNH5SW5uBcldu7zPMzlANpHQ7uuEvvB/idPFWkX0GoWF5Eury3txKbFkeJWidFDEz/OFUrGoUDHDHODn0SigDy7VNB8VapqlrLqFlqV3Paa1DciX+0Io7JbWO63qIoVYF32EZMq5+VsN91Top4Y1ZbKzT7Hh4/Fs2pOPMTi3aaVg/X+6y8deelegUUAYPhnTbvT7vxA95F5a3mqvcQHcDvjMUShuDxyrcHnit6iigAooooAKKKKACo7n/AI9Zf9w/yqSo7n/j1l/3D/KgCSiiigArz7wp4d1eyuPCX2/Tnt10fT720uHaWNhuZodjLtYkhgjY7jHIGRXoNFAHldj4N1fT49JvL7TdRvPKiu7ae003VDazxb7lpY5AyyorqRgFS+RlTg4OO58PaX/ZvhOOzi086ezCVzam8a5KM7Mx3SNyWJbJ5IBJAJHJ26KAPJ9S8A64Phzo66RbpHrUemQafqVo0igXEQ28bs7d0bZIOehYZORWxrGha39k8V6JZ6V9rh8RStJDqBmjEVsJIkifzVZg+U2FhsVs5Ucc16BRQBwV94V1ObRvHtpDCGfVo1Syd5FHnYso4uefl+dWHOPXpzT20TVbyTxRctpslu2paFb2ttHLJGXMqrcBkO1iBy6c5xz14OO6ooAxfD9y8Fva6LcwSpd2WnWzzOSpTLBl2ggk5Bjbtj0J5xyXjjRfE2tza5ZR22o3lpcWTRaYlrfx21tGzR4Yz4ZZXbcDhSGjIYAgckej0UAefTeGdWl0bxfEtlibU9ChtLVTImZJVt5EKZzgYZgMnjnrVPVdA8RWmg+KNNstFfVH1+0TypRcRKIJPsywskm9wePLDKVDAk4JGM16bRQBzfijSb3UfAZ06zh8y6xb/u96j7kiM3JOOAprDvvDGry+HtVt4LTM9x4kjv4wJUG6ETxOXzn+6hODzx0r0CigDkNHg1nQru801NEa8hutVmu1v/tMaQpFLIZDuBJk3rkgAIQcL8wBJGNJ4P1T/hDNAie0mefStSmup7G2vTbySxu0y5SVHXDhZdw+YA8qSMmvSKKAPOpNF1q2095ND0nVdNjvL0HUEXVkuNRuIRCUBEkzskZ3bfuyE7RkFTwKWn+FNRt9L1Fb/wAN6hN52tNe23ka1i9t0e2RA6zGQbnBDKytIB1wXAGfUqKAPN38PeKL2zsDqKTXUsNtqUKtcSw+ciSIFgWQphS5A5K5GepPUxeJPCd/eaTp0Uzw6fa2/hi6sbq6nmVY7eRkhxuOfu/I2SMgAfSvTaR0WSNkkUOjAhlYZBHoaAOB0fUb7VPipYS3ukNpnl+Hpsq08UhYtPCcqY2YbPlO0kgnDfKMc6l7b6po3jK+1mw0ibWIdQsYYBHbzRI8MkTSEbvMZRsYS9Rkgr0rd0vQ9J0SORNF0uy05JSDItpbpEHI6E7QM1eoA89vfDmuNrV3qyafGzxajZX0drFcLicR25jkRGbHILHbuCglR0zkJP4f1u81eTxMdLaGVdUt7pNLaaPzniihkhJLBjH5h80sBuxhFBYHp6HRQB574n8M6h4+k0tNU0qbSrRJbnzP9KjaVAYCsbuEJUnfg7AzggDdwSoi1PQfE2vS6BdXtgsF0SLHWtssZR4Fljl81BnlWMRAXqBKcjjNej0UAeaQeDdaj8NS281ssl1FqljDbASqf9AtbhShJJ67fMfHX5sYzVq20PW7fxMh0ew1HRLeS6lN8P7QjnsJomLsXjQkyJKWKnCpGAd2SeM+g0UAebeFfCNxpo0Sw1HQNQkm0lhm/l1yRrP5FKrLFD5rHcwP3DGiruYZ4GfSaKKACiiigAooooAji/1k3++P/QRRRF/rJv8AfH/oIooAkooooAKKKKACiiigAooooAKKKKACiiigAooooAKKKKACiiigAooooAKKKKACiiigAqOX/WQ/75/9BNSVHL/rIf8AfP8A6CaAJKKKKACiiigAooooAKKKKACiiigAooooAKKKKACiiigAooooAKKKKACiiigAooooAKKKKACiiigAooooAKKKKACo7n/j1l/3D/KpKjuf+PWX/cP8qAJKKKKACiiigAooooAKKKKACiiigAooooAKKKKACiiigAooooAKKKKACiiigAooooAKKKKACiiigAooooAKKKKACiiigAooooAji/1k3++P/QRRRF/rJv8AfH/oIooAkoqPyE9ZP+/jf40eQnrJ/wB/G/xoAkoqPyE9ZP8Av43+NHkJ6yf9/G/xoAkoqPyE9ZP+/jf40eQnrJ/38b/GgCSio/IT1k/7+N/jR5Cesn/fxv8AGgCSio/IT1k/7+N/jR5Cesn/AH8b/GgCSio/IT1k/wC/jf40eQnrJ/38b/GgCSio/IT1k/7+N/jR5Cesn/fxv8aAJKKj8hPWT/v43+NHkJ6yf9/G/wAaAJKKj8hPWT/v43+NHkJ6yf8Afxv8aAJKKj8hPWT/AL+N/jR5Cesn/fxv8aAJKKj8hPWT/v43+NHkJ6yf9/G/xoAkoqPyE9ZP+/jf40eQnrJ/38b/ABoAkqOX/WQ/75/9BNHkJ6yf9/G/xqOSFRJFy/L/APPRv7p96ALFFR+QnrJ/38b/ABo8hPWT/v43+NAElFR+QnrJ/wB/G/xo8hPWT/v43+NAElFR+QnrJ/38b/GjyE9ZP+/jf40ASUVH5Cesn/fxv8aPIT1k/wC/jf40ASUVH5Cesn/fxv8AGjyE9ZP+/jf40ASUVH5Cesn/AH8b/GjyE9ZP+/jf40ASUVH5Cesn/fxv8aPIT1k/7+N/jQBJRUfkJ6yf9/G/xo8hPWT/AL+N/jQBJRUfkJ6yf9/G/wAaPIT1k/7+N/jQBJRUfkJ6yf8Afxv8aPIT1k/7+N/jQBJRUfkJ6yf9/G/xo8hPWT/v43+NAElFR+QnrJ/38b/GjyE9ZP8Av43+NAElFR+QnrJ/38b/ABo8hPWT/v43+NAElFR+QnrJ/wB/G/xo8hPWT/v43+NAElFR+QnrJ/38b/GjyE9ZP+/jf40ASUVH5Cesn/fxv8aPIT1k/wC/jf40ASVHc/8AHrL/ALh/lR5Cesn/AH8b/Go7iFRbSkF+EPWRvT60AWKKj8hPWT/v43+NHkJ6yf8Afxv8aAJKKj8hPWT/AL+N/jR5Cesn/fxv8aAJKKj8hPWT/v43+NHkJ6yf9/G/xoAkoqPyE9ZP+/jf40eQnrJ/38b/ABoAkoqPyE9ZP+/jf40eQnrJ/wB/G/xoAkoqPyE9ZP8Av43+NHkJ6yf9/G/xoAkoqPyE9ZP+/jf40eQnrJ/38b/GgCSio/IT1k/7+N/jR5Cesn/fxv8AGgCSio/IT1k/7+N/jR5Cesn/AH8b/GgCSio/IT1k/wC/jf40eQnrJ/38b/GgCSio/IT1k/7+N/jR5Cesn/fxv8aAJKKj8hPWT/v43+NHkJ6yf9/G/wAaAJKKj8hPWT/v43+NHkJ6yf8Afxv8aAJKKj8hPWT/AL+N/jR5Cesn/fxv8aAJKKj8hPWT/v43+NHkJ6yf9/G/xoAkoqPyE9ZP+/jf40eQnrJ/38b/ABoAkoqPyE9ZP+/jf40eQnrJ/wB/G/xoAkoqPyE9ZP8Av43+NHkJ6yf9/G/xoAIv9ZN/vj/0EUUkChWmAzjf3Of4RRQBLRRRQAUVDd3dvYWc13ezJBbwIZJZZGwqKBkkn0rBXx/4dKTtLd3Ft9nhW4kW6sJ4G8pnCCQK6Asu4gFhkDvigDpKKytS8S6RpEtxHqN4IXtrdbmVdjNtjZyi9AclmBUKOSeADRo3iXS9fluotMnkeazKi4hmt5IXiLZwGWRVIJwTjHTB6EUAatFVb7U7TTWtVvZfLN3OttD8jENIQSASBxnaeTgZwOpFVIfE2j3EcrwXqyCG/wD7OfajEi4DBTHjHYnk9AOc4BNAGrRXLx/EHRFs7SS7uG8+6tzcrDZ21xc5jDFS42xBtoI5JUY/LNnUfGuh6daQztdmcXFr9siFvDJNmHGRKxRTsTkfO2F9+DQBv0Vm+HNY/wCEg8MabrHkfZ/t1tHceTv37Nyg4zgZxnrgVBq/i3RtDujb6lcyJIkYllMdtLKsEZJAeRkUiNSQeWIHB9DQBs0Vz9/468O6ZqM1leXzJNb7DcFbaV0gVwCrSOqlUU7h8zEDrzwcT6h4t0XSr9rO9unSSPZ5zpbyPHb7vu+bIqlIs9fnI456UAbNFY2oeLdF0q/azvbp0kj2ec6W8jx2+77vmyKpSLPX5yOOelZviz4g6V4WtL7O+7vLNFZ4I45PLVm+6jzBCkbEchWIJyuB8wyAdXRRXI3vjee1l1W6i0pZNG0abyb28e62ShgAXMcWwhlUMCSWUn5sA4GQDrqKwb3xroOn3sltd3cqmGZLeaZbSZ4IZHKhUeZUMaH514ZhjcM4zUV74+8N6fe3Nre6g0T2kywXDm2l8uB2AKh5AuxchhgkgHoOQaAOjorO0jXtP1xbj+z5Jd9tII5ori3kgkjYqGGUkVWGQQQcYPatGgAooooAKjl/1kP++f8A0E1JUcv+sh/3z/6CaAJKKKKAKGraxBoy2bXSSsl3dx2itGAQjyHClskcFsDjJyw4rNtPGul3q3JtluHa31UaUU2AF5dwBZeeUAJOfRGwCRg2vFWjya94XvdPtnSO5kQPbvJnakyMHjY45wHVT+Fc94e8C3mka5pd5cXcMkNtYJ9pRS2ZL4B1aYcfdKzSDnn7vvQBNZfECO4t9Ojh0zUdUvb2ze8VLO3jj/dq+wkh5sLzjjcc549KsyePbGWztptIsr7U2uLAajsto1zDAfuu+9l6kEbVyx2tgHFVvCfhC/0K+0ya7mtnW00p7JxEzEl2mDgjKjjA+ue1Z/h/wb4i8K2Ng2lPptxeDSYtOu1nmkSNHjZ2SVCEJbHmMCpC545FAG/oXikXPw3tPFGt+XAraeL258lTtQBNzbRkn6DJNRy+OIbPRb3U9U0XVrCKzijmZZoY3MqOcAo0bspOeq7tw445GZNA0G+0f4c2WhM9nJfW1gLYtIjSwM4XHK/KWU+nHFcVrPhfUNB8Ka9eJb2GjW80MATTtPuZZ7cTecpMwRlRU42jaq84yTQB2aeObGOG9OqWGoaXPZxRzG2uolMkqSNtQoI2YMS3y4zkHAIGRSnxtZ28V6NVsL/TLm0SOQ2lwiPJKsjbIynlu6tuf5Mbsg4yBkE4useCdW8WR39xr/8AZtrdSW0MFrbwM1zDmOUTbpC6puDMApXbwueSTxFc/Dx9S0a9tv7C8L6HI4heGOxtvOWWSOQSYmbZHujYqFKbTxk7jnAAN5vHFlbQXn9qWF/p95aiIiwmSN5p/NbZF5fluytucFB83BHzYGDTfDnim81vxZrml3Wmy6emmw2rrFcKvm7pfMJyyOyMMIpG08ZIPPAyP+EFuJbKdrTRvDfh+6jlguLRNNiLb5IpBIPNl8tPkJG3aEJHJyelbHh7Sdbh8Va1rWurYQjUILWGCCzmeXyxF5udzMiZyZMggD0xxkgDtc8ZxaC11JdaLq0ljZlBc38cUYij3Y5AZ1dwNwyUVh1HUECWbxjp8FrqUskN0JNOvksHt9i+ZJK+zy9g3chvNQg5HXtg1yfi74fax4jm1gNHpd61226xvNQuZWawTYn7uODYUQlo+ZFYE7skNjB29R8HXd78Q7LWkuIo9MAjmvbXJLS3EIkETDjGB5vPTmNOOKALreNbJbvmyvv7OF39iOq7E+zCbf5e37+/HmfJu2bd3fHNNtvGsd4t+9noer3EdndyWW+OKMiaZJfLKqN+QM872CoB1YEEVhWHw9bTdSdI9C8MXkBvnuU1S8tt92iM/mFCgT5mBJVX8wYG07TjBuT+EdXHha8sLW6jWafWZ75kjupYFngkuGk8ppUG9CVbkqDyMcg5oAujx5ZLBfC603UbW+srmK1bT5EjaaWSVQ0YQo7IdwPXcMbTnGKIvHtk8d8s2m6lb3dlcRWrWUkSGWSaQZRE2uVOQc7twUDnOATXI3HhR/Clre6tc/2JokR1GyurSG3En2WF0DRlJXEY2qwb/WkAZbJAxy2z0O68d/27qMi6Tdf8TS2ubQZNxY3Jih2NHvK/OuGZS4XhgcA7cUAdo3jiyihlW5sL+DUYrmO1/sxkjM7ySDdGFKuYyCoJ3b9oCtkjBweFfE914g1bX7e5smsk026jgjilUCUZhRm34ZlJ3E4KnGMdetZKeCruO3iutP0nw9ot5aahFeW9rp6FY5diOjLLMEUnKyvgiP5Mj71a/hfSNXstW13Udc+xLJqdzHLHFZyM6xqsSptLMq5Py9cc9cDoABJ/HFjBfSI1lfNYw3gsZtTCJ9ninJC7Wy2/AZgpYKVBOCeDiZPGNg9ik4guhI+pnS/sxRfMEwcqf4sbcAvkH7nPXisW48IazJBfaGktiNFv9Ta+lujI/wBoRHl854hHt2kl8gPvGFb7pI5sr4Nul+Jja59oi/snaboWvO/7aYxCZMYwB5SjnOck0AXbXxrZ3V1agWN9FY3sxt7TUZEQQTyDOAAHLjO1sFkUHHB5XNnw34lj8T2j3dpp17bWgJWKe5EarMQxVtoVy3BUjJAB7Zrl/DXw9bw/PY2y6F4YeKxlymrG23XkkYztyuwbZOn7zzG6Z288dT4S0i40HwvaabePG80O/c0RJU5dmGMgHofSgCpd+M47HUooLvRdWitZr5LBL94o1haVm2r8pfzNpbgNs2nqCRzV3xD4jg8ORWLT2l3eSX92tnbw2iKzNIyMwB3MAB8hGScDOTgZI4q7+H2s3mrw3dzHpd1c2+rR3y6pdXMslw8KXHmCBEKFYAFJHyMVO0ZUbiRuePnvY7rwo2lrA90NcXYlwxVG/wBFuMgsASuRkZwcdcHpQBbXxvZvZ5jsL9tR+2GyOlBI/tImC7yD8/lgbPn3b9u0jnJAqObx7ZRW9sV03UZbue/bTjYokfnRXAjMmxsuE+6AdwYjDA5xyMS/+Ht5qUzazqNvpF/qkmom7k067Bks2jMKw+VvKE7gqKwfZ94EbcHIv2fg65hl0WaLT9D0oWWqSXs1rpkRRAhgkiA3bR5j5YEsVQY4xxkgFuPxtGv2mOS0u7q8/tE2VvYQQIsrMIkkYZMpQhQxJcso4xjpukXx1Yy2sH2Wwv57+a5ktf7MREE6SRjMgbc4QBQQd2/BDLgnIznN4R1e01ibWdPeylu01aa8hgnkdI5YZYI4mVnCkowKbgQrDjHfhlv4Q1qyv4tfgksZtZa9uLm4tXldLcpNHHGY1kCFgVEMZ3bOSG4GeADZ8GeIrjxNpd7d3Vv9mMOo3FqkRQqyrG+0Bxk/P64OM9K6Guf8HaPqWj6berrT2r3V3fz3bfZSxRRI2QBuAPHSugoAKjuf+PWX/cP8qkqO5/49Zf8AcP8AKgCSiiigAoorlbf4k+FrtIGtr64lF1GZLXZp9wTdAEBhEPL/AHpXcNypkrzkDBwAdVRXK6n48sLXSm1DTzFewnSbrU4kLvG8ggC5XBjIXlsHcQyn+E84uXPjPRbB0jv7l4pPLjkmKQSSR2wf7plkVSsQ93KjHPSgDeorFufF2i2mrHTZ7qRZxKkDsLaVoo5HwVRpQuxWOVwpYH5h6irOta/pvh2zjutXuDBFLKIYyI2cu5BIUKoJJODgY5OAOSKANGisRPGGiPpLait3J5KXH2VozbSicTf88vJK+ZvwQdu3OOcY5pkvjbQYdNhvpLuURz3Rs0j+yTGbz9pbyjFt3q+FJAKgnjHUZAN6isPxF4ng8PaHbarLCz281zbwt5m6MxrLIqlypXOVDZ2kA8Y4pU8Y6G+mXl+128MNlIIrhLi2liljdgCq+U6h8sGXaAuWyMZoA26Kxbfxfolzb+cl26Yu47No5reWKRJnICI0bKGXO4YJAGDnpRqHjDQ9La8W9vSjWc0cEyrBI5Eki7kUBVO4kEY255OOvFAG1RUVrcJd2sdxEsipIoZRLE0bgH1VgGU+xANS0AFFFFABRRRQAUUUUAFFFFABRRRQAUUUUAFFFFABRRRQAUUUUAFFFFAEcX+sm/3x/wCgiiiL/WTf74/9BFFAElFFFAGd4gGqN4c1BfDzRrqht3Fq0mMCTHB5BGfTIxnrxXDab4Sv7/xVdzarp+qpp99o9xY3E2q38U8zySSIxPlo7JGpGcCPA+U5VeM+lUUAeVW+g67Z+F21TxL9mXXF1OxdIJLlEW5S2KIkYcnaHkPmOAT96QA47dD4Purm+8ceLLm7sHsG/wBEj8iSRHkXEbH5yhZQxDKcBjwy854HXXlla6hZyWl/bQ3VtKMSQzxh0cehU8Gs5/Cfh2TTY9Ok0DS3sonMkds1lGY0Y9WC4wDz1oAh8ZaZc6r4XuI9Nj8y/t3ju7NN4TdNE4kRdx4GSu3J45rmfC3g7VtM13Tmv0j+xrapf3TBlydS2NG4x3G1yc+qjr26/TPDGg6LctcaNomm6fOyGNpbW0jiYqSDtJUA4yAcewrUoA8/8IeGNW0u4snv7PyvK0N7Rz5iNiUzltvBPbBz0qj4c0DxF4X0u3Y6I2pTXWg29hLAk8QNtND5mAzM4BjbzeSu4jb0NenUUAYfgrTrrSPAmiadqEXk3VrYwxTR7g211QAjIJB59KwfGGkanPrEt5oOl6lFqRtlW21TTdRjjUupfalxDKQrRgtnO2Q4JwAQM9FfeEPDeqXsl5qfh7Sry6kxvnuLKOR3wABlipJwAB+FX9P02x0mzW00uzt7K2UkrDbRLGgJOThVAHWgDzqf+2rjV/Gej2mkC/uNQgt7aS7SaOOKGR7ZULSBiG2DJYbAx4IwOMpL4JurG61azuNI1LXbXUShilttaks4CDCkTpcRiVePkzuVJCVOMcAV6VHawQ3E08UEaTTkGWRUAaQgYG498DjmpaAPM7vwdcwalrUE2h6jq1pqrrJF9l12S2t1DRLE8U6+apIGz7yo5KnGOMUmv+H9ft/D3iXQNK0JtRTWJhcW9ylzEscIKIrI/mMHLKY/lIBBBXJXnHptFABXnPjHwlP4guNTsbbw9cQSakUjfU4tS22rJgAySwBxulUAhR5b8hDuGPl6mbwP4TuJnmn8L6LLLIxd3fT4izMTkkkryTWzb28NpbRW9rFHBBCgjjijUKqKBgKAOAAOMUAeZ+L9A8U622q28lnqV6ftKNYeVqEUFmkCsj4KBleSQ4IxICoPIIFaGqeF9WuNF8UQwWYaa/1+1vLceYg8yFDalmznjHlScHB46cjPoFFAGDpOm3dt4w8QX08W23vPs3kPuB37IyG4ByMH1reoooAKKKKACo5f9ZD/AL5/9BNSVHL/AKyH/fP/AKCaAJKKKKAMTxf4lTwl4ZuNWktZbsxlVSGNWO5mIAyVVto5649uSQDXsfG+lTmSC+lNreWsKzXyeRP5VoDGJRvleNAnyEH5wpzkYyCA7x1pd5rPgy9sdNh865laIom4LnbKjHkkDoDWRqPhXUtRh8bwxxxxNqtxBJZvI42y7LeFcNjJUb0ZeR74NAGxF458PyWF5eNeSwRWMK3FwLm0mhdIj0cI6BmU4PIBHFQP8RfDKCbfeXIMCebKp0+43RxYz5pXy8iPH/LT7vvXO+JND17xbFql6dDk0+Q6LJp8NpcTwtJPJJIjsco5UKvlgAlgTuPA76usaBqd14h8UXMFtvhv9ASztm8xR5kwM+VwTkffXk4HPXrQB0Ou65Bofhq81p1NxDawGbbER84xkYPTB9eg61n6X4pnlvdRsta09bW6sIIbllsJXvVeOTcFxtjVt+Y2+Xb0wQTnhuraVqtx8OhpumuYNRW1hQATmMkrtLx+YvK7gGXcOmc1Q8PabdaXq1/f6d4bm0XS/syomkRPArTzhiTKqJIYkO3C53AtjnoKAJ9Z8atYeKToloNF88RxEf2nq/2R5XkLAJGgicsRhfT7wFGq+NXs/Fh0KzGi+cqxADUdX+yySySE4SOMROX42+nLAYqDxPY6rcjXtPs/DVreJrNskEV9GYowpKFCbks29ghO5SisccYyOa2uaPq7aZrOh22gW9+NVs47aLVEMUfPleWXutzb2KHLAorcYHBGSAdBqvjTQtFuprfULqZWt1Vrh4rSaWO3Dfd8yREKx5HOGI4IPQg1Hf8Ajvw5pmoXFne6g0clq8SXLi3laK38wKUMkgUoituGGYgdeeDjjvGfhzxVrNnrWmGHUtRje18rTDDfx21qP3ShjMAwkeQsr4DB0+ZR8uSwvav4X1i80fxhHBY5l1NrQ2qmVAZAkUStzuwMFWHPpxQB2Oj+ItN11rhdOllMlsV82Ke2kgdQwyp2yKpwQDg4wcHnisuHx3p39peILe+Sayh0R0SS4lhlCy7lU8ZQZYs21VBYvwVzkVZ07TbuDx7rmoyxbbS6s7OKGTcDuaMzlxjORjevUd+O9c7q3h7WZdc1u6tLAzA6hY6pakyoqXPkJGrQ5LZVztbBI2525Yc4AOw0nXdP1tZ/7PlkL27iOeGeB4JYmIDANHIqsuQQRkcg8Vg3Xjae3l1O7j0pX0XSbj7Nd3j3W2XcMb2SLYQyruGSXUnDYBwAbHh+xv5fFOsa/qFi+mpew29tDayujSbYt5LvsZlyTIQAGPC89cDn/FnhOfX7vULG28PXFu+oTIJNSj1LFo0YC5lkg3jdKACADG3IQ7+PlAOt1vxEmk2reRazXN21zFaQQsrRLLLJjb+8YYKgHLMu7GCMEjFN0bxC94+pW2sW0WnXmlsPtKrceZFsZdyyLIVXKkZzlRgq3pk1vFVnqGpWsMunWEklxpOoQ3cUbyIou1UfMEO7g4dgN+35h6fNWS3hrWtek1i9l8vRTqNxbf6LeRLcl4IVPyyCOUD52JyFcjaMHqRQBoaL4+0/U/D9zrF3DNYW8d81nFGyNJLMcgLiNV3bmz9wAkfgas/8J34dGnS3sl7JFFDcraSpLaTJKkrAFUMbIHBIIxxzmuWttD8badoeqxrN+8u9bknf+zI4orh7d873iM0joCTsIDEFQG5JIqGw8JayL27mOlXMEM2v2N9El3fi5lWGNFVi7s7EsCucZOMgKWAoA6yH4geG55liS8nVzMtu4ksZ08iRm2qkpZB5RJIwH25zxmukrz6+8MavNp/iuOO0y+oa3a3VsPNT95Eht9zdeMeW/BwePcV6DQAUUUUAFFFFABRRRQAUUUUAFFFFABUdz/x6y/7h/lUlR3P/AB6y/wC4f5UASUUUUAFef+HPDGrafD4CW6s/LOkWM8V6PMQ+U7RKAOD82SDyM16BRQB5TN4L199Da3WwzKdG1u12+dH/AK24mDQr97+Ic56DvirNx4PvYdQ1dbvRdS1iHVRE8ZtNbe0hX9ysTxToJV+UbB8ypISrEY4APptFAHnd7oOsWuu+Z4b0q+0q6M8Obu21JJLG4jARXM8Uh3bgilQUjLHCnfyca3xBmmt4vD01rafbZU1qErbhlUyfJJwC3G70yQM4yR1rrqintYLkxG5gjmMMgkj8xA2xxnDDPQ8nn3oA841HwprOqai/iObTrmJ21RLg6TDf+RcmFbc2+4SxyBRJyW2h8FflLckC5b+GLk3Wk3drodzY7ddW8uRe6mbudo1tZYhJIWdgDkooVXfjB45A9AooAwPGGl3WrabYQ2UImaLVbK4kUsBiOOdHc8nnCgnHU9q5/VvDesy+INZ1O1tBMq6hYX1rCZlX7UIY8Ooyflb03YGQOQOR39FAHnWoaBrup3moa+uktBM97p0sOmyTxedJHayMzEsrGMM28gDdjCrkjPDToGu6jrl7qU+kPaJc65p94kUs8TOsUKKrs21iMgr0BPtmvR6KACiiigAooooAKKKKACiiigAooooAKKKKACiiigAooooAKKKKACiiigAooooAji/1k3++P/QRRRF/rJv98f8AoIooAkooooAKKKKACiiigAooooAKKKKACiiigAooooAKKKKACiiigAooooAKKKKACiiigAqOX/WQ/wC+f/QTUlRy/wCsh/3z/wCgmgCSiiigAooooAKKKKACiiigAooooAKKKKACiiigAooooAKKKKACiiigAooooAKKKKACiiigAooooAKKKKACiiigAqO5/wCPWX/cP8qkqO5/49Zf9w/yoAkooooAKKKKACiiigAooooAKKKKACiiigAooooAKKKKACiiigAooooAKKKKACiiigAooooAKKKKACiiigAooooAKKKKACiiigCOL/WTf74/9BFFEX+sm/3x/wCgiigCSiiigAooooAKKKKACiiigAooooAKKKKACiiigAooooAKKKKACiiigAooooAKKKKACo5f9ZD/AL5/9BNSVHL/AKyH/fP/AKCaAJKKKKACiiigAooooAKKKKACiiigAooooAKKKKACiiigAooooAKKKKACiiigAooooAKKKKACiiigAooooAKKKKACo7n/AI9Zf9w/yqSo7n/j1l/3D/KgCSiiigAooooAKKKKACiiigAooooAKKKKACiiigAooooAKKKKACiiigAooooAKKKKACiiigAooooAKKKKACiiigAooooAKKKKAI4v9ZN/vj/0EUURf6yb/fH/AKCKKADyE9ZP+/jf40eQnrJ/38b/ABqSigCPyE9ZP+/jf40eQnrJ/wB/G/xqSigCPyE9ZP8Av43+NHkJ6yf9/G/xqSigCPyE9ZP+/jf40eQnrJ/38b/GpKKAI/IT1k/7+N/jR5Cesn/fxv8AGpKKAI/IT1k/7+N/jR5Cesn/AH8b/GpKKAI/IT1k/wC/jf40eQnrJ/38b/GpKKAI/IT1k/7+N/jR5Cesn/fxv8akooAj8hPWT/v43+NHkJ6yf9/G/wAakooAj8hPWT/v43+NHkJ6yf8Afxv8akooAj8hPWT/AL+N/jR5Cesn/fxv8akooAj8hPWT/v43+NHkJ6yf9/G/xqSigCPyE9ZP+/jf41HJCoki5fl/+ejf3T71YqOX/WQ/75/9BNAB5Cesn/fxv8aPIT1k/wC/jf41JRQBH5Cesn/fxv8AGjyE9ZP+/jf41U1bWINGWza6SVku7uO0VowCEeQ4UtkjgtgcZOWHFZtp410u9W5Nstw7W+qjSimwAvLuALLzygBJz6I2ASMEA3fIT1k/7+N/jR5Cesn/AH8b/GuRsviBHcW+nRw6ZqOqXt7ZveKlnbxx/u1fYSQ82F5xxuOc8elWZPHtjLZ202kWV9qbXFgNR2W0a5hgP3Xfey9SCNq5Y7WwDigDpfIT1k/7+N/jR5Cesn/fxv8AGsLw94mF78O7HxLrbQ2qyWAu7po1ISMbdzEDJOB6cmqsPj+1NxLBe6Nq2nyx6ZLqoW5ij+eBCoOCsjDcS33TgjHOMjIB0/kJ6yf9/G/xo8hPWT/v43+NYN/440rTPJa9FxHHLpkuqeZsBCxR7NwODnd84wAD35rO1zxxfWHhe/1C28Oajb3dr5JWK9SIo6u2NwdJSp7ggNuBIyMHNAHX+QnrJ/38b/GjyE9ZP+/jf41R1LW4NI0MalqEM8eQiraqoeZpXIVYgFJBcswXg4z3xzXK/wDCf3n9oeIIrrT5dNTS/wCzwsdxAsku64lZTnZLsYYC4Ktxk5yRtoA7jyE9ZP8Av43+NHkJ6yf9/G/xrnB47sz/AGk/9m6j5Gn3LWZn2R4nuQ6oIY137mZiy4O0L6sMHDm8cWVvbXp1CxvrK9tDEp06VEeeUynbEE2OyNvYFR83BB3bQM0AdD5Cesn/AH8b/GjyE9ZP+/jf41yGqeN7+1uNLht/DmoxS3OprZ3EN0sQZVMTOCjCXYxOOCGYDa4OGwDYg8bRN+4itLrUr+S+u7eG0tIUjcpBKUZiXl2hR8o3Fl3FhhRnAAOn8hPWT/v43+NHkJ6yf9/G/wAa5k+P7CVNKGn6fqN/caoJ/KtoY41kjeEgSpJvdVRlJI5OMqQCcrna0XWbbXdEg1O0SVIpg37uVcOjKxVlIGeQwI4JHHGaALnkJ6yf9/G/xo8hPWT/AL+N/jXNf8J1Gl1BBdaBrVqbuKaSzaeGIG58pC5UL5m9GKgkCRU9Dg8VYfxvo0drYXLSSfZ73T31IShMiG3RVJZwDkZ3qAACSeO1AG75Cesn/fxv8aPIT1k/7+N/jXOP45tbW1vZNV0rUtNktbCTUVt7lYt88MYy5TZIwyMgFWKn5hxUyeK55ra3ktvDGtzPcoZUjVIFxGNuHLNKEGdwwhbfwflABoA3fIT1k/7+N/jR5Cesn/fxv8a5mDx/YX1np82ladqeoSXtqbz7PbwqJIIgdpLhmUZDZXapYkg7QcZp1t47tNRsLC40fS9S1GW+tPti20CxLJHDnAZy8iqMngAMScHA4OADpPIT1k/7+N/jR5Cesn/fxv8AGudbx1p8sdq2lWd9qrXFqbwx2sShoYQ23c4kZcHcCNoyxKthTg1L4W8SNqvw9sPEesGG2Mtn9quTGCI4wASxAJJwAPU0AbvkJ6yf9/G/xo8hPWT/AL+N/jXLN8QrOG1lmvdI1a0AsXv7dJoo913CmC5jAc4YBlJR9rYPTg4v6h4y0rTp3jlM0ipYremSFNw2O4SNQM5LOxIUAc7TyO4BteQnrJ/38b/GjyE9ZP8Av43+Nc3c+PLPT7LUJtX03UdPn0+JJ5bSZI3keJ22h08t2VhuyMbsjHTkZ2YtUc6K2o3enXtoURna0dFlmAGeAsTOCTjgAk8+vFAFvyE9ZP8Av43+NHkJ6yf9/G/xrF0rxUuo64dJutJ1HSrz7L9rSO8EREke7aSDHI4BBIyDg8it6gCPyE9ZP+/jf41HcQqLaUgvwh6yN6fWrFR3P/HrL/uH+VAB5Cesn/fxv8aPIT1k/wC/jf41JRQBH5Cesn/fxv8AGjyE9ZP+/jf4093WONnkYIiglmY4AHqa4pPiC154i0C2tdNubXTdVM7re3saqs8KRM4kjw5KA4U4kVSVbp1wAdl5Cesn/fxv8aPIT1k/7+N/jXP2Pjexu57YT2V9YW16jyWV3doix3SopclQGLLlAXAdVJAPHBFQWXj+zvL2zgfSdVtU1CGS4s554kCTxou4sMOSuRggMFPzDigDp/IT1k/7+N/jR5Cesn/fxv8AGuYsvHsGoaZYXdpomqu2pDdY2+2ESXKBdzOMy7VUDu5XJIAzkZsL41s5bW3NpY31zfXE0luNOjRBOkkf+sDFnCDb678HK7SdwyAb/kJ6yf8Afxv8aPIT1k/7+N/jXOf8J1ZyraR2Wm6hd39zJNH/AGfGIkmiaHAlDl5FT5SyjhjncCMjmt+wvF1DT4LtIZ4FmQOIriIxyJnsynkEelAEnkJ6yf8Afxv8aPIT1k/7+N/jWHrHjPT9DfVUvYbrdplpFduqIpM6SMyqI+eTuXbg45I9ai1LxjawSW8VoXYyyWOZRCJE2XM3loPvrgnBOedowcNwCAdD5Cesn/fxv8aPIT1k/wC/jf4159B8RdXeKxkn0KVTca9c6YYFVGkdIxNtC4lKhwY1VmYhfvEcc12eh63DrtjJcQwT2zwzyW89vcBRJFIhwVO0lT2OQSCCOaAL3kJ6yf8Afxv8aPIT1k/7+N/jXGW3i7V5fsGsSR2X9iahqX2CK3Eb/aI1LtEkpk3bW3OoOwIMBx8xxzqeJ/EtzoOraHb21i98uo3EkLwwoDK22JnGzLKo5UZLHAGenWgDf8hPWT/v43+NHkJ6yf8Afxv8a55PG9nPawfZdP1Ce/mnlt/7NVEWdJIxmQMWcRgKMHdvwdy4J3DLP+E1tZZNPMSzRCaS5iuLaW3BkieGMsyEhwFIx1G8Nxg4O6gDpPIT1k/7+N/jR5Cesn/fxv8AGuY034g6dfpbzXNjqGm211YvqFtc3qIEmhQKzkbHYjAcH5gMjkZqbS/Gtvqes2emvpOqWM19aveW7XccYWSJdvPyuSCd4+UgMO4HGQDofIT1k/7+N/jR5Cesn/fxv8a5HxJ42n8N+NNPsri2jbRpbYy3lyAd9qS4RZDzjZuIB443A5wDVmTxiLHUdfj1CEvFp91b21pFbRlprh5YkYIATgsWfA6ADqeCaAOl8hPWT/v43+NHkJ6yf9/G/wAa5mfx/Y2tncPd6bqUN5bXUNrJp5SMz75jiLG1yjBicAhiMgjsax9R+IWr2f8AwkjPoUtkmkwW0sZuhG+DI2GVxFKxJIyV2/3Tk5wCAd95Cesn/fxv8aPIT1k/7+N/jWVoviSPWL+7sZNPvdNvLRI5Xt7wR7jHJu2uCjsMEowxnII5Aqtr/jGPw99rluNF1W4srKNZLq9gijEUQPJxvdWfAwTsVgM46ggAG95Cesn/AH8b/GjyE9ZP+/jf41zGofECx0++1GA6bqU8GltF9tu4o4/KgWRVZXO5wzDDchVJGDkcjNTxn8QG0DR9bm0fTbi+m0mMCa68tWtoJiAVR/nV2OGUnYCFDDJHOADsvIT1k/7+N/jR5Cesn/fxv8akooAj8hPWT/v43+NHkJ6yf9/G/wAakooAj8hPWT/v43+NHkJ6yf8Afxv8akooAj8hPWT/AL+N/jR5Cesn/fxv8akooAigUK0wGcb+5z/CKKWL/WTf74/9BFFAElFFFAFfUL620vTbnUL6TyrW1heeaTaW2IoLMcDJOADwK58/EbwyN/8Apl0zJEJ9i6dcF2hO7EyqI8tF8p/eAFOnPIzoeL7G51TwRrmn2Mfm3V1p1xBDHuC73aNlUZOAMkjk1jPoOonxNLdLbf6OfDosVbev+u3k7MZz0PXp70Aaeo+NtB0sZuLuWVRbC7drS0muRHCQSJHMSMEUgEgtjOD6U+bxhoMC3hl1BVFnbR3Uh8t/mik+46cfvASMDZu5468Vw914d8VS6Ba6RcWmozW0ei29tbwWOoRW0MVwIikhuHDCRgDjAXehHVSaW68J6/fN4evTpEUcnhextjDbyyRl7+bEZkj3BiFCbPlJ/wCWmG+6MkA9QjcSxq6hgGAIDKVPPqDyPoaym8VaLGIzJehPM1A6Ym6NwTc5I8vBHscHoRyDgitWNi8asyNGWAJRsZX2OCR+RrzbX/BWsXvizVpbGJf7Pe3bUbNjIv8AyEdsaIME5UARBs9Pn69aAOuuvFum2upG3e4j2RJcNcORJuTyVRn2gIQwAkGfmHPA3HIC6b4y0LVnkWzvWAjtzdF7iCSBHhBwZUaRVDp/tKSORzyK5W/8J6xNp+nlbRXum0vU/tu2VMLdXQRtoJIyN+4A9AAOnFO1zwZqusiztIlFtEfDNzpssxcbYpn8napAOSPkPIBHH0oA29O8eafq/iy10XTYppFuLGS88+aGSAhVZFUqkiDerbyQ4OPlPXt0088VtbyT3MqQwxKXkkkYKqKBkkk8AAd64zT4dc1L4gaZquoeH30u2tNKntpZJJ4X3Su8RwoR2Oz5DgnB65A4zv8AizRpPEPhHVNJt5UilvLZ4kdwSoYjjOO2evtQBhv8StNk1K5trKJzFb6NPqzT3cU1sAkZUD5Wi3FG3E71DfdOAxrXTxhorahPYvdlZ7WIS3TeRJ5Vspj8wNJKVCICvILEZwR1BFchremeJPE17qVw/hyWw8zwte6ennXMDNLcylCEG1z8nynDEjvkLxm5P4P1PUNL8X2RVLV9US2FrK8nyuY7eNSGKHco3KVJ64yRmgDprDxbouoxzvFdPbi3g+0y/bbeS1Kw8/vMSqpKcH5hwPWsfVPiXo1lost9Zx3l1JG1v/oz2VxDIUlk2LIFaPcU+9hsYJG3OSKxpPCFxrunaii6FqGk3s2mtbx3Osa5JefOzKxjVRLKPLJQbnO09MKecaviD+3vEvhm6t18Mz2UiG3lSO4u4DJKyTpI6IEcrjanDM65OOB1oA1h4w02OO/lvJlijtbqO1VUjleZ3eNHVPK8sNvO/wC6u7j0OQCTxvoEWmQX8l7IIZ7s2SJ9ll837QAx8oxbd6vhThSoJ4x1Geafw9rUfiC41+PTHlMOuLfx2RmjEk8TWKwNtO7aHVixwzAHaeeQS6Pw1rF3rttrU9gLb7R4hS+ktDIha3gSzkgDOQxUuW2khS2Nw5ODQB2uk6xZa3Ym602VpI1kaJxJE8TxupwysjgMpB7EDsehql4g12bSptPs9PsRfahqMxit4pJvJjAVS7s77WIAUHopJOBjuIfCumXum3HiBr6Ly1u9Xlubf5w26MxxgHg8cq3Bwad4tsft1jag6LNqyxXAk22t59muIDggPE+5OecH51+Unk9CAQ2/jSxW0k/tZHtb2G8axktLdHumaZUEhEYjXc67CHztBAPIGDTz478PCwt7v7bIY7m5ktIkFpMZTOm7dEYtm9XG0/KQCeMdRnlLbw14i0rST9kg1CG31LVJbu/stPvIjeJG0SpGvnStgn92C7K+7LHax607w54T1mzv9Kku9OeGO31+8vZBLeC4ZIZLZ1Ri7MWc7mCnOTnJ6c0AdTYeO/D2pXVvBZ3sjtcSmCNmtJkQSgEmJnZAqyYU/IxDdOORXQ1wFt4Z1eOxije0wy+LJtRI8xP+PdppGD9fRgcdeeld/QAVHL/rIf8AfP8A6CakqOX/AFkP++f/AEE0ASUUUUAZHirR5Ne8L3un2zpHcyIHt3kztSZGDxscc4Dqp/Cue8PeBbzSNc0u8uLuGSG2sE+0opbMl8A6tMOPulZpBzz933rqtZ1nT/D+lS6lrFytrZwlBJMwJC7mCLnAP8TAZ7d+KpReMNEl0+9vDdyQx2BVblLm2lhljLAbB5TqHJbICgL8xOBk8UAZHhPwhf6FfaZNdzWzraaU9k4iZiS7TBwRlRxgfXPas/w/4N8ReFbGwbSn024vBpMWnXazzSJGjxs7JKhCEtjzGBUhc8ciukfxtoMWl3F/cXklvDbSxwzrPayxyxM5AQNEyhxuLDBK4PWmr4z0tft8t1N9mtrOKGRvOimjm/elgqmJ4wQSVwqjczE9BxkAzl8Mix+DR8N63cbBDpJtrie1jabbhMFlUDc2OuMZNc7pVxeeOfFcplvNKntz4buLKW50idrmNJJnj5Ziq7WIVj5fUBeSc8dunjLQm0y4vjePHFbSrBLHLbyxzJI2NqeSyiTc2RgbcnIxmmeHPFlv4l1LV7ezgkSLTZY4vMlV43csgY5jdVZCCSMH0zQBz9v4W8TzX9ldX66HG1los2mrHvluI5nbysM6lU+Q7CCuePVs8V18AamdJ1q3tYdO0eK+hjEOmWl5LLaiZZN7SfMiiLdhV2onbPPStJPiVYp4g1e0v7aWzsNMmW2N3JDOXmnYKQixiLHO4gfOWOAQpDA1rXPjfQLOVI7q6niJWN5C9nMBbCQ4QzHZiHP/AE02+vSgB/iLR7zXfD8Mcbw2upW80N5ENxeITRMHCFsAlCRtzgHBzjtXOXfhHxFq9xr91qP9mW0mpf2csEMFxJIsS20zSPucxrkkNkYUdcHpuO/qXjnw9pGoT2WoXzxTWpQXJFtKyW+/GwyOqlUU7h8zEDrzwcXdH8RaZrslxHps0rSW2wyxzW8kLqGyVbbIqkqcHDDg4ODxQBzd/wCBbi/8NanYTNZSTS6w+qWyToZIJP3gdY5VI+6wyrYzjORnFRJ4IuTYTSWmj+HNCvIrmC6tIdNiJWRoW3YmlCISrcrgJ8n3st92r2seOJtM1LUki0yOaw0l7eO9na62TbptuPKi2EOAHXqy5OQASOdTxD4jh0HRb++aPcbMxqftBaCIs7Kq/vWUrtywywzjnPpQBm6lpfiXV10+5uotKinsNTju4rWO4kZSgjdGBmMeSx35GIwBjGTnIo2XhHWtG1RdX002Fzdi61DdbTzPHHJBc3HnL+8CMVdSqZG0g5Iz0NXT41eLwfea9ONFmigdY43sdX8+BmZlX55TEoTBYZ4OBzVnTvF0Euhyarqk+lC1EywxSaTftfrK5IAQbYlJckgBVDE5oAo6N4OvtO1fSL+5uoJpYTfz3xXKgzXLo+Ixj7qlSOSD0PfjT8K6HeaF4T/syeeIXPnXUiyxZdV82eSRTyBkgOMj1B+tN/4Tvw8un3N5NeyQR2lxHbXCXFpNFJFJJt2Bo2QOA25cHGPfg1HH8QfDckhj+2XCOkywzCSwuE+zuxAUTbkHlbiwwX2g9uhoA5zQvAGrWPiTQtUvLfSxcacXF7ffa5ri71AtAY97SSICuDtIjywAPDDaAZLL4ZTmw8R2GpX8Ztr6JrPTDGu82lv5jygMCACd8mCO6oozXT+KvFEXha0sp5rW4uRdXkVriCKRyodgC2EViSAeF6seBzSzeMdCg1X+z5bxhP5ywM/2eQxRysMrG0oXYrnI+VmB5HHIoA5lfA15Noer2q+H/Cei3N3pU1kkumwktJLIhXcX8tDGmcfLhyc9fl+a/wCIfCmo6neacwhsdUsbe18mTT7+6ljtxKCMSlFVlmwM/K4GMAgg9NzxFrr6Jb2YtrT7ZeX92lnawmTy1LsGYl3wdqhUYkgE8cAk1HpXiI3bXNrqVo1rqFncJbzw25a4QF1DIwcKDsKkZZlXBBzxgkA4G2gk+GzaXHc6rodvejS5LWRb+aS3gdEnZ0eJ9hDMPM5i4PIwccl+ieALqTQ/DupXehaTqlymjxWlzYa5H5ZiwzSKyt5chRv3jBlK+nIxz1MnjaWO4kuRpinRIdR/s2W9Nz+9WXeIi3lbMGMSEKTvB6nbgc3NW8XQaZ4u0bQEt2uJ9SkZZHVsC2Xy3ZS3HJby2AHH3WPbkAzbfwzrOi39vqGhw6KJm05bG4tUV7W3iKyNIjxqockAyOCpxuyDuXpVvSPCk0Pwtj8K6rPH5r6c9lPNBllyylSVyBnr6CrTeNdBTVFsGu5RK119jEv2SbyDPnHleds8vdnjG7OeOvFV5fiH4ZhuJIZL+UNHcyWjMLOYoZ03boQ+zaZPlOEB3NxtByMgEFh4f1m91bTrjxN/Z6Q6XaPBElnI8n2p5FCNI+5V8sbV4QbuXOW+XnDsvhhef8Ifq+lape21xdXEsC2TuhljS3tipt45FYDcOG3Dp85xXd6TrNjrlm1zpsruiSNE6yRPE8bqeVZHAZT7EDqD3q9QBwEnge6uND1K2ttC8M6FLdRRRoumoSXKyB2LyiNPlwAAmw8jO7nA67xBZXupeHNQstKvDY3lxbvHDcjIMbEYByOR9RyOo5rRooA4Xwx4LvNI8aHWn07StPhexltpY7S5kuJpZGkSTzZJnRWkJw2S3I45bPHdUUUAFR3P/HrL/uH+VSVHc/8AHrL/ALh/lQBJRRRQBFd2yXllPazZ8uaNo22nBwRg4/OuEi8HeIbqXQbDV5NN/srR4ZrZpoJn8+6RrdoVfYUCxtggldzDJODxg+gVykPxE0IafaTXdy3nXNit/wCVZWtxchYTkeZ8sQbYCCCzKuOMgZGQDG0fwAdOto7W+0LwzBFbWssEmqWNoWvLkFCgYIEHlOQcthpMnKgc5GRoF7d+INc8OWVtfaTf2+m6dcIZtPld2AaIIjTqyjyGPH7s7jnfz8tegal4w0PSkha6u3cTW5ul+y28lwRD/wA9WEattTn7xwPelHi/Q21SawS93y28QmnkSGRoYYzH5gd5QvlopUEgswBwQORQBzV34Anm0DwnHNZ6Tqt3oFiLSWz1BS1tODHGrlWKMVIMYKtsPGRgZ4ZefD1riDS7kaF4YaWxlnJ0n7Nss2jl25+bY37xfLT955YzyNozXTWvjPQruC4mF49ultB9pkN5bS2x8n/noBIqll/2hkdPUVHB440CYXe66ntms7cXUqXlnNbMIiSA6rIilhkY+UHnA6kUAYd54LuJ9CgsW8NeE5rcyyvLYRpJarAWwFaKdEJ3gDBYRqW4I24wd3w9DqmkW2m6PqTPfstpJJPqDSu22QOuI8sCW4c4YtkiPkc8Nfxppj2Mk9pIQ8N3BazQ3sE9s8bSuqrlGj387vlO3aTxuGCQ6LxvoE2qf2fFeSNMLtrIt9km8pZ1JBiMu3YH44BbJyMZyMgFPxN4SuNb8U6JqVtNFHb2r4v43JzPGsiSxgDGCRJGDzjgms2x8B6haeHILGS6t5biLV7S6Dlm2i2t5I/LQcZ3eVGOOm4nnHNbr+OPDyasNOa+f7Q119jVvs0vlPPkAxLLt2FgTyA2Rg5xg40tW1mx0O0W41KZo0kkWKNI4mlklc9FREBZzwThQTgE9ATQBy1n4P1WHUrJ5Xs/s9nr93qgdZWLvFMs3y7dmAwaUDqQQCcjpW54a0W40ZtYN08T/btTlvI/LJOEcKADkDn5T6/Wq8fjTT7nVdOt7Qh7W8gu5ZLmUmI25t2jV0dHUFTmQ53YK7enNWNN8YaHqrSra3jJ5VuLom5gktw0P/PVTIqh04+8uQMjnkUAYVp4R1iIWOjzPY/2Jp+pm/hnWRzcSKJGkjiaPbtXa7AFgxyFHyjPGv4l0vVrvVNF1DRPsbyabPJJJFdyNGsqtEybQyq2DluuOPQ9Kq3fxC0ldIubzTfNuZYFhkEE8EtsZI5ZAgkQyINy8/eUEdOeRWnH4r0aXWP7Mju2a5NwbUEQyeW0wRnaMSbdhYKrZAOQRg4PFAHI3Xw7u7qWDVb600bVNQ+23FzcafeqWtWWZY1Kq5RiGUQx4fZz83AzxfXwXd7NMMFpoumC2e7eS106IxxL5sJjUDC/OwyMthc/3e1bqeLdGn01b20vUliknltYjsf55Yw5ZeFJ4EbnOMYGeRVUeO9DhtLSW8uihntobmRoLeaWKBZR8rPIIwI1PODJs4GSBQBial4Jnm0DRLa/uI0ttL0G60++aFXkc+ZbpGWjULlsbGOOCeMCqHhXVbvxH460SdbrSb+203R50ln0q4aZFZzCAXJUeWz7CRGckBG5Pbtb/wAW6LpuotZXl06Sx7POdbeR4oN/3fNlVSkeeD85HBB6EVs0AYN54eN/4ta/u1gm0+XSpLCaB8kvvkBIIxgqVBB5/CuX0/4d6vptpqKpqUF1PHqdve6Y9wWO5IUCpFMcZztGzcM9mxnivRqKAOGm8IaxqWoS6tqD2UN7PqFhM1vDK7xxQW0hbAcoCzne5+6o5A7ZMmveEtV1K+8Q/ZGs/s+r29qEeWVleOSF+VKhCCpUk7s5yMY5yO1ooAwrbRLmHx9qGts8RtrnT4LZEBO8MjyMSRjGMOMc+tcp4y+H+r+JZ9bUppl6t9EVsLjUbiVv7O/dqCscAUoCWTPmBgw35w23afSKKAOG1XwXqWoaH4vtI5bRJdciiW33O21CsCRncdvqp6A8Y+lQ+JfCHiG503xNpegPprWniAmUy3szo9tIyKjqFVCHUhBg7gVLHhsYPf0UAFFFFABRRRQAUUUUAFFFFAEcX+sm/wB8f+giiiL/AFk3++P/AEEUUASUUUUAFFFFABRRRQBhS+BvCU8zyzeF9FkkkYs7vp8RLE8kk7eTW1BBFbW8cFtEkMMShI441CqigYAAHAAHan0UAFFFFAFa/wBOstVs3tNUs7e9tnILw3ESyI2DkZVgQeRms+y8H+GtNvI7vTvDuk2lzESY5oLGNHTIwcMFyOCRWzRQAUUUUAFFFFABRRRQBnap4e0XXGjbWtIsNRaIERm7tklKA9cbgcdKXS9A0fQ/N/sTSbHTvOx5v2S2SLzMZxnaBnGTjPqa0KKACiiigAooooAKjl/1kP8Avn/0E1JUcv8ArIf98/8AoJoAkooooA5P4mPJH4FleGFZ5FvrEpE7bRIftkOFJ7A9Kwdd8Ma14lvr7XP7NnsXj+xCDTnvFinulgkkkfMsLkRsfNIQhuqjO0Hj0W5tbe8h8m7gjni3K+yVAy7lYMpwe4IBHoQDUtAHnFx4VubvT7mWx8P31nPNf6czHUtXN1PNFDcLIxbdK6qqgtgByTluBxm1rvhvV7jxNqWq2VoJljm065t4jKq/aTAZTIgJPythxgtgZxyBkjvaKAPOrvQNc1DWrjxOultbype2c0OlyzR+bNHAsqsSysYw589io3Y+RckZ42/Cdpqf/CReI9U1TSn0xNQngaCOSWN3ZUhCEtsZgDkdMn6muqooA8+uPC+rSa5qVwLPMU/iSyvo28xPmhjijVnxnsVPHXjgVJrGj63FL4ssbDSft8XiQDybszxrHbFoFgYTBmDbV2bhsVsg44Nd7RQB5zq3g/Vn0HxhZWlv9oe/t7WKzYyIpn8uJVJ5Py8g9cV01npl3F8RNV1OSHFncadawRS7h8zo8xYYzkYDryR3roKKAPOfEPhvV7vUtaEekPfaheSK2k64LiNf7LUoq7eWEkexlZiI1YPu55JA6rXkvbnSpYrfSINRktZYZBFerGUuwrBm8v5vlcDO0uAAwHbmtyigDhG0nV7m713XP+Efty13JZGLStQMTvKICS7kqxjWUhsISxA8tMkdobvTfFEtzrWtaXZXOlyahLZxNaxy25u2hiDCRwSWhEhDgDLH5YxyDgD0GigDyu08Iaybi/f+yruKG41fSrqNb7UFuZjFDIvml3Z25AUnaCRggLnoNXV/DOr3UfjYQWm46pdWkln+8QeaqRQqx5PGCjdcdK7+igDnvGlhe32k2b6baveS2epWt21vG6K8iRyqzBS5Vc4yeSOnWucvdA1yXTdX8OR6UXg1XU2ul1Mzx+VDE8gkbcu7f5i4KgBSD8p3DnHolFAGL4qsvt2jLGdIfVgk8cnkQ3P2eZMNnzInyuHU8j5k4z83Y5Pg/RbrQ5NUv5tPuYjqt6hS1e5WeaCJUCB5ZGc7mOCxwzkAgDOK7CigDzyTw9rRsbrwwumt9iuNaN8upiaPyktzcC5K7d3meZnKAbSOh3dcJfeD/E6eKtIvoNQsLyJdXlvbiU2LI8StE6KGJn+cKpWNQoGOGOcHPolFAHl2qaD4q1TVLWXULLUrue01qG5Ev9oRR2S2sd1vURQqwLvsIyZVz8rYb7qnRTwxqy2Vmn2PDx+LZtSceYnFu00rB+v91l4689K9AooAwfDOm3en3fiB7yLy1vNVe4gO4HfGYolDcHjlW4PPFb1FFABRRRQAUUUUAFR3P/HrL/uH+VSVHc/8esv+4f5UASUUUUAFeceE/Cms6ZZwJfWXlOnheHTz+9RsTq0hZOD/ALS89PevR6KAPPfD2la94Ujsro6LNqcs2g2NlNBBcQq9tPbq2Qxd1BQ+Z1Uscr0PFT3vhPVNXs/GNvJHDYyaxBAlu4l3R7lgClcjDbQwK52g45Aru6KAPOotF1cw3d/o/h/UdM1mHT3it7nVtca8IkcglIlaSVCPkHzPs5CfKRnFKLwtqk+s6jd3WgalfWtxo727Raxq6Ga5l85XIzG7LDkZ2+XhQV52cGvUqKAPNDoHiW7026thDqf2AalYT2dpq13DNcRBLkSTHzFdsoF2hQzs3yn2zck8M6v/AGP5KWmJT4tGokCVB/o/2sSF85/uc469sZ4rv6KAPJvMu7Wx8P6KlnHcWkPiYGLVIrqJ4px58kmFVWLiQAtuBUAbH+Y8Z7jxNY3ralousadaNftpdw7SWkbqkkiSRtGShchdylgcMRkbuc4B0YNA0e21WTVLbSbGHUJc+Zdx2yLK+euXAyc/WtCgDgPEXh/WvF00LSacNKWbStTs2L3CO0RmEKxGTb3IRshSwAGN3NQaz4b1zxrbrBdab/Yf2XSLmzDzzRyedNMqrhPLZsRDZklsMcr8vBr0aigDhvEUOveKvCV5ph8OT6c7RwgO95CHZxMhYRbGOFCqTuYqeFwp7Z9z4Z1/TfCtzo+jWImk0S9jvdBmMqATJvyYX3HIZVaRNx4IKnJOa9JooA850XwRqWlXktp5YfTrbTs2zeYpMl28CQvx1GBETk8EzH3qnN4b1+00jT10jSdRsdch0q0t01Gw1KIQmVI2XZdQu21lRmJyqyEjoRgCvUqKAPNL7whef2prcN9omoazDq84mSS11uS0tQHRUeOeMSggLtJ3KkhKkDGRivSYkEcKIBgKoAGc4/E9adRQAUUUUAFFFFABRRRQAUUUUAFFFFABRRRQAUUUUAFFFFAEcX+sm/3x/wCgiiiL/WTf74/9BFFAElFFFABRRRQAUUUUAFFFFABRRRQAUUUUAFFFFABRRRQAUUUUAFFFFABRRRQAUUUUAFRy/wCsh/3z/wCgmpKjl/1kP++f/QTQBJRRRQAUUUUAFFFFABRRRQAUUUUAFFFFABRRRQAUUUUAFFFFABRRRQAUUUUAFFFFABRRRQAUUUUAFFFFABRRRQAVHc/8esv+4f5VJUdz/wAesv8AuH+VAElFFFABRRRQAUUUUAFFFFABRRRQAUUUUAFFFFABRRRQAUUUUAFFFFABRRRQAUUUUAFFFFABRRRQAUUUUAFFFFABRRRQAUUUUARxf6yb/fH/AKCKKIv9ZN/vj/0EUUASUVH5Cesn/fxv8aPIT1k/7+N/jQBJRUfkJ6yf9/G/xo8hPWT/AL+N/jQBJRUfkJ6yf9/G/wAaPIT1k/7+N/jQBJRUfkJ6yf8Afxv8aPIT1k/7+N/jQBJRUfkJ6yf9/G/xo8hPWT/v43+NAElFR+QnrJ/38b/GjyE9ZP8Av43+NAElFR+QnrJ/38b/ABo8hPWT/v43+NAElFR+QnrJ/wB/G/xo8hPWT/v43+NAElFR+QnrJ/38b/GjyE9ZP+/jf40ASUVH5Cesn/fxv8aPIT1k/wC/jf40ASUVH5Cesn/fxv8AGjyE9ZP+/jf40ASUVH5Cesn/AH8b/GjyE9ZP+/jf40ASVHL/AKyH/fP/AKCaPIT1k/7+N/jUckKiSLl+X/56N/dPvQBYoqPyE9ZP+/jf40eQnrJ/38b/ABoAkoqPyE9ZP+/jf40eQnrJ/wB/G/xoAkoqPyE9ZP8Av43+NHkJ6yf9/G/xoAkoqPyE9ZP+/jf40eQnrJ/38b/GgCSio/IT1k/7+N/jR5Cesn/fxv8AGgCSio/IT1k/7+N/jR5Cesn/AH8b/GgCSio/IT1k/wC/jf40eQnrJ/38b/GgCSio/IT1k/7+N/jR5Cesn/fxv8aAJKKj8hPWT/v43+NHkJ6yf9/G/wAaAJKKj8hPWT/v43+NHkJ6yf8Afxv8aAJKKj8hPWT/AL+N/jR5Cesn/fxv8aAJKKj8hPWT/v43+NHkJ6yf9/G/xoAkoqPyE9ZP+/jf40eQnrJ/38b/ABoAkoqPyE9ZP+/jf40eQnrJ/wB/G/xoAkoqPyE9ZP8Av43+NHkJ6yf9/G/xoAkoqPyE9ZP+/jf40eQnrJ/38b/GgCSo7n/j1l/3D/KjyE9ZP+/jf41HcQqLaUgvwh6yN6fWgCxRUfkJ6yf9/G/xo8hPWT/v43+NAElFR+QnrJ/38b/GjyE9ZP8Av43+NAElFR+QnrJ/38b/ABo8hPWT/v43+NAElFR+QnrJ/wB/G/xo8hPWT/v43+NAElFR+QnrJ/38b/GjyE9ZP+/jf40ASUVH5Cesn/fxv8aPIT1k/wC/jf40ASUVH5Cesn/fxv8AGjyE9ZP+/jf40ASUVH5Cesn/AH8b/GjyE9ZP+/jf40ASUVH5Cesn/fxv8aPIT1k/7+N/jQBJRUfkJ6yf9/G/xo8hPWT/AL+N/jQBJRUfkJ6yf9/G/wAaPIT1k/7+N/jQBJRUfkJ6yf8Afxv8aPIT1k/7+N/jQBJRUfkJ6yf9/G/xo8hPWT/v43+NAElFR+QnrJ/38b/GjyE9ZP8Av43+NAElFR+QnrJ/38b/ABo8hPWT/v43+NAElFR+QnrJ/wB/G/xo8hPWT/v43+NAElFR+QnrJ/38b/GjyE9ZP+/jf40ASUVH5Cesn/fxv8aPIT1k/wC/jf40AEX+sm/3x/6CKKSBQrTAZxv7nP8ACKKAJaKKKACiq+oX1tpem3OoX0nlWtrC880m0tsRQWY4GScAHgVz5+I3hkb/APTLpmSIT7F064LtCd2JlUR5aL5T+8AKdOeRkA6iisHUfG2g6WM3F3LKothdu1paTXIjhIJEjmJGCKQCQWxnB9KfN4w0GBbwy6gqizto7qQ+W/zRSfcdOP3gJGBs3c8deKANuimxuJY1dQwDAEBlKnn1B5H0NZTeKtFjEZkvQnmagdMTdG4JuckeXgj2OD0I5BwRQBr0VhXXi3TbXUjbvcR7IkuGuHIk3J5Koz7QEIYASDPzDngbjkBdN8ZaFqzyLZ3rAR25ui9xBJAjwg4MqNIqh0/2lJHI55FAG5RXLad480/V/FlroumxTSLcWMl5580MkBCqyKpVJEG9W3khwcfKevbo7y8t9Pspry9mSC3gQySyucKigZJP4UATUVz6+OfD/wBgvLya8ktYrERtcC7tJoHjVzhGKOgbaTxuxjg88GpLbxloV1Y3t2t48MdiqtcLc28sEkYYZQ7JFDEN0UgfMeBk8UAblFYsXi7RZdPvLxrqSCOx2/aEuraWCWPd93906hzu6LgfMeBk8UJ4v0RtNvL57t4IrHAuEubeSGWMt90GJ1D5bICgL8x4GTQBtUVz3h/xfbeI9c1aws4JUTTVgLPNG8Ts0gc7WidVZCNnfqGB6dbfiPXP7B0tbiO1a8uZ547a2t1cJ5ksjbVBY/dXJyTg4APB6UAa1Fc3D4vitTfQeI4Y9PvLEw+ZHbyNcrKJiRF5eEV3ZmVl27M5HAIwS/8A4Tvw6tjcXct7LAlrcR206T2k0UscjgFAY2QONwYYOMH1oA6Giubi+IHhuWTyxeTqyzLBKJLGdPs7swVVl3IPK3EgDftznjNdJQAUUUUAFRy/6yH/AHz/AOgmpKjl/wBZD/vn/wBBNAElFFFAFDVtYg0ZbNrpJWS7u47RWjAIR5DhS2SOC2Bxk5YcVm2njXS71bk2y3Dtb6qNKKbAC8u4AsvPKAEnPojYBIwbXirR5Ne8L3un2zpHcyIHt3kztSZGDxscc4Dqp/Cue8PeBbzSNc0u8uLuGSG2sE+0opbMl8A6tMOPulZpBzz933oAmsviBHcW+nRw6ZqOqXt7ZveKlnbxx/u1fYSQ82F5xxuOc8elWZPHtjLZ202kWV9qbXFgNR2W0a5hgP3Xfey9SCNq5Y7WwDiq3hPwhf6FfaZNdzWzraaU9k4iZiS7TBwRlRxgfXPas/w/4N8ReFbGwbSn024vBpMWnXazzSJGjxs7JKhCEtjzGBUhc8cigDofD3iYXvw7sfEuttDarJYC7umjUhIxt3MQMk4Hpyaqw+P7U3EsF7o2rafLHpkuqhbmKP54EKg4KyMNxLfdOCMc4yMwr4ZFj8Gj4b1u42CHSTbXE9rG023CYLKoG5sdcYya53Sri88c+K5TLeaVPbnw3cWUtzpE7XMaSTPHyzFV2sQrHy+oC8k54AOxv/HGlaZ5LXouI45dMl1TzNgIWKPZuBwc7vnGAAe/NZ2ueOL6w8L3+oW3hzUbe7tfJKxXqRFHV2xuDpKVPcEBtwJGRg5qnb+FvE81/ZXV+uhxtZaLNpqx75biOZ28rDOpVPkOwgrnj1bPFdfAGpnSdat7WHTtHivoYxDplpeSy2omWTe0nzIoi3YVdqJ2zz0oA7PVdeh0bQ01G/t7hS7RRrarsMplkYKsf3tu7cwGd23vnHNZt342isNNjub7RNYgnkvVsUs2gQyvKyll2kOUZTjG4MQCeSMHF/W7O91Pw4bdbLS7i4kCGazvw0ttJggsmcZ+jFTg4O3tXBXmgat4bsdLS0W0gaXxBA9jpv2yae3tVELgoJHUMAx3HhAFzwpxyAdgvjazNnIz2F/HfpeCxOlsifaDMV3qow+zBT592/btB54IAPGtmbU5sb5dSF39j/soon2nzinmBfv+Xjy/n3b9u3POQRWDqPgC+1lpNW1SHSrjU31JLw6dMDLZtGkXkiJmZMklCW37OGI+UgcpdfDxruwtpBoPhe1mtb77Smlw22bWdNhRklfyxubDFg/ljaQBhutAG8fHFkLbAsL86n9r+xf2SEj+0+bt8zH3/Lx5fz79+3b3zxTvBviS58Sw6tLdWhtDZalJaJC6bZFVUQ4f5iCwLEZU4OBjPU5MPg+/s1stR0vTPD+mX9jeNPHp9irRW8sbxmNlklCZLYO4OIxggLgj5q1/CGkappUWrS641obnUdRe8C2jsyRqyIoXLAEkbCM4568ZwABtx4zitNSggutF1aC1uL0WMV/JFGsTSkkL8pfzNpYYDbMHg5wQaktvGenXOn6bcpFcKdRupLRIHVRJE8e/zN43YAXy2ycnt1yK5Sf4fazc6xa3l1Hpd1dWurJenVbm5lluJIVnMghRWQiBQrEbUYqSvQbsjWtvAs48bapqF3dI2kXEczWtshO+KadUWdzxjpHxyf8AWP60AaNj42s7ye1D2F/a21+HNhd3CII7zapf5AHLrlAWG9VyB+FR6d43/tbRbTU9P8Oa1NFfYNsgjhDSKVLFiTLtQDGPnK5ONu7NZHhzwHNoz2cEmheFovsUTR/2rBbf6Vc4Xarbdi+UxByzb35yAOch0vgvVl8HeGdJP2S+TS7dYb6wkvJbe3u8RgAl0QllDL9xkKsGOemCAakPj2yubK3e103UZr64uprRdNVIxOskJIk3EuIwFxndvxyMHJxRa+PbK+sYZbHTdSnup7qa1jsBGiTF4SRITucIoXHVmHJA6kCuSXR5PAC6ZeXl5odlOuo3rQRSvJa2TRTqGMfm7CIWXYNoIIIUgezNH8I3XiLRbHXLmx0nU5k1LULhLTUIyLa6huJc70JRiv3FZG2nKn/azQB2g8b2Ulvai0sb+5v7maWAabGiCdHi/wBaGLOEAXjnfg7l2k5GZPBfiKfxPo91fXMAtzHqFzbxx7CrBI5Cq7gSfmwBntnNZUHhPUtOk0vUtJ0/QrO8snuQ2nWga3tmimC5HmBCS4McZ3+WN2CNq9RreDtH1HRdJuo9Zktnu7m/uLtjaligEkhcAbgDxn/65oAr23jyyup7bZp+oLZ3zyR2N86RiG7dAx2J8+4FgrbS6qGxweRmaPxxpD2GlXhMyQ6nbS3SsyAeRFGm+RpBnjbkKcZ+Zh25rI0rwhrNvb6Ho17LYjSNCnE0NxDI5nutgYRIyFQseAwLEM2SvAG7iG1+G8rXfiWHULxP7O1C2mtNNSLJe1jnZpJicjGTIwwAcYQZoA2E8c2qRyPf6XqWnj7HJe2/2mOPN1FGu5tm1ztYAqdr7W56cHGtomsf23pKagLC7soZQHhW6Cb5IyoZXCozYBB6NhuDkCuOs/Al3Hptzbf2B4U02dtOmtftlhAfNnkdNgbIjXyV6kjMmc4yMc9rZWc1roNvZeaqTxWyxeYo3BWC4yAevPPNAGTZ+Mo7jWbHT7rRdV046iJPsc15FGqzbF3EbQ5dDtyQHVTx2PFdHXm+heANWsfEmhapeW+li404uL2++1zXF3qBaAx72kkQFcHaRHlgAeGG0A+kUAFFFFABUdz/AMesv+4f5VJUdz/x6y/7h/lQBJRRRQAUUVytv8SfC12kDW19cSi6jMlrs0+4JugCAwiHl/vSu4blTJXnIGDgA6qiuV1Px5YWulNqGnmK9hOk3WpxIXeN5BAFyuDGQvLYO4hlP8J5xcufGei2DpHf3LxSeXHJMUgkkjtg/wB0yyKpWIe7lRjnpQBvUVi3Pi7RbTVjps91Is4lSB2FtK0Ucj4Ko0oXYrHK4UsD8w9RVnWtf03w7Zx3Wr3BgillEMZEbOXcgkKFUEknBwMcnAHJFAGjRWInjDRH0ltRW7k8lLj7K0ZtpROJv+eXklfM34IO3bnHOMc0yXxtoMOmw30l3KI57o2aR/ZJjN5+0t5Ri271fCkgFQTxjqMgG9RWH4i8TweHtDttVlhZ7ea5t4W8zdGY1lkVS5UrnKhs7SAeMcUqeMdDfTLy/a7eGGykEVwlxbSxSxuwBVfKdQ+WDLtAXLZGM0AbdFYtv4v0S5t/OS7dMXcdm0c1vLFIkzkBEaNlDLncMEgDBz0o1DxhoelteLe3pRrOaOCZVgkciSRdyKAqncSCMbc8nHXigDaoqK1uEu7WO4iWRUkUMoliaNwD6qwDKfYgGpaACiiigAooooAKKKKACiiigAooooAKKKKACiiigAooooAKKKKACiiigCOL/WTf74/9BFFEX+sm/wB8f+giigCSiiigDH8X2NzqngjXNPsY/NurrTriCGPcF3u0bKoycAZJHJrGfQdRPiaW6W2/0c+HRYq29f8AXbydmM56Hr0967GigDyy68O+KpdAtdIuLTUZraPRbe2t4LHUIraGK4ERSQ3DhhIwBxgLvQjqpNLdeE9fvm8PXp0iKOTwvY2xht5ZIy9/NiMyR7gxChNnyk/8tMN90ZPqVFADY2LxqzI0ZYAlGxlfY4JH5GvNtf8ABWsXvizVpbGJf7Pe3bUbNjIv/IR2xogwTlQBEGz0+fr1rrpfA3hKeZ5ZvC+iySSMWd30+IlieSSdvJraggitreOC2iSGGJQkccahVRQMAADgADtQB55f+E9Ym0/Tytor3TaXqf23bKmFuroI20EkZG/cAegAHTina54M1XWRZ2kSi2iPhm502WYuNsUz+TtUgHJHyHkAjj6V6JRQBxOnw65qXxA0zVdQ8PvpdtaaVPbSySTwvuld4jhQjsdnyHBOD1yBxnp9etft3h+/tfsMWo+dA6G0mlMSzZGNpcA7c+uOKmv9OstVs3tNUs7e9tnILw3ESyI2DkZVgQeRms+y8H+GtNvI7vTvDuk2lzESY5oLGNHTIwcMFyOCRQB5/rVnrlh4S1syW+pRaVi1NtY61eRXEizfaV3BZEZ28rG0fOzHOcADroa/4b1zxZcXurnTJdNkhitEt7Ge8VJbowzmZsyQuRHnO1CGyGBJ28V6Jc2sF5btBdwRzwsQTHKgZSQcjg+hAP4VLQB5lf8Ag651Oxu7qx0LUrK6iltpFXUtdkkuLxYZDIYg6yyCIcnawfO48hRyZpPCt1PDPqWnaBfWd5b3VpcJHqurtdT3qwOXMfMkiRj5mCnf94nIUcn0eigDk/DFtqknjDxDq+paRJpcF7HapbpNNE8j+WJAxYRswB+YdzxjnqBreJ7P7f4fntzpQ1ZWZC1r5/kswDA7kfjDjGV5XkD5l61Z1PRdK1uFItZ0yz1CONtyJd26yhT0yAwODUOmeGdB0W4afRtE07T5nXY0lpaRxMy5BwSoBxkDj2oA4eDw34hsY9Y1TRba/wBPl1Ca0iNs95HcX32aIvvbzZWdPMPmHAZyAqgZBwBXsvCOtfbryb+y7yGGbV9Mu4xfagtzN5cLDzC7s7HcNudoJHICk9B6nRQB5/qPhjV57XxikVpubUtTtZ7Qeag8xEWAMevGNjcHB4+legUUUAFFFFABUcv+sh/3z/6CakqOX/WQ/wC+f/QTQBJRRRQBR1nWdP8AD+lS6lrFytrZwlBJMwJC7mCLnAP8TAZ7d+KpReMNEl0+9vDdyQx2BVblLm2lhljLAbB5TqHJbICgL8xOBk8VnfEx5I/AsrwwrPIt9YlInbaJD9shwpPYHpWDrvhjWvEt9fa5/Zs9i8f2IQac94sU90sEkkj5lhciNj5pCEN1UZ2g8AHWP420GLS7i/uLyS3htpY4Z1ntZY5YmcgIGiZQ43FhglcHrTV8Z6Wv2+W6m+zW1nFDI3nRTRzfvSwVTE8YIJK4VRuZieg4zzFx4VubvT7mWx8P31nPNf6czHUtXN1PNFDcLIxbdK6qqgtgByTluBxm1rvhvV7jxNqWq2VoJljm065t4jKq/aTAZTIgJPythxgtgZxyBkgA6FPGWhNplxfG8eOK2lWCWOW3ljmSRsbU8llEm5sjA25ORjNM8OeLLfxLqWr29nBIkWmyxxeZKrxu5ZAxzG6qyEEkYPpmuZu9A1zUNauPE66W1vKl7ZzQ6XLNH5s0cCyqxLKxjDnz2Kjdj5FyRnjb8J2mp/8ACReI9U1TSn0xNQngaCOSWN3ZUhCEtsZgDkdMn6mgConxKsU8QavaX9tLZ2GmTLbG7khnLzTsFIRYxFjncQPnLHAIUhga1rnxvoFnKkd1dTxErG8hezmAthIcIZjsxDn/AKabfXpXO3HhfVpNc1K4FnmKfxJZX0beYnzQxxRqz4z2KnjrxwKk1jR9bil8WWNhpP2+LxIB5N2Z41jti0CwMJgzBtq7Nw2K2QccGgDd1Lxz4e0jUJ7LUL54prUoLki2lZLffjYZHVSqKdw+ZiB154OLuj+ItM12S4j02aVpLbYZY5reSF1DZKttkVSVODhhwcHB4rjNW8H6s+g+MLK0t/tD39vaxWbGRFM/lxKpPJ+XkHriums9Mu4viJqupyQ4s7jTrWCKXcPmdHmLDGcjAdeSO9AFHWPHE2malqSRaZHNYaS9vHeztdbJt023HlRbCHADr1ZcnIAJHOp4h8Rw6Dot/fNHuNmY1P2gtBEWdlVf3rKV25YZYZxzn0rk/EPhvV7vUtaEekPfaheSK2k64LiNf7LUoq7eWEkexlZiI1YPu55JA6rXkvbnSpYrfSINRktZYZBFerGUuwrBm8v5vlcDO0uAAwHbmgDOPjV4vB95r040WaKB1jjex1fz4GZmVfnlMShMFhng4HNWdO8XQS6HJquqT6ULUTLDFJpN+1+srkgBBtiUlySAFUMTmshtJ1e5u9d1z/hH7ctdyWRi0rUDE7yiAku5KsY1lIbCEsQPLTJHaG703xRLc61rWl2VzpcmoS2cTWsctubtoYgwkcEloRIQ4Ayx+WMcg4AAOg/4Tvw8un3N5NeyQR2lxHbXCXFpNFJFJJt2Bo2QOA25cHGPfg1HH8QfDckhj+2XCOkywzCSwuE+zuxAUTbkHlbiwwX2g9uhrkLTwhrJuL9/7Ku4objV9Kuo1vtQW5mMUMi+aXdnbkBSdoJGCAueg1dX8M6vdR+NhBabjql1aSWf7xB5qpFCrHk8YKN1x0oA6LxV4oi8LWllPNa3FyLq8itcQRSOVDsAWwisSQDwvVjwOaWbxjoUGq/2fLeMJ/OWBn+zyGKOVhlY2lC7Fc5HyswPI45FReNLC9vtJs3021e8ls9StbtreN0V5EjlVmClyq5xk8kdOtc5e6Brkum6v4cj0ovBquptdLqZnj8qGJ5BI25d2/zFwVACkH5TuHOADrfEWuvolvZi2tPtl5f3aWdrCZPLUuwZiXfB2qFRiSATxwCTUeleIjdtc2upWjWuoWdwlvPDblrhAXUMjBwoOwqRlmVcEHPGCV8VWX27RljOkPqwSeOTyIbn7PMmGz5kT5XDqeR8ycZ+bscnwfot1ocmqX82n3MR1W9QpavcrPNBEqBA8sjOdzHBY4ZyAQBnFAD5PG0sdxJcjTFOiQ6j/Zst6bn96su8RFvK2YMYkIUneD1O3A5uat4ug0zxdo2gJbtcT6lIyyOrYFsvluyluOS3lsAOPuse3POyeHtaNjdeGF01vsVxrRvl1MTR+UlubgXJXbu8zzM5QDaR0O7rhL7wf4nTxVpF9BqFheRLq8t7cSmxZHiVonRQxM/zhVKxqFAxwxzg5AOmbxroKaotg13KJWuvsYl+yTeQZ848rztnl7s8Y3Zzx14qvL8Q/DMNxJDJfyho7mS0ZhZzFDOm7dCH2bTJ8pwgO5uNoORnlNU0HxVqmqWsuoWWpXc9prUNyJf7QijsltY7reoihVgXfYRkyrn5Ww33VOinhjVlsrNPseHj8Wzak48xOLdppWD9f7rLx156UAdlpOs2OuWbXOmyu6JI0TrJE8Txup5VkcBlPsQOoPer1YPhnTbvT7vxA95F5a3mqvcQHcDvjMUShuDxyrcHnit6gAooooAKKKKACo7n/j1l/wBw/wAqkqO5/wCPWX/cP8qAJKKKKACvP/DnhjVtPh8BLdWflnSLGeK9HmIfKdolAHB+bJB5Ga9AooA8pm8F6++htbrYZlOja3a7fOj/ANbcTBoV+9/EOc9B3xVm48H3sOoaut3oupaxDqoieM2mtvaQr+5WJ4p0Eq/KNg+ZUkJViMcAH02igDzu90HWLXXfM8N6VfaVdGeHN3bakkljcRgIrmeKQ7twRSoKRljhTv5ONb4gzTW8Xh6a1tPtsqa1CVtwyqZPkk4Bbjd6ZIGcZI6111RT2sFyYjcwRzGGQSR+YgbY4zhhnoeTz70Aecaj4U1nVNRfxHNp1zE7aolwdJhv/IuTCtubfcJY5Aok5LbQ+CvyluSBct/DFybrSbu10O5sduureXIvdTN3O0a2ssQkkLOwByUUKrvxg8cgegUUAYHjDS7rVtNsIbKETNFqtlcSKWAxHHOjueTzhQTjqe1c/q3hvWZfEGs6na2gmVdQsL61hMyr9qEMeHUZPyt6bsDIHIHI7+igDzrUNA13U7zUNfXSWgme906WHTZJ4vOkjtZGZiWVjGGbeQBuxhVyRnhp0DXdR1y91KfSHtEudc0+8SKWeJnWKFFV2baxGQV6An2zXo9FABRRRQAUUUUAFFFFABRRRQAUUUUAFFFFABRRRQAUUUUAFFFFABRRRQAUUUUARxf6yb/fH/oIooi/1k3++P8A0EUUASUUUUAFFFFABRRRQAUUUUAFFFFABRRRQAUUUUAFFFFABRRRQAUUUUAFFFFABRRRQAVHL/rIf98/+gmpKjl/1kP++f8A0E0ASUUUUARXNrb3kPk3cEc8W5X2SoGXcrBlOD3BAI9CAaloooAKKKKACiiigAooooAKKKKACiiigAooooAKKKKACiiigAooooAKKKKACiiigAooooAKKKKACiiigAqO5/49Zf8AcP8AKpKjuf8Aj1l/3D/KgCSiiigAooooAKKKKACiiigAooooAKKKKACiiigAooooAKKKKACiiigAooooAKKKKACiiigAooooAKKKKACiiigAooooAKKKKAI4v9ZN/vj/ANBFFEX+sm/3x/6CKKAJKKKKACiiigAooooAKKKKACiiigAooooAKKKKACiiigAooooAKKKKACiiigAooooAKjl/1kP++f8A0E1JUcv+sh/3z/6CaAJKKKKACiiigAooooAKKKKACiiigAooooAKKKKACiiigAooooAKKKKACiiigAooooAKKKKACiiigAooooAKKKKACo7n/j1l/wBw/wAqkqO5/wCPWX/cP8qAJKKKKACiiigAooooAKKKKACiiigAooooAKKKKACiiigAooooAKKKKACiiigAooooAKKKKACiiigAooooAKKKKACiiigAooooAji/1k3++P8A0EUURf6yb/fH/oIooAPIT1k/7+N/jR5Cesn/AH8b/GpKKAI/IT1k/wC/jf40eQnrJ/38b/GpKKAI/IT1k/7+N/jR5Cesn/fxv8akooAj8hPWT/v43+NHkJ6yf9/G/wAakooAj8hPWT/v43+NHkJ6yf8Afxv8akooAj8hPWT/AL+N/jR5Cesn/fxv8akooAj8hPWT/v43+NHkJ6yf9/G/xqSigCPyE9ZP+/jf40eQnrJ/38b/ABqSigCPyE9ZP+/jf40eQnrJ/wB/G/xqSigCPyE9ZP8Av43+NHkJ6yf9/G/xqSigCPyE9ZP+/jf40eQnrJ/38b/GpKKAI/IT1k/7+N/jR5Cesn/fxv8AGpKKAI/IT1k/7+N/jUckKiSLl+X/AOejf3T71YqOX/WQ/wC+f/QTQAeQnrJ/38b/ABo8hPWT/v43+NSUUAR+QnrJ/wB/G/xo8hPWT/v43+NQanf/ANmafJdfZbq7KkBYLSLfI5JwAB0HJ6kgDqSAM1zs3xDsbO21B9R0rVLS406a2imtHjjeQ+ewWNl2SMrAkno2eDx0yAdT5Cesn/fxv8aPIT1k/wC/jf41ybfEa1ikvFutD1i2/s6aOPUDIkJFmJNux2KykOpDZ/d7yADkDjNu/wDHNjYXl0j2V9LZWUyQXmpRxp5FtI2OGywc43LuKqwXPJGDgA6HyE9ZP+/jf40eQnrJ/wB/G/xrDu/GWn2enaxeyw3Jj0i8WznCquWdhGQV+bkfvl646Hj1qzePrKC/vIW0zUjbWN8ljdXwjj8mKR9gXPz7iMyLyqnGecUAdN5Cesn/AH8b/GjyE9ZP+/jf41g+GPEV7reqa/bXmmyWsem6gbaGUlMOvlxtg4dju+bOcAbWXuGAZc+ObG1vZkayv3sbe6W0uNTWNPs8MpIG1ssHIBZQWClQTyeDgA6HyE9ZP+/jf40eQnrJ/wB/G/xrmPC3iLV9e8Sa/Fd2Is9O026+yQho1Ls4RGJZxKc/ezjYAAV+YnIE8fjSKeXVFtNF1a5j0yZreSWGFGEkwKjy0XfuJO4HcQFAyWYYOADoPIT1k/7+N/jR5Cesn/fxv8a5W48dRrbagklhe6Ze6fPZxzQXcMcp23EoRGHly7SD8wzvyuM4OMGSLx9ZTaiYBpmpJbLqTaW186RiFbgMVC437yCcAMFI+YAkHIAB03kJ6yf9/G/xo8hPWT/v43+NVNW1RtLt43i0691GWWQRpBZxhmJwTksxVFAAPLMB26kA40XjuymsDIun6h9u+3tpy6Zsj+0NOq7mUYfy8BPn3b9uO+eKAOk8hPWT/v43+NHkJ6yf9/G/xrAfxlEq2sKaPqj6lcvKq6Z5cazKI8b3JZxHsGVwwcg7lxmp7PxXaXtyLcWt7BN9gF+8dxDsZF3MpQgnIcFT7ehNAGx5Cesn/fxv8aPIT1k/7+N/jXIv8S7A2sE1npGrXvm6UmrlYI4gY7dt3LFpANw2/dBJOeM4OJ1+IWnfZ7y4lsNRhhg02XVYXkjQfbLaP7zxjfkdV+Vwh+YcdcAHT+QnrJ/38b/GjyE9ZP8Av43+Nc34i8ZR6Vp+oLZws19Dodxq8HmrmIiMcK2GBzkjgds80mqeOE0Wzlu73RdVls7WGOS7voIkEMW4AnG9w7gAgkorAdOoIAB0vkJ6yf8Afxv8aPIT1k/7+N/jXJxeN5YNY8Rwapps8VtpdxDBatGqM9w8iptQAOSWdnG3hQARuIIOLb+OLK3guxf2F/Z39s0Sf2dIkbTymUkRbNjsjbiCM7sAqd2AM0AdD5Cesn/fxv8AGjyE9ZP+/jf41zvhnxRd674i1yxutPk09dN8gLDOoEwLqxO4q7IRwCCp6HnnpFceOILCa6jmtrq9kGsjSoIbW3VWMht1mAJaTBHX5ztAyMgAFiAdP5Cesn/fxv8AGjyE9ZP+/jf41R0LW4dds5Zoree1lt53t57a5C+ZFIh5B2llPBBBBIwRXGQfEXV3isZJ9ClU3GvXOmGBVRpHSMTbQuJSocGNVZmIX7xHHNAHoPkJ6yf9/G/xo8hPWT/v43+Nc8nje0lsIpIdO1CS+ku5LMaYqR+eJY87wTv8sAAbt2/bgjnJArV0bWYNbtZZYI5oJIJmt7i3nAEkMi4yrYJB4IOQSCCCCaALnkJ6yf8Afxv8aPIT1k/7+N/jUlFAEfkJ6yf9/G/xqO4hUW0pBfhD1kb0+tWKjuf+PWX/AHD/ACoAPIT1k/7+N/jR5Cesn/fxv8akooAj8hPWT/v43+NHkJ6yf9/G/wAakooAj8hPWT/v43+NHkJ6yf8Afxv8akooAj8hPWT/AL+N/jR5Cesn/fxv8akooAj8hPWT/v43+NHkJ6yf9/G/xqSigCPyE9ZP+/jf40eQnrJ/38b/ABqSigCPyE9ZP+/jf40eQnrJ/wB/G/xqSigCPyE9ZP8Av43+NHkJ6yf9/G/xqSigCPyE9ZP+/jf40eQnrJ/38b/GpKKAI/IT1k/7+N/jR5Cesn/fxv8AGpKKAI/IT1k/7+N/jR5Cesn/AH8b/GpKKAI/IT1k/wC/jf40eQnrJ/38b/GpKKAI/IT1k/7+N/jR5Cesn/fxv8akooAj8hPWT/v43+NHkJ6yf9/G/wAakooAj8hPWT/v43+NHkJ6yf8Afxv8akooAj8hPWT/AL+N/jR5Cesn/fxv8akooAj8hPWT/v43+NHkJ6yf9/G/xqSigCPyE9ZP+/jf40eQnrJ/38b/ABqSigCKBQrTAZxv7nP8IopYv9ZN/vj/ANBFFAElFFFAFfUL620vTbnUL6TyrW1heeaTaW2IoLMcDJOADwKx/wDhN9DMUDxyXspuAzxRxabcySSIuMyCNYyxj+ZfnxtORg1Y8X2NzqngjXNPsY/NurrTriCGPcF3u0bKoycAZJHJrC16w157jTLeCDUp9KSz2zW2l3kVs5nBG3zJCyuI8f8APJs5ByCOCAaX/CcaKYY71L2B9NfTH1P7QvmFvKRlBOwJ0G7kZDA8beuLukeJ9K1y5lt9OnkaWONZiktvJCXjYkLIm9RvQlT8y5HvzXnEXgfxEng/7A2nYuF8NX2n7PtCNmd5gyLuLc5UZ3H8cHiu4t9JvY/iBBqJh22SaL9lLh1wJfNDbcZz0zzjFAG7f39rpenzX2oTpb20CF5JHPCgVl2vjLQ7r7aDdyWrWMIuLlL61ltWjiOcPiVVJX5TyOOKseJRqzeG73/hHWC6l5eYD8uSQRkLvBXcRkDd8ucZ4zXnjeDNc1C81aRLLUIFutLiiil1jUVnklnjn8wh9jOsat0wnygZOBnFAHcReN9Aksrq6a8kgS0VGlS5tJoZAH4QiN1DtuPC7Qdx4GTxUtp4v0W9kgihupFmnujaLDNbSxSCURmTayOoZPkBbLAAjp1FY2srrviC1t508Oy2babdwXkcF1dQ+bclGJdF2MyAbcbSzjLcEKBupNZTXdUn0jV4/Ds0R0vUhN9ia6h+0zRGCSNjw3lghpMgeYcgE5B4oA17rxroNnxPePu+2PYhI7aWRmnVdxjCqpJOOmOvQZPFR2Hjvw9qV1bwWd7I7XEpgjZrSZEEoBJiZ2QKsmFPyMQ3TjkVzej+HNbOvWN/faZ9mQeIbvUJEaeNzFDJaMiE4PJ3EAgZwfUc1NbeGdXjsYo3tMMviybUSPMT/j3aaRg/X0YHHXnpQB1SeJtIktLK5S7zDfXTWdu3lP8APMC4K4xkcxvycDjryKzLDx3p1xpltcXkc8VxcvcBLS1t5buTZFM0RfbEhYLkDkjALAZrnrXQvEEceh6S+jOIdL16S9lvvtEXlyQs8zAqu7fn96MgqMY4zTLbQ/E9lp2n2M1pqT6eGu3mtdLvobeQytcu8ZklLK4jKMD+7bdnIIPSgDfX4haZca1Y2enpJdW19pkmoQ3qQy+XhSoCkiM4GGOST8pAUjLAVZfx3odrY2c99d7WuLNL1xbQTTpDEwBDuyx5ROuGcJnB6YOOV8P+Ftd0m10RLnTHZotGvtOnEdxG3kyPMjoxJYblYIeRk8jIHOJtL0XxD4d02SGLQzqMmoaNaWpC3ESrazxQ+Wyy7mGU5zlN54bjpkA6nUvG+gaVdzW15eSebBbrdSiC1mmEcLZxIxRSAnynLE4HGcZFbyOskavGwdGAKspyCPUV59Y+DtT03T9dshELjzPDVnpltNvUefLFFOjDk5Xlk5OBz7Gu00O3mtPD2nW10u2eG1ijkUkHDBACMjrzQBi6n4svbfVdSttK0db2HSIklvpZLvyWG5d+2JdpDttGfmKDkDPXEt3498PWUIlnu5zH9nS5kkhs5plhjcZVpGRCI8jn5iOOelZHjPQbjVLy8Wy8Nz3FzeWi28d/BqfkQnO4Yuow6l0XdnG2XILDAzg4/iPwt4kn0u/0KGHUtQsl0pbPS/s19Fa2yt5IRmnwyyO24HCnfGQwBA5IAOx1Dx34c0u8ltbzUGV4FjaZktpZI4VfGx3dVKopz94kD34NXdI8SaXrk08OnTyNLbhWkjmt5IW2tnawDqCynBwwyDjrXE6p4U1q68M+LreGw/0jU9NtYbZDLGDI6Q7WXO7AweOTj0rrINNu0+I19qjRYs5dKt7dJdw5kSaZmXGc8B1OcY5oA3qKKKACo5f9ZD/vn/0E1JUcv+sh/wB8/wDoJoAkooooAxvFWm6hq2hm20i6NvP50UjYuHg81FcM0fmx/PHuAI3LkjPQ1xdn8N9RtzqH2a00XS4bu502eO1snfZELabc4LbBvZlwd2BknBHG499rOoXGm6W89lYS6hcl0jit4+NzMwUFmwdqDOWbBwATg9KpaL4gnvb7U7DWLOGwvNN8t5fJufOhaN1LKwcqh/hYEFRjHcGgDH1bwdqF/H4vWGa2U641ubbczfJ5caKd/wAvHKnGM1FqnhDWbm31vRbWWxGj65cGea5kkcXFurgCVFjClXzt4YsuN3Q452vCXiqLxbaX91b2slvDa3r2sZkPMqhUYSYwNuQ/T0/IVYfH+ljWNS0/URJaPY36WYkEUkkZ3rGUZ3VNsW5pNoDHkr19ADJ1zwf4gu49f0/TX002Os3sV959xLIssLKIgybAhBB8kYbcMZPBq1qHg7ULvQfENlHNbCXVNXjvoSzNtWNWgJDfLw37pumRyOfTau/GGh2Oqtp9zeMsyOkcjrBI0ULv9xHlClEY5GAzA8j1FTTeJtIt7O9uprvbDYXK2ly3lOfLlYoAuMZP+sTkZHPsaAK+g6Re6VrWvyTfZ3tNRvReQSJI3mAmGONkZNuBgx5BDHOegxWHeeENamt9S0SGWxGjanftdy3TSOLiJXcSSRrHtKsSwID7xgN904525vG2gwXN/BJdy7tPO26ZbSZkibjCbwm0udwwoO5sjANXtJ1yw1tJzp8kha3k8uaKeCSCSJioYBo5FVhkEEZHIPFAFPw5otxpF5r0ty8TLqWpteQiMklUMUSYbIGDmM9M8Y5rKn8LawNB1i1sb2OC4vdWN9GY7iSHfFvRjE0iDfGWClSy5IzxmtH/AITnw9/ar6d9ufz47n7JI32aXyo5icCNpduxWJ6AsM5GM5FR3njjSITex2sxlmsZ0guC8E6wxuZFTYZVjZd3zghepyDwPmABy1r8ONRgTVxbWmi6XFqD6a8drZyOVi+y3BkfcxQF2Zed2ASTgjjcdiTwbqD6ULYTW2//AISUavnc2PJF0Jdv3fv7eMdM9+9bbeL9ETWBpjXjfaDOLbeLeQwiYjIiM23yw+P4S2ckDGSBU2m+JNM1jULuy06WaaWzkeKdhbSiNHRtrJ5hUIWB/hBzjnpzQBQ8Y6Hf65a2cVkY5reKZmu7Ca7kto7yMxsuxpIwx2gsCVKlWxgiue0fwHq2ixi7tItIhu7bWJNRtrO3LxWxjlgETxEhMpjkhgpztHyjcQN238d6c1/4hhvkmsoNDmWKS4lhlCy7kQ/LlBliz7VUFi/ylchhWvpOu6fraz/2fLIXt3Ec8M8DwSxMQGAaORVZcggjI5B4oAw5tK8SNq1l4gCaU+pQRT2r2XnyJD5EjIwxNsZi6mJTnywDuIwMZMV1ofiZ9Wj1SM6TNdXOmtY3aM8kSQHzCyvH8rGTAYgg7N2AcrnAfdeNp7eXU7uPSlfRdJuPs13ePdbZdwxvZIthDKu4ZJdScNgHAB0LvxroNjfvaXN3KrRzpbSTLaTNBHKxACPMFMan5l4LDGRmgDA0fwNqen6X9mmntGf/AIRmLSMo7EecvmZb7v3PnHPXrxUtx4FvbyytbSa5gjRfC8+iyuuWIkkEQ3qMDKjy26kHpx6at34/8NWF7cWt3qDxvbTC3nc2spjikIBCtIF2KTkYyee2a09I12w1xJzp8kpa2kEc0U9vJBJExUMAySKrDIYEZHIPFAHGXfhDxLrC30mpf2VbSTeG7jR4kt7iSQGV9uJCxjXCnB4AJGOrZ4peJ/hxrOvW+qW0i6XfG6hCWV5f3ErHTx5SKUig2FFy0efMUhvmyQ2MH1CigDg9c8DX+sXOuF1054r24tb63W4JkQzQoimGWMpgxsEILA5+b7vHKL4IujZSTWWj+HNCvYLqC6tIdOjJSRojnE0ojQlWBZcBPl+9ls4He0UAc14b0nWrbxBrWra6LGNtREAigs5nlESxhhgsyLknIOcDrjHGTR/4Q/UP7c+2edbeX/wkn9rY3NnyvsXkbfu/e3c46Y754rs6KAMTw3otxo8+tvcvEw1DU5LyLyyTtRkRQGyBzlD0z25rDs/B+qw6lZPK9n9ns9fu9UDrKxd4plm+XbswGDSgdSCATkdK7eigDzu++HdzcXEt7LbaTqUqaxcXsdlqCloJoZlRSrEo2xxsBBCsOMd8jq/DGkHRtLkhbTtJ00yzNL9m0mHZEgIAGThd7YAy21ewxxk7NFABRRRQAVHc/wDHrL/uH+VSVHc/8esv+4f5UASUUUUAFcrb/EnwtdpA1tfXEouozJa7NPuCboAgMIh5f70ruG5UyV5yBg46qvP/AA54Y1bT4fAS3Vn5Z0ixnivR5iHynaJQBwfmyQeRmgDW1Px5YWulNqGnmK9hOk3WpxIXeN5BAFyuDGQvLYO4hlP8J5w+Pxmj6pLZyW8cPl3VrbK8kzfvDPFv4CoeR0wcA+orkJvBevvobW62GZTo2t2u3zo/9bcTBoV+9/EOc9B3xWpJ4X1htda4Fn+6OqadcbvNT/VxQbZDjPZuMdT2zQBtr8RvDDuqpfTOZHeOIrYzkTOpw0aHZh3B/gXLe1W/+Ex0Q6Zb3yXUssdzK8MUUVrK87umd6+SqmTK7TkbeMc4rmtN8L6tbWng5JLPYdN1O6uLseYn7tHWfa3XnJkXpk8/WqM3g7Vo9Si1OawvbmKLUtSZ7Sw1I2szRXEqvHKjrIgP3BlWYcN6jFAHUTeO9O/tTQrWyjnu4tYkkjWeKCUiEoDkMAhwQwwwbaUwS2ADV6y8W6LqOpJY2l07SyFxC7W8iRTlPvCOVlCSEYJwrE4Vj0BxzMPhu8tbjQrmw0W5tI0vrp7mI6j9pniE0ZQTO8j8nOCyqz4/h3VV8K+EbjTRolhqOgahJNpLDN/LrkjWfyKVWWKHzWO5gfuGNFXcwzwMgHTQePvD11ZrdW1zdTRSSeVCYtPuGM7YYkRAR5kK7G3bM7dp3YrY0zU7PWdNiv8ATZvOtpc7X2lTkEggggEEEEEEAggg1xEXhq8g8AaDYX2h3dzdWbOXOnagttdWjMrjfE+9Vb72CC4GD0bGK6jwlDrEHh+NPEUskl35kmwztG0qxbj5YkMYCFwuMleM9z1oA2qKKKACiiigAooooAKKKKACiiigAooooAKKKKACiiigAooooAKKKKACiiigAooooAji/wBZN/vj/wBBFFEX+sm/3x/6CKKAJKKKKACiiigAqrqOmWGr2htdWsba+tyQxhuYVkQkdDtYEVaooAyLDwl4c0q8W70vQNLsrlAQs1tZRxuoIwcMoB6Vr0UUAFFFFABRRRQAUUUUAFFFFABWLdeDPC99dSXV74b0i5uJW3STTWETu59SSuSa2qKAIbOytdPs47SwtobW2iGI4YIwiIPQKOBU1FFABRRRQAUUUUAFRy/6yH/fP/oJqSo5f9ZD/vn/ANBNAElFFFAGV4lu9Xs9Anl8Oaf/AGhqJwsMRdFC5OC53MoIUZOMjOAMjORzNn4cv9Q8M32nCC90y8u5kmv73WY4bg6jn76FYJ+E2qE25UBCFAxnHd0UAcn4H0fXdJuPEDa9Jaut5qb3EJggMe8FEBf/AFj4B24CnkbSSTkYzNU8M6tP4f8AGEFvaZuNS1eK5tQJEBkjVbYbs54wY34ODx7iu/ooA871fw/rkuneI/DttpZmg1y7aaPU/OjEUCSBQ+9Swfeu042qwPy8jnEWuaF4ge08Q6TZ6M9ymp6tDfw3i3ESxqgMBZSGYPuHlHjbg569q9JooA4lvD92NH8UxXeijUVv9W+1Q2ouxC08YSHDK4PyuDGSuSvKjletX/BdprNml+mqNqC2Pmr9gh1SeKe5jXBL7pIywZcnC7mZsDk9K6eigDy+G31XWrXxHoNlpDeTda87NqfnRiKJVkRm3KTvLgLgAKQcr8w5xqXfhrVZPC2v2kdpm4vNdW8hXzEG+ITxNuznA+VGODzx0rt4LWC28z7NBHD5shkk8tAu9z1Y46k+tS0AedzeHtbbS7zwwNNLQXWstejVjNGYkha5+0HK7vMMo5QDbjODuxXS+EtMutLtNTS9h8prjVru5jG4HdG8pZW4PcY4PNb9FAHn+qeHtZk1jXrm1sDKDqllqtpmVFS5EMcStDndlX/dtgsAudvI5xteH7G/l8U6xr+oWL6al7Db20NrK6NJti3ku+xmXJMhAAY8Lz1wOmooA858WeE59fu9Qsbbw9cW76hMgk1KPUsWjRgLmWSDeN0oAIAMbchDv4+Wp4r0DxTrUupQzWepXrC9jeyaPUIoLJLdZEfHlhlaSTAIPmqQCMqw4z6jRQB59qXhfVp9I1yGGz3SXfiW3voh5iDfCjW5Z+vGBG3B546dK6PR9Nu7XxZ4ivZ4tlveyW7QPuB3hYQrcA5GCMc1vUUAFFFFABRRRQAUUUUAFFFFABRRRQAUUUUAFR3P/HrL/uH+VSVHc/8AHrL/ALh/lQBJRRRQAUUUUAFFFFABRRRQAUUUUAFFFFABRRRQAUUUUAFFFFABRRRQAUUUUAFFFFABRRRQAUUUUAFFFFABRRRQAUUUUAFFFFAEcX+sm/3x/wCgiiiL/WTf74/9BFFAElFFFABRRRQAUUUUAFFFFABRRRQAUUUUAFFFFABRRRQAUUUUAFFFFABRRRQAUUUUAFRy/wCsh/3z/wCgmpKjl/1kP++f/QTQBJRRRQAUUUUAFFFFABRRRQAUUUUAFFFFABRRRQAUUUUAFFFFABRRRQAUUUUAFFFFABRRRQAUUUUAFFFFABRRRQAVHc/8esv+4f5VJUdz/wAesv8AuH+VAElFFFABRRRQAUUUUAFFFFABRRRQAUUUUAFFFFABRRRQAUUUUAFFFFABRRRQAUUUUAFFFFABRRRQAUUUUAFFFFABRRRQAUUUUARxf6yb/fH/AKCKKIv9ZN/vj/0EUUASUVH5T/8APeT8l/wo8p/+e8n5L/hQBJRUflP/AM95PyX/AAo8p/8AnvJ+S/4UASUVH5T/APPeT8l/wo8p/wDnvJ+S/wCFAElFR+U//PeT8l/wo8p/+e8n5L/hQBJRUflP/wA95PyX/Cjyn/57yfkv+FAElFR+U/8Az3k/Jf8ACjyn/wCe8n5L/hQBJRUflP8A895PyX/Cjyn/AOe8n5L/AIUASUVH5T/895PyX/Cjyn/57yfkv+FAElFR+U//AD3k/Jf8KPKf/nvJ+S/4UASUVH5T/wDPeT8l/wAKPKf/AJ7yfkv+FAElFR+U/wDz3k/Jf8KPKf8A57yfkv8AhQBJRUflP/z3k/Jf8KPKf/nvJ+S/4UASVHL/AKyH/fP/AKCaPKf/AJ7yfkv+FRyRt5kX75z8/ovHyn2oAsUVH5T/APPeT8l/wo8p/wDnvJ+S/wCFAElFR+U//PeT8l/wo8p/+e8n5L/hQBJRUflP/wA95PyX/Cjyn/57yfkv+FAElFR+U/8Az3k/Jf8ACjyn/wCe8n5L/hQBJRUflP8A895PyX/Cjyn/AOe8n5L/AIUASUVH5T/895PyX/Cjyn/57yfkv+FAElFR+U//AD3k/Jf8KPKf/nvJ+S/4UASUVH5T/wDPeT8l/wAKPKf/AJ7yfkv+FAElFR+U/wDz3k/Jf8KPKf8A57yfkv8AhQBJRUflP/z3k/Jf8KPKf/nvJ+S/4UASUVH5T/8APeT8l/wo8p/+e8n5L/hQBJRUflP/AM95PyX/AAo8p/8AnvJ+S/4UASUVH5T/APPeT8l/wo8p/wDnvJ+S/wCFAElFR+U//PeT8l/wo8p/+e8n5L/hQBJRUflP/wA95PyX/Cjyn/57yfkv+FAElFR+U/8Az3k/Jf8ACjyn/wCe8n5L/hQBJUdz/wAesv8AuH+VHlP/AM95PyX/AAqO4jYW0pMzn5DwQvPH0oAsUVH5T/8APeT8l/wo8p/+e8n5L/hQBJRUflP/AM95PyX/AAo8p/8AnvJ+S/4UASUVH5T/APPeT8l/wo8p/wDnvJ+S/wCFAElFR+U//PeT8l/wo8p/+e8n5L/hQBJRUflP/wA95PyX/Cjyn/57yfkv+FAElFR+U/8Az3k/Jf8ACjyn/wCe8n5L/hQBJRUflP8A895PyX/Cjyn/AOe8n5L/AIUASUVH5T/895PyX/Cjyn/57yfkv+FAElFR+U//AD3k/Jf8KPKf/nvJ+S/4UASUVH5T/wDPeT8l/wAKPKf/AJ7yfkv+FAElFR+U/wDz3k/Jf8KPKf8A57yfkv8AhQBJRUflP/z3k/Jf8KPKf/nvJ+S/4UASUVH5T/8APeT8l/wo8p/+e8n5L/hQBJRUflP/AM95PyX/AAo8p/8AnvJ+S/4UASUVH5T/APPeT8l/wo8p/wDnvJ+S/wCFAElFR+U//PeT8l/wo8p/+e8n5L/hQBJRUflP/wA95PyX/Cjyn/57yfkv+FAElFR+U/8Az3k/Jf8ACjyn/wCe8n5L/hQARf6yb/fH/oIopIAVaYFix39T/uiigCWiiigAoqO4uIbS2luLqWOCCFDJJLIwVUUDJYk8AAc5rMl8XeG4LQXU3iDS47dpWhEz3sYQuvVN2cbh3HWgDXorMfxBpqSIWu7cWz2bXouzcxCLyQV+f72duGB3AbcdTyMzafrWl6tJOmlalZ3z27BZltp1kMR54baTg8Hr6GgC7RSO6xxs8jBEUEszHAA9TWBa+OfD17qVxa2ep208VtaC7lvY7iNrdFLlMFw3DAjkHsRzQB0FFVbjU7C1lkiur62hkjjErpJMqlUJ2hiCeASMZ6ZqhL4x8MwWcF3N4i0mO2uSwgme+iCSlSA21t2DgkZx0zQBs0Vz13430S01qTSmu4nu0sGvwq3ESh0AJwCzgZ2jdzgbeSQKvz+IdHs5bSG/1SytLi8Cm3gnuY1eXPACjPzcnHGaANKis278R6JYXyWV9rOn2107hEgmukSRmOMKFJyT8y8e49a0qACiucvvGtlZahfQCyvri20zb/aF9CiGG0JXdhssGbCkM2xW2gjOOa0LvxLoVhfxWN9rWn213MFMdvNdIkj7jhcKTk5PT1oA06Kzp/EWiW2pJp1zrFhFevIIltpLpFkZyAQoUnJJDKcf7Q9ak0zWdM1q3afRtRtNQhRtjSWk6yqrYzglSQDgjj3oAu0UUUAFFFFABRRRQAVHL/rIf98/+gmpKjl/1kP++f8A0E0ASUUUUAVNT1Sz0fT5L3UphDBGQC20sSScBQoBLMSQAACSTgVkf8J54dWxvLqe9lto7KWKK5W5tJoZImlIEe6N0DANkYOMdeeDVnxUNZbQyPDjOt350Rcw+X5vlbx5gj80GPftzjfx9OtcBD4O1t5dVZNKvo4bq70mWIajqS3MzLBOTKXYyNghfm2gkYIxzlQAdknxC8NvI0ZvLhHjlWGdZLC4Q2zMQE87cg8oNuGGfaDzg8HFu78YaHY6q2n3N4yzI6RyOsEjRQu/3EeUKURjkYDMDyPUVzet+GdXu4vHAt7TedVa2Nn+8QebsiRW6njBU9cVFq/h/XJdO8R+HbbSzNBrl200ep+dGIoEkCh96lg+9dpxtVgfl5HOADr5/E2kW1nqF1Nd7YdNuBbXTeU58uQhCFxjJ4kTkZHPsaqyeOPD8Opy2El5IJ4blbWVhaymOKVsbVeTbsXO4YyRnPFcrr+heIHtfE+lWOjPdpq+ow30F4txEkaqFgDKwZg24eScYUg5HIq1qXhnV5vDnii2t7TM9/rkV5bKJEHmRq1uS2c8cRtwcHj6UAdF4e8Uw+INR1mzjtbiBtLvDbFpIZFWUbFbdlkAByxG3JOAG6MKdP4w0O21b+zZrxhOJlt2cQSGFJW+7G0oXy1c5GFLA8jjkVB4bsb3Ttd8SLd2jpBeaiLy3uQ6FJFMESFcBtwYGM5yoHTBNc9f6Brkmnax4bi0syQapqb3S6p50flQxPIJG3KW8zeuCoAUg/Kdw5wAb3h3xc3iLxFrNjBp8kFppc32f7RMsqPLIFUn5WjCgfMf4y2ADtAYGoNP8eW2o3U8C2sluYdWGmg3Mc0YkypYMpMWC3B+XIwMEsMrm34V0u802+8SSXsPlre6u9zbncDvjMMKhuDxyjDBweKwf+Ef1j+1pE/s9/KTxOmpLcebHseBoipIG7dlSMEEDqMZ5wAbC/Ebww7qqX0zmR3jiK2M5EzqcNGh2Ydwf4Fy3tVv/hMdEOmW98l1LLHcyvDFFFayvO7pnevkqpkyu05G3jHOK5rTfC+rW1p4OSSz2HTdTuri7HmJ+7R1n2t15yZF6ZPP1qjN4O1aPUotTmsL25ii1LUme0sNSNrM0VxKrxyo6yID9wZVmHDeoxQB6Lpup2esafHe6dMJoJMgNgqQQcFWU4KsCCCpAIIIIzWND4+8O3FiLy3urmWBpBFEyWFwfPc7vliATMpGxtwTO3ac4qx4U00aZo7oNNk00zXEkxhmvWupSWP3ndifnPUgMwB6MetczDo3iXTvAGg6Zaw3kPls66nDp00C3RjKyYEbyHYPmKkkMGA5Ug0AdFB4x0y+aw/s6dZFu757FlnSWGSOVI2dk2GPIYBej7BjnPQE0bxvoHiC4t4dKvJJTdRNLbu9rNFHOq43bHdQrEZ5UEkc5HBxyGgeFNbtdQspZ9Nmt4o/EkuoET3wuHSB7Mxgs7MWZg5CkZJz0yPmq/oHhnV7Cw+H8U9p5baRDIt+BKh8om3ZB0PzfMR0z60Adde6/pmn3F1Be3PkvaWZvptyNhYASC+cYONpyBkjjjkVDP4r0W2s0upr5Vgksxeo4RjuhJUKRgdWLqFX7zE4AJrC8d+GtR1nUtIuNIjDBpPsWoEuFxaO6O7YP3seUAAOfn6daz7Lw94n0jQdWOnqI7+OeOz0/wApoi5sI5Sw2b8oJCsjgB+Mhc+wB0sfjfQJILyVrqeE2RjE8NxZzQzKZDiMCJ0DtuPA2g5PA5rQ0jW7DXIJZdOldvJkMUscsLwyROADtZHAZTgg8joQa86tPCepLqGtXN34c1G9s7q2shFFf6yDdu8Mjlm8wSERyAkOqq4Tp8yElR1/gu01qztb2PV3vvsvnD7BHqc0U11HHtG4SPGSG+bOMszYxk9gAWB400EvqA+2SbdNZkupTay+XG6sFMe/btMmWXCAljkYBzT08X6I2m3l8928EVjgXCXNvJDLGW+6DE6h8tkBQF+Y8DJrmL7wlql14X1SBICLj+331OGBbowm5jEocKJEOY2ZRwcjBxnHWon8K3M8U2pafoF9aXdvdWk6R6pq7XNxeLA+8x8ySJGPmbYd/LfeCj5qAOpHjTQvsEt011MginW2eCS0mW481gCqCAp5hYqQwAXkc9ATSSeNtAi0uC/e8k8m4ujZRqtrKZTOAxMRiC71f5G+UqD09RnL1JNc1K+0vXE8PSwnSbwuLGS5h+0XEbwvGzDDGNSpkyAZOQG5UkA0IvDWr3Gs22rz2Atzc+I11GW18xC1tAlm8CsxBKlyQpIUtgt1OCaANPxB8RtI0SzmeETXdzE0SmHyJUVGkK4R5NhWN9rZ2NhugxyK1LnxdotpqT2M924kjkWKWQW8jQwu2NqPMF8tGO5flZgfmX1GeQ13Q/EC6Rr2h2OhtqCalqQvYb0XESRojOjsrhmDb1KkDAII28jkU2bwfcrqOr2l7oepatBqF+9zFPFrsltabJGDFZYxKCCvP3Y3yAvvgA6DxF8QdK0JZY4RJe3UV1DatGkcgiEkjopQzBCgdVfdsznA7ZzW5qmqJpn2PzDGPtV0lsvmMw5bPTarZPHQ4HuK4TVtC8QJo+paFaaI16l1rg1CO+E8SxrE1yk7AhmD71+ZcbcYAIOflrrPFOm3eo/2N9ii8z7NqsFxL8wG2Nd2Tyeeo4HNACWPjjw/qV/FaWd5I8k0zwRu1rKkbypndGJGUIWG1jtznAzW/XAWnhnV4fD3hq2NptmsdflvLhRInyQtJcHdnODkSLwMnnp1rv6ACo7n/j1l/wBw/wAqkqO5/wCPWX/cP8qAJKKKKACiiqGn67pGrTzw6Vqtley25xNHbXCSNFzj5gpOOQevpQBfoqjpuuaTrJmGj6pZX5gIEotbhJfLJzgNtJx0PX0NMsvEWialb3E+naxYXcNqM3EkF0jrCME5Yg4XgHr6GgDRorOtvEOi3mmvqFpq9hPZJII2uYrlGjVyQApYHAOWXj3HrRaeING1DTp7+w1ewubK2DGe5huUeOLA3HcwOBgcnPagDRorAsfG2g6jNqX2XUbdrXTY4pZr7z4zblX3YxIGxwUIOcYNa2n6lY6tZrd6XeW97bMSFmtpVkQkHBwykjrQBZooooAKKKKACiiigAooooAKKKKACiiigAooooAKKKKACiiigAooooAKKKKACiiigAooooAji/1k3++P/QRRRF/rJv8AfH/oIooAkooooAw/G1vNd/D/AMQ29rFJPPNpdzHHFGpZnYxMAoA5JJ4xXPa01/p19o8FnbXGn2y6d5Zv9P0g3d0CCn+jqdrLCpwpJdSpx2IyO9ooA8St9A1dPAotf7JvlmTwnqFr5Rtm3CUzrtjwBjcQCQB1HI4r0Cx0+a1+I1tJDZvFZJ4fWDesREasso2pnGMgE8ema62quo6fDqdoba5e5RCQc211Jbvx/txsrfhmgDI8d6fdap4J1C0sYPtMrBGNuCP3yLIrPHzx8yqy4PHNcTr9rP4l1LxNcaJoeoxi48Opbo9xYyW32iVZGbYBIFJIBA56/TFegWHhmx028W5t59UeRQQBc6tdTpyMcpJIyn8RWvQB5P4qS68T3mv3Vho+qG2n0CG2Tz7CWJpZBcMzIFZQxIDen0yOa2vFzaiPEElpaWtzZ2smnCOO603SRcz3bZkH2cysrRwoCUP7wAHcfmXBNd9RQB4/aabqMHhW1t5dM1ATT+CJLFUFnISJ1Ukxthfkb0DYyeBk1furOezs/E1jfaHfX0+uWVtFYiK0aRJMWyxCN3A2xbJNzZkKgb8g9ceo0UAeWar4f1EeH/Hqy2U93f3GnW0McyQs7XTpbAHYcZb589O/vXqEJZreMyZ3lRuyMc4p9YU3hDTbi4kmkudZDSMWYR65eIoJOeFWUAD2AAFAHI+N9Le5bxBp2iR+ILe91eFYzbwW4NjeSOgj81pdjeXhcBxvjJEY+Vsjdk+NrXWLnTPEOlQWV9F91YLXTNG3jUVWOI+dNcFWU42sAilHG0D5jtr1y2t0tbWK3iMjJEoVTLK0jED1ZiWY+5JJqWgDy/xLoNxe2Hj8rpU07ahfWBiH2ZmNxGkdv0GPmCkP9CG966zR7OaD4geIpzbyR281tZCOQoQjlRKGwehIG3PpxXSUUAFFFFABRRRQAUUUUAFRy/6yH/fP/oJqSo5f9ZD/AL5/9BNAElFFFAGV4k8Sad4V0j+0tYmEUHmxwj5lUszsAMbiAcZLHnopPaqsHjbQJtYn0x9Stre5jnjgiWeeNftTPGki+V82XGJVHA6n6VF8QLee68F3KWsEtxIs9tKY4Yy7lUuI3bCjJOFUnAGeK5TXtKu7rSfiHc2emXLz38tq9qfsriSdUt4MbQRk7W3cY4IPcGgD0G41zSbPVIdNu9UsoL+4AMNrLcIssgJIBVCcnJBHA7Gm61rEGh2AubiKadnlSGGCBQ0k0jnCquSBknuSAOpIFedarolw+p+JdO1eXxKV1W8WaGPSbGGWK6jKoqfv2hPlMhTHzyJt2hgcHNd54o1q48P6A93Zafc6ndbljihgheQljxucRqSFHUkA+wyQKAJNF1+LWZLyA2l1Y3dlIqXFrdhN6bl3KcozKQQeCGPcdRTfDvibT/FNpdXWkmR4Le6e28xlAEhUA7l55U7hg965a00+91HwzqEekSTXWq6hcI+qXGpW1zpolQjDJEXiJVQi7BgHAJJO45N34d2uq2a+II9V0uHTkfVpJIFildgwKqDt3Rp8gwNrDrzwMcgGva+MdEudWuNMe/gtb6G7NotvczIkk7hVbMa7ssPnA6dQeKuy67pMOrR6VNqllHqMgylm9wgmccnITOT0PbtXA6pot4fDvi9oNNna6uPENvPDtgJeVFa2IdeMlRh+RwMN70zUbC7Ona5oA0m8k1bUNaN3a3a2rGEKZFdJjOBtXy0XGCQ3yAAHIyAeivqunxwvK9/bLHHMLd3MygLKSAEJzw2SBjrkiq8niXQobie3m1rTo5rZGknja7QNEinBZhnKgHgk9DXnusQ3yWOraOulalJdTeJYL1Gis5HiaAzwv5nmAbMAAgjO4YORgE1onRkHh/xH/aGn6ogm8Qm7V9PgBnG14ykyqwO9QVBwFbIBwDQB3en6nY6tZi70q9t722YkCa2lWRCR1G5SRVePxFokuqrpkWsWD37Fgtot0hlJXO4BM542tnjjafSsXwK2ovFqZ1GLzENyDFfyaabGa9+RcvJEcHcD8m7auQvAxiuQtVXUbDVdH03Srv8AtOXxZJcLdi0YRL5d2HaYz42qQiMuM7jjAGGGQD0K58VaNBO1vFqNnc3UcqRyW0V3CJE3SCLJDOMYY4I654AJwKtDXNJOsHSBqll/aQGTZfaE84DG7OzO7pz06VwUujXq+FNQji064E03i4XRVYW3PH9uQ+ZjHK7Fzu6YGelRLp94dHh8OjSrwa1H4g+3Nem2cQhPtRmNx5+NhzCdm3duy23GBQB6Ha61pd7fS2VlqVncXcO7zbeKdXkjw207lByMMCDnvxWfp3jTQtTk1hIdQt0GjTGK7eSdAqAKGL53cJyVyccqw7VW8DWMtjp2refbPbyT63fzYdCpkVrh9r89QV24PcYrmL6wvFvNa8zTLyeKDxNb6nJElq7C4thBEu5DjbIVdc7FJb5OmcZAPRNP1Ox1azF3pV7b3tsxIE1tKsiEjqNykisRvG1iuoTxCyvmsra6FncamET7PFNkDactvIDEKWCFQTyQASIfCkUlx4k8Q6xFZ3FnYX7wCBLmFoXldEKvKY2AZc5VfmAJ2Z6YNc14l0Z76fUNG0RfEFvLf6ikslo9uBYMSyPJcefsOFwpbYJAS/Gz5jkA72XxHokOrjSptZ0+PUWIUWb3SCYkjIGzO7kHPSmyeJ9BhvjZTa3psd2N2YGu4xINud3y5zxg59MGvNfEkes6hNdW32G+g8nXYZVsNP0YiGSJblSbmScqfMZl2nEbKRyGUgMRevfD88un3YOkyyNP4zguXBtyd8ImjzIeOU2g89MZoA9G07U7DV7QXWk31tfW5JUTW0yyISOo3KSKtVzfhy0ntvFXi2SS3kihuL+GSFmQqsg+ywhmU9D8wIJHcGukoAKKKKACiiigAooooAKKKKACo7n/AI9Zf9w/yqSo7n/j1l/3D/KgCSiiigCK5UPaSo0bSqyMDGhwX46A5GCfqK8lj0rWbvR7vRPD8d/PbnQpbSCTV9L+yXVh8qKtstxtVZFbBB2hgCoJc8E+v0UAeT3Oh3HiDS7waW/iaXURok1pFHqNjDYwxCQL+4JEMW8kpgFdyLg8gEZ1vEBt/EWik6N4bv8ANobR7hZtOa2MtvHOjtaqJApf5VYhVBXtnJwfQqKAPLPEenT+I28QX9hpN5/Z95Hp1s0U9pJE928dyGd/JdQ21Y2CliBkA9hVnxHpOoz+KNfuY9OnubFJNIupIliJF0kMkrSqgxiRlAQ7RknCjqRXpVFAHlsltBquueJ9TbR9etbOafTJobm2sGjnaWF3PnLFIuXCELldjEgZCnIrqPAb6i9pqP8AaUQZTd5ivn042Mt8PLUGSSI8hsjbuwuQowAMV1VFABRRRQAUUUUAFFFFABRRRQAUUUUAFFFFABRRRQAUUUUAFFFFABRRRQAUUUUAFFFFABRRRQBHF/rJv98f+giiiL/WTf74/wDQRRQBJRRRQAUUUUAFFFFABRRRQAUUUUAFFFFABRRRQAUUUUAFFFFABRRRQAUUUUAFFFFABUcv+sh/3z/6CakqOX/WQ/75/wDQTQBJRRRQAUUUUAFFFFABRRRQAUUUUAFFFFABVWw0200yOZLGLylnnkuJBuLbpHbczcnuT06VaooAKKKKACiiigAooooAKKKKACiiigAooooAKKKKACiiigAooooAKjuf+PWX/cP8qkqO5/49Zf8AcP8AKgCSiiigAooooAKKKKACiiigAooooAKKKKACiiigAooooAKKKKACiiigAooooAKKKKACiiigAooooAKKKKACiiigAooooAKKKKAI4v8AWTf74/8AQRRRF/rJv98f+giigCSiiigAooooAKKKKACiiigAooooAKKKKACiiigAooooAKKKKACiiigAooooAKKKKACo5f8AWQ/75/8AQTUlRy/6yH/fP/oJoAkooooAKKKKACiiigAooooAKKKKACiiigAooooAKKKKACiiigAooooAKKKKACiiigAooooAKKKKACiiigAooooAKjuf+PWX/cP8qkqO5/49Zf8AcP8AKgCSiiigAooooAKKKKACiiigAooooAKKKKACiiigAooooAKKKKACiiigAooooAKKKKACiiigAooooAKKKKACiiigAooooAKKKKAI4v8AWTf74/8AQRRRF/rJv98f+giigA8p/wDnvJ+S/wCFHlP/AM95PyX/AAoooAPKf/nvJ+S/4UeU/wDz3k/Jf8KKKADyn/57yfkv+FHlP/z3k/Jf8KKKADyn/wCe8n5L/hR5T/8APeT8l/woooAPKf8A57yfkv8AhR5T/wDPeT8l/wAKKKADyn/57yfkv+FHlP8A895PyX/CiigA8p/+e8n5L/hR5T/895PyX/CiigA8p/8AnvJ+S/4UeU//AD3k/Jf8KKKADyn/AOe8n5L/AIUeU/8Az3k/Jf8ACiigA8p/+e8n5L/hR5T/APPeT8l/woooAPKf/nvJ+S/4UeU//PeT8l/woooAPKf/AJ7yfkv+FHlP/wA95PyX/CiigA8p/wDnvJ+S/wCFIYGYqTNJlTkcL9PT3oooAXyn/wCe8n5L/hR5T/8APeT8l/woooAPKf8A57yfkv8AhR5T/wDPeT8l/wAKKKADyn/57yfkv+FHlP8A895PyX/CiigA8p/+e8n5L/hR5T/895PyX/CiigA8p/8AnvJ+S/4UeU//AD3k/Jf8KKKADyn/AOe8n5L/AIUeU/8Az3k/Jf8ACiigA8p/+e8n5L/hR5T/APPeT8l/woooAPKf/nvJ+S/4UeU//PeT8l/woooAPKf/AJ7yfkv+FHlP/wA95PyX/CiigA8p/wDnvJ+S/wCFHlP/AM95PyX/AAoooAPKf/nvJ+S/4UeU/wDz3k/Jf8KKKADyn/57yfkv+FHlP/z3k/Jf8KKKADyn/wCe8n5L/hR5T/8APeT8l/woooAPKf8A57yfkv8AhR5T/wDPeT8l/wAKKKADyn/57yfkv+FHlP8A895PyX/CiigA8p/+e8n5L/hR5T/895PyX/CiigA8p/8AnvJ+S/4UjQM6lWmkIYYIwv8AhRRQAvlP/wA95PyX/Cjyn/57yfkv+FFFAB5T/wDPeT8l/wAKPKf/AJ7yfkv+FFFAB5T/APPeT8l/wo8p/wDnvJ+S/wCFFFAB5T/895PyX/Cjyn/57yfkv+FFFAB5T/8APeT8l/wo8p/+e8n5L/hRRQAeU/8Az3k/Jf8ACjyn/wCe8n5L/hRRQAeU/wDz3k/Jf8KPKf8A57yfkv8AhRRQAeU//PeT8l/wo8p/+e8n5L/hRRQAeU//AD3k/Jf8KPKf/nvJ+S/4UUUAHlP/AM95PyX/AAo8p/8AnvJ+S/4UUUAHlP8A895PyX/Cjyn/AOe8n5L/AIUUUAHlP/z3k/Jf8KPKf/nvJ+S/4UUUAHlP/wA95PyX/Cjyn/57yfkv+FFFAB5T/wDPeT8l/wAKPKf/AJ7yfkv+FFFAB5T/APPeT8l/wo8p/wDnvJ+S/wCFFFAB5T/895PyX/Cjyn/57yfkv+FFFAB5T/8APeT8l/wo8p/+e8n5L/hRRQAeU/8Az3k/Jf8ACjyn/wCe8n5L/hRRQAscfl7vmZixyScemO30ooooA//Z)"
      ]
    },
    {
      "cell_type": "markdown",
      "metadata": {
        "id": "LwYX41wdrGks"
      },
      "source": [
        "#Show column details\n",
        "The first step in an exploratory data analysis is to check out the schema of the dataframe. This will give you an overview of the columns in the dataframe along with their data types.\n",
        "\n"
      ]
    },
    {
      "cell_type": "code",
      "metadata": {
        "colab": {
          "base_uri": "https://localhost:8080/"
        },
        "id": "1egaHa8zrLgR",
        "outputId": "2d5c1a47-f5af-49af-bd88-97be4f418259"
      },
      "source": [
        "df.printSchema()\n",
        "#you can use df.columns to check the columns without datatypes!"
      ],
      "execution_count": 14,
      "outputs": [
        {
          "output_type": "stream",
          "name": "stdout",
          "text": [
            "root\n",
            " |-- number: integer (nullable = true)\n",
            " |-- air_pressure_9am: double (nullable = true)\n",
            " |-- air_temp_9am: double (nullable = true)\n",
            " |-- avg_wind_direction_9am: double (nullable = true)\n",
            " |-- avg_wind_speed_9am: double (nullable = true)\n",
            " |-- max_wind_direction_9am: double (nullable = true)\n",
            " |-- max_wind_speed_9am: double (nullable = true)\n",
            " |-- rain_accumulation_9am: double (nullable = true)\n",
            " |-- rain_duration_9am: double (nullable = true)\n",
            " |-- relative_humidity_9am: double (nullable = true)\n",
            " |-- relative_humidity_3pm: double (nullable = true)\n",
            "\n"
          ]
        }
      ]
    },
    {
      "cell_type": "markdown",
      "metadata": {
        "id": "RRccS9B8r2uV"
      },
      "source": [
        "#Display Rows\n",
        "\n",
        "Just like in Pandas Dataframe you have the df.head() function, here you have the show() function. You can provide the number of rows you want to print within the parenthesis."
      ]
    },
    {
      "cell_type": "code",
      "metadata": {
        "colab": {
          "base_uri": "https://localhost:8080/"
        },
        "id": "Ml2W5DP4r8e0",
        "outputId": "b97a537c-c9cc-4761-8b6b-828a662aaccd"
      },
      "source": [
        "#you can change the number\n",
        "df.show(5)"
      ],
      "execution_count": 17,
      "outputs": [
        {
          "output_type": "stream",
          "name": "stdout",
          "text": [
            "+------+-----------------+------------------+----------------------+------------------+----------------------+------------------+---------------------+-----------------+---------------------+---------------------+\n",
            "|number| air_pressure_9am|      air_temp_9am|avg_wind_direction_9am|avg_wind_speed_9am|max_wind_direction_9am|max_wind_speed_9am|rain_accumulation_9am|rain_duration_9am|relative_humidity_9am|relative_humidity_3pm|\n",
            "+------+-----------------+------------------+----------------------+------------------+----------------------+------------------+---------------------+-----------------+---------------------+---------------------+\n",
            "|     0|918.0600000000087| 74.82200000000041|                 271.1| 2.080354199999768|    295.39999999999986| 2.863283199999908|                  0.0|              0.0|    42.42000000000046|   36.160000000000494|\n",
            "|     1|917.3476881177097| 71.40384263106537|    101.93517935618371|2.4430092157340217|    140.47154847112498|3.5333236016106238|                  0.0|              0.0|   24.328697291802207|     19.4265967985621|\n",
            "|     2|923.0400000000084|60.637999999998776|    51.000000000000036|17.067852199999727|      63.6999999999999|22.100967200000003|                  0.0|             20.0|    8.900000000000047|   14.460000000000045|\n",
            "|     3|920.5027511759195| 70.13889486830053|    198.83213271746368| 4.337363056162703|    211.20334124325618| 5.190045360219378|                  0.0|              0.0|   12.189101868764444|   12.742547353761848|\n",
            "|     4|921.1600000000036| 44.29400000000284|                 277.8|1.8566601999998955|    136.49999999999991| 2.863283199999954|    8.899999999998613|          14730.0|    92.41000000000044|    76.74000000000046|\n",
            "+------+-----------------+------------------+----------------------+------------------+----------------------+------------------+---------------------+-----------------+---------------------+---------------------+\n",
            "only showing top 5 rows\n",
            "\n"
          ]
        }
      ]
    },
    {
      "cell_type": "markdown",
      "metadata": {
        "id": "Xpk3T05bsB_J"
      },
      "source": [
        "#Print summary statistics.\n",
        " We can print the summary statistics for all the columns using the describe() method:"
      ]
    },
    {
      "cell_type": "code",
      "metadata": {
        "colab": {
          "base_uri": "https://localhost:8080/"
        },
        "id": "7zLCgeG4sFDV",
        "outputId": "5d9d2595-94c5-480e-cfa2-018fe9c05c1a"
      },
      "source": [
        "df.describe()"
      ],
      "execution_count": 18,
      "outputs": [
        {
          "output_type": "execute_result",
          "data": {
            "text/plain": [
              "DataFrame[summary: string, number: string, air_pressure_9am: string, air_temp_9am: string, avg_wind_direction_9am: string, avg_wind_speed_9am: string, max_wind_direction_9am: string, max_wind_speed_9am: string, rain_accumulation_9am: string, rain_duration_9am: string, relative_humidity_9am: string, relative_humidity_3pm: string]"
            ]
          },
          "metadata": {},
          "execution_count": 18
        }
      ]
    },
    {
      "cell_type": "markdown",
      "metadata": {
        "id": "ypmvrdRbsREK"
      },
      "source": [
        "as you can see the output is not very clear, let's try to transpose the output (rows to columns)"
      ]
    },
    {
      "cell_type": "code",
      "metadata": {
        "colab": {
          "base_uri": "https://localhost:8080/",
          "height": 426
        },
        "id": "NIxwwNvAsd0d",
        "outputId": "e641ce52-ed1c-4aa6-dece-5b8f8aaa17e1"
      },
      "source": [
        "df.describe().toPandas().transpose()"
      ],
      "execution_count": 19,
      "outputs": [
        {
          "output_type": "execute_result",
          "data": {
            "text/plain": [
              "                            0                    1                   2  \\\n",
              "summary                 count                 mean              stddev   \n",
              "number                   1095                547.0  316.24357700987383   \n",
              "air_pressure_9am         1092    918.8825513138094   3.184161180386833   \n",
              "air_temp_9am             1090    64.93300141287072  11.175514003175877   \n",
              "avg_wind_direction_9am   1091    142.2355107005759   69.13785928889189   \n",
              "avg_wind_speed_9am       1092     5.50828424225493  4.5528134655317185   \n",
              "max_wind_direction_9am   1092   148.95351796516923   67.23801294602953   \n",
              "max_wind_speed_9am       1091    7.019513529175272   5.598209170780958   \n",
              "rain_accumulation_9am    1089  0.20307895225211126  1.5939521253574893   \n",
              "rain_duration_9am        1092    294.1080522756142  1598.0787786601481   \n",
              "relative_humidity_9am    1095    34.24140205923536  25.472066802250055   \n",
              "relative_humidity_3pm    1095    35.34472714825898  22.524079453587273   \n",
              "\n",
              "                                         3                   4  \n",
              "summary                                min                 max  \n",
              "number                                   0                1094  \n",
              "air_pressure_9am         907.9900000000024   929.3200000000012  \n",
              "air_temp_9am            36.752000000000685   98.90599999999992  \n",
              "avg_wind_direction_9am  15.500000000000046               343.4  \n",
              "avg_wind_speed_9am        0.69345139999974  23.554978199999763  \n",
              "max_wind_direction_9am   28.89999999999991  312.19999999999993  \n",
              "max_wind_speed_9am      1.1855782000000479   29.84077959999996  \n",
              "rain_accumulation_9am                  0.0   24.01999999999907  \n",
              "rain_duration_9am                      0.0             17704.0  \n",
              "relative_humidity_9am    6.090000000001012    92.6200000000002  \n",
              "relative_humidity_3pm   5.3000000000006855    92.2500000000003  "
            ],
            "text/html": [
              "\n",
              "  <div id=\"df-806e84ed-d452-410c-96a5-909e2d0347ea\">\n",
              "    <div class=\"colab-df-container\">\n",
              "      <div>\n",
              "<style scoped>\n",
              "    .dataframe tbody tr th:only-of-type {\n",
              "        vertical-align: middle;\n",
              "    }\n",
              "\n",
              "    .dataframe tbody tr th {\n",
              "        vertical-align: top;\n",
              "    }\n",
              "\n",
              "    .dataframe thead th {\n",
              "        text-align: right;\n",
              "    }\n",
              "</style>\n",
              "<table border=\"1\" class=\"dataframe\">\n",
              "  <thead>\n",
              "    <tr style=\"text-align: right;\">\n",
              "      <th></th>\n",
              "      <th>0</th>\n",
              "      <th>1</th>\n",
              "      <th>2</th>\n",
              "      <th>3</th>\n",
              "      <th>4</th>\n",
              "    </tr>\n",
              "  </thead>\n",
              "  <tbody>\n",
              "    <tr>\n",
              "      <th>summary</th>\n",
              "      <td>count</td>\n",
              "      <td>mean</td>\n",
              "      <td>stddev</td>\n",
              "      <td>min</td>\n",
              "      <td>max</td>\n",
              "    </tr>\n",
              "    <tr>\n",
              "      <th>number</th>\n",
              "      <td>1095</td>\n",
              "      <td>547.0</td>\n",
              "      <td>316.24357700987383</td>\n",
              "      <td>0</td>\n",
              "      <td>1094</td>\n",
              "    </tr>\n",
              "    <tr>\n",
              "      <th>air_pressure_9am</th>\n",
              "      <td>1092</td>\n",
              "      <td>918.8825513138094</td>\n",
              "      <td>3.184161180386833</td>\n",
              "      <td>907.9900000000024</td>\n",
              "      <td>929.3200000000012</td>\n",
              "    </tr>\n",
              "    <tr>\n",
              "      <th>air_temp_9am</th>\n",
              "      <td>1090</td>\n",
              "      <td>64.93300141287072</td>\n",
              "      <td>11.175514003175877</td>\n",
              "      <td>36.752000000000685</td>\n",
              "      <td>98.90599999999992</td>\n",
              "    </tr>\n",
              "    <tr>\n",
              "      <th>avg_wind_direction_9am</th>\n",
              "      <td>1091</td>\n",
              "      <td>142.2355107005759</td>\n",
              "      <td>69.13785928889189</td>\n",
              "      <td>15.500000000000046</td>\n",
              "      <td>343.4</td>\n",
              "    </tr>\n",
              "    <tr>\n",
              "      <th>avg_wind_speed_9am</th>\n",
              "      <td>1092</td>\n",
              "      <td>5.50828424225493</td>\n",
              "      <td>4.5528134655317185</td>\n",
              "      <td>0.69345139999974</td>\n",
              "      <td>23.554978199999763</td>\n",
              "    </tr>\n",
              "    <tr>\n",
              "      <th>max_wind_direction_9am</th>\n",
              "      <td>1092</td>\n",
              "      <td>148.95351796516923</td>\n",
              "      <td>67.23801294602953</td>\n",
              "      <td>28.89999999999991</td>\n",
              "      <td>312.19999999999993</td>\n",
              "    </tr>\n",
              "    <tr>\n",
              "      <th>max_wind_speed_9am</th>\n",
              "      <td>1091</td>\n",
              "      <td>7.019513529175272</td>\n",
              "      <td>5.598209170780958</td>\n",
              "      <td>1.1855782000000479</td>\n",
              "      <td>29.84077959999996</td>\n",
              "    </tr>\n",
              "    <tr>\n",
              "      <th>rain_accumulation_9am</th>\n",
              "      <td>1089</td>\n",
              "      <td>0.20307895225211126</td>\n",
              "      <td>1.5939521253574893</td>\n",
              "      <td>0.0</td>\n",
              "      <td>24.01999999999907</td>\n",
              "    </tr>\n",
              "    <tr>\n",
              "      <th>rain_duration_9am</th>\n",
              "      <td>1092</td>\n",
              "      <td>294.1080522756142</td>\n",
              "      <td>1598.0787786601481</td>\n",
              "      <td>0.0</td>\n",
              "      <td>17704.0</td>\n",
              "    </tr>\n",
              "    <tr>\n",
              "      <th>relative_humidity_9am</th>\n",
              "      <td>1095</td>\n",
              "      <td>34.24140205923536</td>\n",
              "      <td>25.472066802250055</td>\n",
              "      <td>6.090000000001012</td>\n",
              "      <td>92.6200000000002</td>\n",
              "    </tr>\n",
              "    <tr>\n",
              "      <th>relative_humidity_3pm</th>\n",
              "      <td>1095</td>\n",
              "      <td>35.34472714825898</td>\n",
              "      <td>22.524079453587273</td>\n",
              "      <td>5.3000000000006855</td>\n",
              "      <td>92.2500000000003</td>\n",
              "    </tr>\n",
              "  </tbody>\n",
              "</table>\n",
              "</div>\n",
              "      <button class=\"colab-df-convert\" onclick=\"convertToInteractive('df-806e84ed-d452-410c-96a5-909e2d0347ea')\"\n",
              "              title=\"Convert this dataframe to an interactive table.\"\n",
              "              style=\"display:none;\">\n",
              "        \n",
              "  <svg xmlns=\"http://www.w3.org/2000/svg\" height=\"24px\"viewBox=\"0 0 24 24\"\n",
              "       width=\"24px\">\n",
              "    <path d=\"M0 0h24v24H0V0z\" fill=\"none\"/>\n",
              "    <path d=\"M18.56 5.44l.94 2.06.94-2.06 2.06-.94-2.06-.94-.94-2.06-.94 2.06-2.06.94zm-11 1L8.5 8.5l.94-2.06 2.06-.94-2.06-.94L8.5 2.5l-.94 2.06-2.06.94zm10 10l.94 2.06.94-2.06 2.06-.94-2.06-.94-.94-2.06-.94 2.06-2.06.94z\"/><path d=\"M17.41 7.96l-1.37-1.37c-.4-.4-.92-.59-1.43-.59-.52 0-1.04.2-1.43.59L10.3 9.45l-7.72 7.72c-.78.78-.78 2.05 0 2.83L4 21.41c.39.39.9.59 1.41.59.51 0 1.02-.2 1.41-.59l7.78-7.78 2.81-2.81c.8-.78.8-2.07 0-2.86zM5.41 20L4 18.59l7.72-7.72 1.47 1.35L5.41 20z\"/>\n",
              "  </svg>\n",
              "      </button>\n",
              "      \n",
              "  <style>\n",
              "    .colab-df-container {\n",
              "      display:flex;\n",
              "      flex-wrap:wrap;\n",
              "      gap: 12px;\n",
              "    }\n",
              "\n",
              "    .colab-df-convert {\n",
              "      background-color: #E8F0FE;\n",
              "      border: none;\n",
              "      border-radius: 50%;\n",
              "      cursor: pointer;\n",
              "      display: none;\n",
              "      fill: #1967D2;\n",
              "      height: 32px;\n",
              "      padding: 0 0 0 0;\n",
              "      width: 32px;\n",
              "    }\n",
              "\n",
              "    .colab-df-convert:hover {\n",
              "      background-color: #E2EBFA;\n",
              "      box-shadow: 0px 1px 2px rgba(60, 64, 67, 0.3), 0px 1px 3px 1px rgba(60, 64, 67, 0.15);\n",
              "      fill: #174EA6;\n",
              "    }\n",
              "\n",
              "    [theme=dark] .colab-df-convert {\n",
              "      background-color: #3B4455;\n",
              "      fill: #D2E3FC;\n",
              "    }\n",
              "\n",
              "    [theme=dark] .colab-df-convert:hover {\n",
              "      background-color: #434B5C;\n",
              "      box-shadow: 0px 1px 3px 1px rgba(0, 0, 0, 0.15);\n",
              "      filter: drop-shadow(0px 1px 2px rgba(0, 0, 0, 0.3));\n",
              "      fill: #FFFFFF;\n",
              "    }\n",
              "  </style>\n",
              "\n",
              "      <script>\n",
              "        const buttonEl =\n",
              "          document.querySelector('#df-806e84ed-d452-410c-96a5-909e2d0347ea button.colab-df-convert');\n",
              "        buttonEl.style.display =\n",
              "          google.colab.kernel.accessAllowed ? 'block' : 'none';\n",
              "\n",
              "        async function convertToInteractive(key) {\n",
              "          const element = document.querySelector('#df-806e84ed-d452-410c-96a5-909e2d0347ea');\n",
              "          const dataTable =\n",
              "            await google.colab.kernel.invokeFunction('convertToInteractive',\n",
              "                                                     [key], {});\n",
              "          if (!dataTable) return;\n",
              "\n",
              "          const docLinkHtml = 'Like what you see? Visit the ' +\n",
              "            '<a target=\"_blank\" href=https://colab.research.google.com/notebooks/data_table.ipynb>data table notebook</a>'\n",
              "            + ' to learn more about interactive tables.';\n",
              "          element.innerHTML = '';\n",
              "          dataTable['output_type'] = 'display_data';\n",
              "          await google.colab.output.renderOutput(dataTable, element);\n",
              "          const docLink = document.createElement('div');\n",
              "          docLink.innerHTML = docLinkHtml;\n",
              "          element.appendChild(docLink);\n",
              "        }\n",
              "      </script>\n",
              "    </div>\n",
              "  </div>\n",
              "  "
            ]
          },
          "metadata": {},
          "execution_count": 19
        }
      ]
    },
    {
      "cell_type": "markdown",
      "metadata": {
        "id": "3x0gbJuisj-T"
      },
      "source": [
        "We can also see the summary statistics for just one column:"
      ]
    },
    {
      "cell_type": "code",
      "metadata": {
        "colab": {
          "base_uri": "https://localhost:8080/"
        },
        "id": "v6ILc4Nnskex",
        "outputId": "0db57c48-44b6-4906-9195-e0386b1d98b0"
      },
      "source": [
        "df.describe(\"air_temp_9am\").show()"
      ],
      "execution_count": 20,
      "outputs": [
        {
          "output_type": "stream",
          "name": "stdout",
          "text": [
            "+-------+------------------+\n",
            "|summary|      air_temp_9am|\n",
            "+-------+------------------+\n",
            "|  count|              1090|\n",
            "|   mean| 64.93300141287072|\n",
            "| stddev|11.175514003175877|\n",
            "|    min|36.752000000000685|\n",
            "|    max| 98.90599999999992|\n",
            "+-------+------------------+\n",
            "\n"
          ]
        }
      ]
    },
    {
      "cell_type": "markdown",
      "metadata": {
        "id": "Hgjjcj76sucj"
      },
      "source": [
        "Let's count the number of columns and rows in the DataFrame:"
      ]
    },
    {
      "cell_type": "code",
      "metadata": {
        "colab": {
          "base_uri": "https://localhost:8080/"
        },
        "id": "AV8fmsTzsv9S",
        "outputId": "b5b84536-aee7-420d-921b-e39bb0b89dbf"
      },
      "source": [
        "#number of columns\n",
        "len(df.columns)"
      ],
      "execution_count": 21,
      "outputs": [
        {
          "output_type": "execute_result",
          "data": {
            "text/plain": [
              "11"
            ]
          },
          "metadata": {},
          "execution_count": 21
        }
      ]
    },
    {
      "cell_type": "code",
      "metadata": {
        "colab": {
          "base_uri": "https://localhost:8080/"
        },
        "id": "4o6R9UEMs2MM",
        "outputId": "4f5ebd8e-c42a-4f6f-8ac0-9cedfcff851e"
      },
      "source": [
        "#number of rows\n",
        "df.count()"
      ],
      "execution_count": 22,
      "outputs": [
        {
          "output_type": "execute_result",
          "data": {
            "text/plain": [
              "1095"
            ]
          },
          "metadata": {},
          "execution_count": 22
        }
      ]
    },
    {
      "cell_type": "markdown",
      "metadata": {
        "id": "UYSh8OZQs_fR"
      },
      "source": [
        "The number of rows in the DataFrame is **1095**, but the summary statistics for **air_pressure_9am** says there are only **1092** rows. These are different since 1095 - 1092 = 3 rows have **missing values**."
      ]
    },
    {
      "cell_type": "markdown",
      "metadata": {
        "id": "wPWZCqGstMTy"
      },
      "source": [
        "#Drop rows with missing values.\n",
        " Let's drop the rows with missing values in the air_pressure_9am column:"
      ]
    },
    {
      "cell_type": "code",
      "metadata": {
        "id": "Su57dZKHtOD5"
      },
      "source": [
        "df2 = df.na.drop(subset=['air_pressure_9am'])"
      ],
      "execution_count": 23,
      "outputs": []
    },
    {
      "cell_type": "markdown",
      "metadata": {
        "id": "MEFCYoqQtXFY"
      },
      "source": [
        "Now let's see the total number of rows:"
      ]
    },
    {
      "cell_type": "code",
      "metadata": {
        "colab": {
          "base_uri": "https://localhost:8080/"
        },
        "id": "qdCois3UtYaV",
        "outputId": "1140cc6b-aec7-438f-a535-5b212406e575"
      },
      "source": [
        "df2.count()"
      ],
      "execution_count": 24,
      "outputs": [
        {
          "output_type": "execute_result",
          "data": {
            "text/plain": [
              "1092"
            ]
          },
          "metadata": {},
          "execution_count": 24
        }
      ]
    },
    {
      "cell_type": "markdown",
      "metadata": {
        "id": "qGt4-GJGtcAs"
      },
      "source": [
        "The total number of rows and number of rows in the summary statistics are now the same."
      ]
    },
    {
      "cell_type": "markdown",
      "metadata": {
        "id": "M8qiM6X6tdyR"
      },
      "source": [
        "#Compute correlation between two columns\n",
        "We can compute the correlation between two columns in a DataFrame by using the corr() method. Let's compute the correlation between rain_accumulation_9am and rain_duration_9am:"
      ]
    },
    {
      "cell_type": "code",
      "metadata": {
        "colab": {
          "base_uri": "https://localhost:8080/"
        },
        "id": "aNA8XG5ptgjC",
        "outputId": "ce2ede05-bd16-4d42-dada-d525b71cb545"
      },
      "source": [
        "df2.stat.corr(\"rain_accumulation_9am\",\"rain_duration_9am\")"
      ],
      "execution_count": 25,
      "outputs": [
        {
          "output_type": "execute_result",
          "data": {
            "text/plain": [
              "0.7298253479609021"
            ]
          },
          "metadata": {},
          "execution_count": 25
        }
      ]
    },
    {
      "cell_type": "code",
      "source": [
        "df3 = df2.toPandas()\n",
        "df3.plot.scatter(x='air_temp_9am', y='relative_humidity_9am', c='DarkBlue')"
      ],
      "metadata": {
        "colab": {
          "base_uri": "https://localhost:8080/",
          "height": 298
        },
        "id": "klQ_Cymd3FSC",
        "outputId": "6d3c127a-6c84-4d25-c20b-1fddc5a4ae38"
      },
      "execution_count": 30,
      "outputs": [
        {
          "output_type": "execute_result",
          "data": {
            "text/plain": [
              "<matplotlib.axes._subplots.AxesSubplot at 0x7f273d61e4d0>"
            ]
          },
          "metadata": {},
          "execution_count": 30
        },
        {
          "output_type": "display_data",
          "data": {
            "text/plain": [
              "<Figure size 432x288 with 1 Axes>"
            ],
            "image/png": "[encoded data removed]"
          },
          "metadata": {
            "needs_background": "light"
          }
        }
      ]
    },
    {
      "cell_type": "code",
      "source": [
        "\n",
        "df3.hist(column='air_temp_9am', bins=10)"
      ],
      "metadata": {
        "colab": {
          "base_uri": "https://localhost:8080/",
          "height": 318
        },
        "id": "OkMn2_Fg3_7y",
        "outputId": "39bae4e2-cbfd-4448-8f7c-676a0189ce1e"
      },
      "execution_count": 34,
      "outputs": [
        {
          "output_type": "execute_result",
          "data": {
            "text/plain": [
              "array([[<matplotlib.axes._subplots.AxesSubplot object at 0x7f273d1d0690>]],\n",
              "      dtype=object)"
            ]
          },
          "metadata": {},
          "execution_count": 34
        },
        {
          "output_type": "display_data",
          "data": {
            "text/plain": [
              "<Figure size 432x288 with 1 Axes>"
            ],
            "image/png": "[encoded data removed]"
          },
          "metadata": {
            "needs_background": "light"
          }
        }
      ]
    },
    {
      "cell_type": "markdown",
      "metadata": {
        "id": "96NuR9livB9B"
      },
      "source": [
        "#link to another tutorial\n",
        "If you are interested in Spark: check this EDA tutorial here:\n",
        "https://www.analyticsvidhya.com/blog/2020/11/a-must-read-guide-on-how-to-work-with-pyspark-on-google-colab-for-data-scientists/"
      ]
    }
  ]
}