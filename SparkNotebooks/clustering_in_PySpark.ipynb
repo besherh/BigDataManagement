{
  "cells": [
    {
      "cell_type": "markdown",
      "metadata": {
        "id": "view-in-github",
        "colab_type": "text"
      },
      "source": [
        "<a href=\"https://colab.research.google.com/github/besherh/BigDataManagement/blob/main/SparkNotebooks/clustering_in_PySpark.ipynb\" target=\"_parent\"><img src=\"https://colab.research.google.com/assets/colab-badge.svg\" alt=\"Open In Colab\"/></a>"
      ]
    },
    {
      "cell_type": "markdown",
      "metadata": {
        "id": "6SA7wAPS59TG"
      },
      "source": [
        "#What is clustering\n",
        "Clustering is an unsupervised learning technique, in short, you are working on data, without having any information about a target attribute or a dependent variable. The general idea of clustering is to find some intrinsic structure in the data, often referred to as groups of similar objects. The algorithm studies the data to identify these patterns or groups such that each member in a group is closer to another member in the group (lower intracluster distance) and farther from another member in a different group (higher inter-cluster distance)\n",
        "\n",
        "\n",
        "**Examples**\n",
        "\n",
        "\n",
        "*   Customer Segmentation — Used widely for targeted marketing\n",
        "*   Recommendation Engines\n",
        "\n",
        "\n",
        "\n"
      ]
    },
    {
      "cell_type": "markdown",
      "source": [
        "#Setting up PySpark in Colab\n",
        "Spark is written in the Scala programming language and requires the Java Virtual Machine (JVM) to run. Therefore, our first task is to download Java.\n"
      ],
      "metadata": {
        "id": "dbSoOzXS7LRo"
      }
    },
    {
      "cell_type": "code",
      "source": [
        "!apt-get install openjdk-8-jdk-headless"
      ],
      "metadata": {
        "colab": {
          "base_uri": "https://localhost:8080/"
        },
        "id": "aD11wt_m7Nh8",
        "outputId": "22346886-dad7-41c4-d15e-18eca056e9b2"
      },
      "execution_count": 1,
      "outputs": [
        {
          "output_type": "stream",
          "name": "stdout",
          "text": [
            "Reading package lists... Done\n",
            "Building dependency tree       \n",
            "Reading state information... Done\n",
            "The following additional packages will be installed:\n",
            "  openjdk-8-jre-headless\n",
            "Suggested packages:\n",
            "  openjdk-8-demo openjdk-8-source libnss-mdns fonts-dejavu-extra\n",
            "  fonts-ipafont-gothic fonts-ipafont-mincho fonts-wqy-microhei\n",
            "  fonts-wqy-zenhei fonts-indic\n",
            "The following NEW packages will be installed:\n",
            "  openjdk-8-jdk-headless openjdk-8-jre-headless\n",
            "0 upgraded, 2 newly installed, 0 to remove and 39 not upgraded.\n",
            "Need to get 36.5 MB of archives.\n",
            "After this operation, 143 MB of additional disk space will be used.\n",
            "Get:1 http://archive.ubuntu.com/ubuntu bionic-updates/universe amd64 openjdk-8-jre-headless amd64 8u312-b07-0ubuntu1~18.04 [28.2 MB]\n",
            "Get:2 http://archive.ubuntu.com/ubuntu bionic-updates/universe amd64 openjdk-8-jdk-headless amd64 8u312-b07-0ubuntu1~18.04 [8,298 kB]\n",
            "Fetched 36.5 MB in 2s (15.2 MB/s)\n",
            "Selecting previously unselected package openjdk-8-jre-headless:amd64.\n",
            "(Reading database ... 155335 files and directories currently installed.)\n",
            "Preparing to unpack .../openjdk-8-jre-headless_8u312-b07-0ubuntu1~18.04_amd64.deb ...\n",
            "Unpacking openjdk-8-jre-headless:amd64 (8u312-b07-0ubuntu1~18.04) ...\n",
            "Selecting previously unselected package openjdk-8-jdk-headless:amd64.\n",
            "Preparing to unpack .../openjdk-8-jdk-headless_8u312-b07-0ubuntu1~18.04_amd64.deb ...\n",
            "Unpacking openjdk-8-jdk-headless:amd64 (8u312-b07-0ubuntu1~18.04) ...\n",
            "Setting up openjdk-8-jre-headless:amd64 (8u312-b07-0ubuntu1~18.04) ...\n",
            "update-alternatives: using /usr/lib/jvm/java-8-openjdk-amd64/jre/bin/orbd to provide /usr/bin/orbd (orbd) in auto mode\n",
            "update-alternatives: using /usr/lib/jvm/java-8-openjdk-amd64/jre/bin/servertool to provide /usr/bin/servertool (servertool) in auto mode\n",
            "update-alternatives: using /usr/lib/jvm/java-8-openjdk-amd64/jre/bin/tnameserv to provide /usr/bin/tnameserv (tnameserv) in auto mode\n",
            "Setting up openjdk-8-jdk-headless:amd64 (8u312-b07-0ubuntu1~18.04) ...\n",
            "update-alternatives: using /usr/lib/jvm/java-8-openjdk-amd64/bin/idlj to provide /usr/bin/idlj (idlj) in auto mode\n",
            "update-alternatives: using /usr/lib/jvm/java-8-openjdk-amd64/bin/wsimport to provide /usr/bin/wsimport (wsimport) in auto mode\n",
            "update-alternatives: using /usr/lib/jvm/java-8-openjdk-amd64/bin/jsadebugd to provide /usr/bin/jsadebugd (jsadebugd) in auto mode\n",
            "update-alternatives: using /usr/lib/jvm/java-8-openjdk-amd64/bin/native2ascii to provide /usr/bin/native2ascii (native2ascii) in auto mode\n",
            "update-alternatives: using /usr/lib/jvm/java-8-openjdk-amd64/bin/javah to provide /usr/bin/javah (javah) in auto mode\n",
            "update-alternatives: using /usr/lib/jvm/java-8-openjdk-amd64/bin/hsdb to provide /usr/bin/hsdb (hsdb) in auto mode\n",
            "update-alternatives: using /usr/lib/jvm/java-8-openjdk-amd64/bin/clhsdb to provide /usr/bin/clhsdb (clhsdb) in auto mode\n",
            "update-alternatives: using /usr/lib/jvm/java-8-openjdk-amd64/bin/xjc to provide /usr/bin/xjc (xjc) in auto mode\n",
            "update-alternatives: using /usr/lib/jvm/java-8-openjdk-amd64/bin/schemagen to provide /usr/bin/schemagen (schemagen) in auto mode\n",
            "update-alternatives: using /usr/lib/jvm/java-8-openjdk-amd64/bin/extcheck to provide /usr/bin/extcheck (extcheck) in auto mode\n",
            "update-alternatives: using /usr/lib/jvm/java-8-openjdk-amd64/bin/jhat to provide /usr/bin/jhat (jhat) in auto mode\n",
            "update-alternatives: using /usr/lib/jvm/java-8-openjdk-amd64/bin/wsgen to provide /usr/bin/wsgen (wsgen) in auto mode\n"
          ]
        }
      ]
    },
    {
      "cell_type": "markdown",
      "source": [
        "Now install Spark 3.2.1 with Hadoop 2.7"
      ],
      "metadata": {
        "id": "7-gD52aV7R7s"
      }
    },
    {
      "cell_type": "code",
      "source": [
        "!wget https://archive.apache.org/dist/spark/spark-3.2.1/spark-3.2.1-bin-hadoop2.7.tgz\n"
      ],
      "metadata": {
        "colab": {
          "base_uri": "https://localhost:8080/"
        },
        "id": "04gzkksJ7WBY",
        "outputId": "cb992c21-8834-4b7f-c255-98f2ba057c1b"
      },
      "execution_count": 2,
      "outputs": [
        {
          "output_type": "stream",
          "name": "stdout",
          "text": [
            "--2022-03-20 20:58:25--  https://archive.apache.org/dist/spark/spark-3.2.1/spark-3.2.1-bin-hadoop2.7.tgz\n",
            "Resolving archive.apache.org (archive.apache.org)... 138.201.131.134, 2a01:4f8:172:2ec5::2\n",
            "Connecting to archive.apache.org (archive.apache.org)|138.201.131.134|:443... connected.\n",
            "HTTP request sent, awaiting response... 200 OK\n",
            "Length: 272637746 (260M) [application/x-gzip]\n",
            "Saving to: ‘spark-3.2.1-bin-hadoop2.7.tgz’\n",
            "\n",
            "spark-3.2.1-bin-had 100%[===================>] 260.01M  28.6MB/s    in 9.8s    \n",
            "\n",
            "2022-03-20 20:58:35 (26.6 MB/s) - ‘spark-3.2.1-bin-hadoop2.7.tgz’ saved [272637746/272637746]\n",
            "\n"
          ]
        }
      ]
    },
    {
      "cell_type": "markdown",
      "source": [
        " we just need to unzip that folder.\n"
      ],
      "metadata": {
        "id": "EHRa3Ewe7ZXg"
      }
    },
    {
      "cell_type": "code",
      "source": [
        "!tar xf /content/spark-3.2.1-bin-hadoop2.7.tgz\n"
      ],
      "metadata": {
        "id": "eI9gfk337a00"
      },
      "execution_count": 3,
      "outputs": []
    },
    {
      "cell_type": "markdown",
      "source": [
        "There is one last thing that we need to install and that is the findspark library. It will locate Spark on the system and import it as a regular library.\n"
      ],
      "metadata": {
        "id": "sxJyruvY7s10"
      }
    },
    {
      "cell_type": "code",
      "source": [
        "!pip install -q findspark\n"
      ],
      "metadata": {
        "id": "6SJCgVHL7tM2"
      },
      "execution_count": 4,
      "outputs": []
    },
    {
      "cell_type": "code",
      "source": [
        "import os\n",
        "os.environ[\"JAVA_HOME\"] = \"/usr/lib/jvm/java-8-openjdk-amd64\"\n",
        "os.environ[\"SPARK_HOME\"] = \"/content/spark-3.2.1-bin-hadoop2.7\""
      ],
      "metadata": {
        "id": "YZzbCbhc8URd"
      },
      "execution_count": 5,
      "outputs": []
    },
    {
      "cell_type": "markdown",
      "source": [
        "We need to locate Spark in the system. For that, we import findspark and use the findspark.init() method."
      ],
      "metadata": {
        "id": "GNmcH1W-8XRx"
      }
    },
    {
      "cell_type": "code",
      "source": [
        "import findspark\n",
        "findspark.init()\n",
        "findspark.find()"
      ],
      "metadata": {
        "colab": {
          "base_uri": "https://localhost:8080/",
          "height": 35
        },
        "id": "DohPJLoD8Y75",
        "outputId": "bfc36173-a3bf-467f-a84d-7511603d29f2"
      },
      "execution_count": 6,
      "outputs": [
        {
          "output_type": "execute_result",
          "data": {
            "text/plain": [
              "'/content/spark-3.2.1-bin-hadoop2.7'"
            ],
            "application/vnd.google.colaboratory.intrinsic+json": {
              "type": "string"
            }
          },
          "metadata": {},
          "execution_count": 6
        }
      ]
    },
    {
      "cell_type": "markdown",
      "source": [
        "Now that we have installed all the necessary dependencies in Colab, it is time to set the environment path. This will enable us to run Pyspark in the Colab environment."
      ],
      "metadata": {
        "id": "fs3YxjYb8SIx"
      }
    },
    {
      "cell_type": "code",
      "execution_count": 7,
      "metadata": {
        "id": "5dHOL9iB59TM"
      },
      "outputs": [],
      "source": [
        "import pyspark\n",
        "import numpy as np\n",
        "import pandas as pd"
      ]
    },
    {
      "cell_type": "markdown",
      "source": [
        "#Problem description\n",
        "\n",
        "The dataset consists of 9K active credit cardholders over 6 months and their transaction and account attributes. The idea is to develop a customer segmentation for marketing strategy.\n"
      ],
      "metadata": {
        "id": "vN2WmAFkCw15"
      }
    },
    {
      "cell_type": "markdown",
      "metadata": {
        "id": "Sc0Orqbd59TP"
      },
      "source": [
        "## Data Preparation"
      ]
    },
    {
      "cell_type": "markdown",
      "metadata": {
        "id": "MSSqEXms59TP"
      },
      "source": [
        "### Removing columns and rows\n",
        "You previously loaded airline flight data from a CSV file. You're going to develop a model which will predict whether or not a given flight will be delayed.\n",
        "\n",
        "In this exercise you need to trim those data down by:\n",
        "\n",
        "1. removing an uninformative column and\n",
        "2. removing rows which do not have information about whether or not a flight was delayed."
      ]
    },
    {
      "cell_type": "code",
      "execution_count": 9,
      "metadata": {
        "id": "arH_LBjQ59TQ",
        "outputId": "963b54db-d99f-4706-dd35-4bff650430ad",
        "colab": {
          "base_uri": "https://localhost:8080/"
        }
      },
      "outputs": [
        {
          "output_type": "stream",
          "name": "stdout",
          "text": [
            "+-------+-----------+-----------------+---------+----------------+----------------------+------------+-------------------+--------------------------+--------------------------------+----------------------+----------------+-------------+------------+-----------+----------------+----------------+------+\n",
            "|CUST_ID|    BALANCE|BALANCE_FREQUENCY|PURCHASES|ONEOFF_PURCHASES|INSTALLMENTS_PURCHASES|CASH_ADVANCE|PURCHASES_FREQUENCY|ONEOFF_PURCHASES_FREQUENCY|PURCHASES_INSTALLMENTS_FREQUENCY|CASH_ADVANCE_FREQUENCY|CASH_ADVANCE_TRX|PURCHASES_TRX|CREDIT_LIMIT|   PAYMENTS|MINIMUM_PAYMENTS|PRC_FULL_PAYMENT|TENURE|\n",
            "+-------+-----------+-----------------+---------+----------------+----------------------+------------+-------------------+--------------------------+--------------------------------+----------------------+----------------+-------------+------------+-----------+----------------+----------------+------+\n",
            "| C10001|  40.900749|         0.818182|     95.4|             0.0|                  95.4|         0.0|           0.166667|                       0.0|                        0.083333|                   0.0|               0|            2|      1000.0| 201.802084|      139.509787|             0.0|    12|\n",
            "| C10002|3202.467416|         0.909091|      0.0|             0.0|                   0.0| 6442.945483|                0.0|                       0.0|                             0.0|                  0.25|               4|            0|      7000.0|4103.032597|     1072.340217|        0.222222|    12|\n",
            "| C10003|2495.148862|              1.0|   773.17|          773.17|                   0.0|         0.0|                1.0|                       1.0|                             0.0|                   0.0|               0|           12|      7500.0| 622.066742|      627.284787|             0.0|    12|\n",
            "| C10004|1666.670542|         0.636364|   1499.0|          1499.0|                   0.0|  205.788017|           0.083333|                  0.083333|                             0.0|              0.083333|               1|            1|      7500.0|        0.0|            null|             0.0|    12|\n",
            "| C10005| 817.714335|              1.0|     16.0|            16.0|                   0.0|         0.0|           0.083333|                  0.083333|                             0.0|                   0.0|               0|            1|      1200.0| 678.334763|      244.791237|             0.0|    12|\n",
            "+-------+-----------+-----------------+---------+----------------+----------------------+------------+-------------------+--------------------------+--------------------------------+----------------------+----------------+-------------+------------+-----------+----------------+----------------+------+\n",
            "only showing top 5 rows\n",
            "\n"
          ]
        }
      ],
      "source": [
        "from pyspark.sql import SparkSession\n",
        "\n",
        "spark = SparkSession.builder.master('local[*]').appName('Customer_Segmants').getOrCreate()\n",
        "\n",
        "# Read data from CSV file\n",
        "#you can download it from here:   https://raw.githubusercontent.com/besherh/BigDataManagement/main/SparkCSV/CC_GENERAL.csv\n",
        "customer_df=spark.read.csv('/content/CC_GENERAL.csv', header=True, inferSchema=True)\n",
        "\n",
        "customer_df.show(5)\n"
      ]
    },
    {
      "cell_type": "markdown",
      "source": [
        "#Data Schema"
      ],
      "metadata": {
        "id": "AgbyF6LQ-wC4"
      }
    },
    {
      "cell_type": "code",
      "source": [
        "customer_df.printSchema()\n"
      ],
      "metadata": {
        "colab": {
          "base_uri": "https://localhost:8080/"
        },
        "id": "MqQaNfM--yk-",
        "outputId": "50c94ae2-4f9e-4033-9274-9108bd1d4d01"
      },
      "execution_count": 10,
      "outputs": [
        {
          "output_type": "stream",
          "name": "stdout",
          "text": [
            "root\n",
            " |-- CUST_ID: string (nullable = true)\n",
            " |-- BALANCE: double (nullable = true)\n",
            " |-- BALANCE_FREQUENCY: double (nullable = true)\n",
            " |-- PURCHASES: double (nullable = true)\n",
            " |-- ONEOFF_PURCHASES: double (nullable = true)\n",
            " |-- INSTALLMENTS_PURCHASES: double (nullable = true)\n",
            " |-- CASH_ADVANCE: double (nullable = true)\n",
            " |-- PURCHASES_FREQUENCY: double (nullable = true)\n",
            " |-- ONEOFF_PURCHASES_FREQUENCY: double (nullable = true)\n",
            " |-- PURCHASES_INSTALLMENTS_FREQUENCY: double (nullable = true)\n",
            " |-- CASH_ADVANCE_FREQUENCY: double (nullable = true)\n",
            " |-- CASH_ADVANCE_TRX: integer (nullable = true)\n",
            " |-- PURCHASES_TRX: integer (nullable = true)\n",
            " |-- CREDIT_LIMIT: double (nullable = true)\n",
            " |-- PAYMENTS: double (nullable = true)\n",
            " |-- MINIMUM_PAYMENTS: double (nullable = true)\n",
            " |-- PRC_FULL_PAYMENT: double (nullable = true)\n",
            " |-- TENURE: integer (nullable = true)\n",
            "\n"
          ]
        }
      ]
    },
    {
      "cell_type": "markdown",
      "source": [
        "The attributes that are self intuitive can be divided into three broader categories. Customer Information (Primary Key as CUST_ID), account information (balance, balance frequency, purchases, credit limit, tenure, etc.), and transactions (purchase frequency, payments, cash advance, etc.).\n"
      ],
      "metadata": {
        "id": "vwy7gtQdDde_"
      }
    },
    {
      "cell_type": "code",
      "source": [
        "customer_df=customer_df.na.drop()\n"
      ],
      "metadata": {
        "id": "QbEjhsM3Dex-"
      },
      "execution_count": 11,
      "outputs": []
    },
    {
      "cell_type": "markdown",
      "source": [
        "All attributes under consideration are numerical or discrete numeric, hence we need to convert them into features using a Vector Assembler. A vector assembler is a transformer that converts a set of features into a single vector column often referred to as an array of features. Features here are columns. Since customer id is an identifier that won’t be used for clustering, we first extract the required columns using .columns, pass it as an input to Vector Assembler, and then use the transform() to convert the input columns into a single vector column called a feature.\n"
      ],
      "metadata": {
        "id": "RqVi6BbLDrSO"
      }
    },
    {
      "cell_type": "code",
      "source": [
        "from pyspark.ml.feature import VectorAssembler\n",
        "customer_df.columns\n",
        "assemble=VectorAssembler(inputCols=[\n",
        " 'BALANCE',\n",
        " 'BALANCE_FREQUENCY',\n",
        " 'PURCHASES',\n",
        " 'ONEOFF_PURCHASES',\n",
        " 'INSTALLMENTS_PURCHASES',\n",
        " 'CASH_ADVANCE',\n",
        " 'PURCHASES_FREQUENCY',\n",
        " 'ONEOFF_PURCHASES_FREQUENCY',\n",
        " 'PURCHASES_INSTALLMENTS_FREQUENCY',\n",
        " 'CASH_ADVANCE_FREQUENCY',\n",
        " 'CASH_ADVANCE_TRX',\n",
        " 'PURCHASES_TRX',\n",
        " 'CREDIT_LIMIT',\n",
        " 'PAYMENTS',\n",
        " 'MINIMUM_PAYMENTS',\n",
        " 'PRC_FULL_PAYMENT',\n",
        " 'TENURE'], outputCol='features')\n",
        "assembled_data=assemble.transform(customer_df)\n",
        "assembled_data.show(2)"
      ],
      "metadata": {
        "colab": {
          "base_uri": "https://localhost:8080/"
        },
        "id": "PNfLC86TDrzl",
        "outputId": "4a05b827-bb56-467e-8f2d-45bb33ad0a7c"
      },
      "execution_count": 12,
      "outputs": [
        {
          "output_type": "stream",
          "name": "stdout",
          "text": [
            "+-------+-----------+-----------------+---------+----------------+----------------------+------------+-------------------+--------------------------+--------------------------------+----------------------+----------------+-------------+------------+-----------+----------------+----------------+------+--------------------+\n",
            "|CUST_ID|    BALANCE|BALANCE_FREQUENCY|PURCHASES|ONEOFF_PURCHASES|INSTALLMENTS_PURCHASES|CASH_ADVANCE|PURCHASES_FREQUENCY|ONEOFF_PURCHASES_FREQUENCY|PURCHASES_INSTALLMENTS_FREQUENCY|CASH_ADVANCE_FREQUENCY|CASH_ADVANCE_TRX|PURCHASES_TRX|CREDIT_LIMIT|   PAYMENTS|MINIMUM_PAYMENTS|PRC_FULL_PAYMENT|TENURE|            features|\n",
            "+-------+-----------+-----------------+---------+----------------+----------------------+------------+-------------------+--------------------------+--------------------------------+----------------------+----------------+-------------+------------+-----------+----------------+----------------+------+--------------------+\n",
            "| C10001|  40.900749|         0.818182|     95.4|             0.0|                  95.4|         0.0|           0.166667|                       0.0|                        0.083333|                   0.0|               0|            2|      1000.0| 201.802084|      139.509787|             0.0|    12|[40.900749,0.8181...|\n",
            "| C10002|3202.467416|         0.909091|      0.0|             0.0|                   0.0| 6442.945483|                0.0|                       0.0|                             0.0|                  0.25|               4|            0|      7000.0|4103.032597|     1072.340217|        0.222222|    12|(17,[0,1,5,9,10,1...|\n",
            "+-------+-----------+-----------------+---------+----------------+----------------------+------------+-------------------+--------------------------+--------------------------------+----------------------+----------------+-------------+------------+-----------+----------------+----------------+------+--------------------+\n",
            "only showing top 2 rows\n",
            "\n"
          ]
        }
      ]
    },
    {
      "cell_type": "markdown",
      "source": [
        "Now that all columns are transformed into a single feature vector we need to standardize the data to bring them to a comparable scale. E.g. Balance can have a scale from 10–1000 whereas balance frequency has a scale from 0–1 say. Euclidean distance is always impacted more by variables on a higher scale, hence it’s important to scale the variables out.\n"
      ],
      "metadata": {
        "id": "l5TYDtu9ELLT"
      }
    },
    {
      "cell_type": "code",
      "source": [
        "from pyspark.ml.feature import StandardScaler\n",
        "scale=StandardScaler(inputCol='features',outputCol='standardized')\n",
        "data_scale=scale.fit(assembled_data)\n",
        "data_scale_output=data_scale.transform(assembled_data)\n",
        "data_scale_output.show(2)\n"
      ],
      "metadata": {
        "colab": {
          "base_uri": "https://localhost:8080/"
        },
        "id": "xV36Dr4iELkf",
        "outputId": "19d2b55b-0f1e-4a51-9f1b-3f3884dc481a"
      },
      "execution_count": 13,
      "outputs": [
        {
          "output_type": "stream",
          "name": "stdout",
          "text": [
            "+-------+-----------+-----------------+---------+----------------+----------------------+------------+-------------------+--------------------------+--------------------------------+----------------------+----------------+-------------+------------+-----------+----------------+----------------+------+--------------------+--------------------+\n",
            "|CUST_ID|    BALANCE|BALANCE_FREQUENCY|PURCHASES|ONEOFF_PURCHASES|INSTALLMENTS_PURCHASES|CASH_ADVANCE|PURCHASES_FREQUENCY|ONEOFF_PURCHASES_FREQUENCY|PURCHASES_INSTALLMENTS_FREQUENCY|CASH_ADVANCE_FREQUENCY|CASH_ADVANCE_TRX|PURCHASES_TRX|CREDIT_LIMIT|   PAYMENTS|MINIMUM_PAYMENTS|PRC_FULL_PAYMENT|TENURE|            features|        standardized|\n",
            "+-------+-----------+-----------------+---------+----------------+----------------------+------------+-------------------+--------------------------+--------------------------------+----------------------+----------------+-------------+------------+-----------+----------------+----------------+------+--------------------+--------------------+\n",
            "| C10001|  40.900749|         0.818182|     95.4|             0.0|                  95.4|         0.0|           0.166667|                       0.0|                        0.083333|                   0.0|               0|            2|      1000.0| 201.802084|      139.509787|             0.0|    12|[40.900749,0.8181...|[0.01951770812869...|\n",
            "| C10002|3202.467416|         0.909091|      0.0|             0.0|                   0.0| 6442.945483|                0.0|                       0.0|                             0.0|                  0.25|               4|            0|      7000.0|4103.032597|     1072.340217|        0.222222|    12|(17,[0,1,5,9,10,1...|(17,[0,1,5,9,10,1...|\n",
            "+-------+-----------+-----------------+---------+----------------+----------------------+------------+-------------------+--------------------------+--------------------------------+----------------------+----------------+-------------+------------+-----------+----------------+----------------+------+--------------------+--------------------+\n",
            "only showing top 2 rows\n",
            "\n"
          ]
        }
      ]
    },
    {
      "cell_type": "markdown",
      "source": [
        "Now that our data is standardized we can develop the K Means algorithm.\n",
        "K-means is one of the most commonly used clustering algorithms for grouping data into a predefined number of clusters.\n"
      ],
      "metadata": {
        "id": "Tu5qvaRkEQjx"
      }
    },
    {
      "cell_type": "code",
      "source": [
        "from pyspark.ml.clustering import KMeans\n",
        "from pyspark.ml.evaluation import ClusteringEvaluator\n",
        "silhouette_score=[]\n",
        "evaluator = ClusteringEvaluator(predictionCol='prediction', featuresCol='standardized', \\\n",
        "                                metricName='silhouette', distanceMeasure='squaredEuclidean')\n",
        "for i in range(2,10):\n",
        "    KMeans_algo=KMeans(featuresCol='standardized', k=i)\n",
        "    KMeans_fit=KMeans_algo.fit(data_scale_output)\n",
        "    output=KMeans_fit.transform(data_scale_output)\n",
        "    score=evaluator.evaluate(output)\n",
        "    silhouette_score.append(score)\n",
        "    print(\"Silhouette Score:\",score)"
      ],
      "metadata": {
        "colab": {
          "base_uri": "https://localhost:8080/"
        },
        "id": "v-nqzTI4FH9U",
        "outputId": "a0de38b1-ce12-4cc4-e5d5-34e2f332ddff"
      },
      "execution_count": 15,
      "outputs": [
        {
          "output_type": "stream",
          "name": "stdout",
          "text": [
            "Silhouette Score: 0.297805743839795\n",
            "Silhouette Score: 0.2741064742222214\n",
            "Silhouette Score: 0.29229864278955486\n",
            "Silhouette Score: 0.2568069809484429\n",
            "Silhouette Score: 0.29304217697460017\n",
            "Silhouette Score: 0.2846508945049971\n",
            "Silhouette Score: 0.28881677419836654\n",
            "Silhouette Score: 0.30303718489609555\n"
          ]
        }
      ]
    },
    {
      "cell_type": "markdown",
      "source": [
        "Silhouette Score using ClusteringEvaluator() measures how close each point in one cluster is to points in the neighboring clusters thus helping in figuring out clusters that are compact and well-spaced out.\n"
      ],
      "metadata": {
        "id": "yso4jEVVFQg3"
      }
    },
    {
      "cell_type": "code",
      "source": [
        "#Visualizing the silhouette scores in a plot\n",
        "import matplotlib.pyplot as plt\n",
        "fig, ax = plt.subplots(1,1, figsize =(8,6))\n",
        "ax.plot(range(2,10),silhouette_score)\n",
        "ax.set_xlabel('k')\n",
        "ax.set_ylabel('cost')\n"
      ],
      "metadata": {
        "colab": {
          "base_uri": "https://localhost:8080/",
          "height": 406
        },
        "id": "XSAtk-hfFR-B",
        "outputId": "724a879d-9e20-478a-e8b8-0df014d12a3b"
      },
      "execution_count": 16,
      "outputs": [
        {
          "output_type": "execute_result",
          "data": {
            "text/plain": [
              "Text(0, 0.5, 'cost')"
            ]
          },
          "metadata": {},
          "execution_count": 16
        },
        {
          "output_type": "display_data",
          "data": {
            "text/plain": [
              "<Figure size 576x432 with 1 Axes>"
            ],
            "image/png": "[encoded data removed]"
          },
          "metadata": {
            "needs_background": "light"
          }
        }
      ]
    },
    {
      "cell_type": "markdown",
      "source": [
        "Highest value when k = 9\n"
      ],
      "metadata": {
        "id": "ir_CSOcJJqxR"
      }
    },
    {
      "cell_type": "code",
      "source": [
        "final_clustering=KMeans(featuresCol='standardized', k=9)\n",
        "KMeans_fit=KMeans_algo.fit(data_scale_output)\n",
        "clusters_output=KMeans_fit.transform(data_scale_output)\n"
      ],
      "metadata": {
        "id": "YDbeZPTwJvdV"
      },
      "execution_count": 17,
      "outputs": []
    },
    {
      "cell_type": "code",
      "source": [
        "#notice the last column [prediction]\n",
        "clusters_output.show()\n"
      ],
      "metadata": {
        "colab": {
          "base_uri": "https://localhost:8080/"
        },
        "id": "APC-6PVgKf98",
        "outputId": "a65e7968-613a-4a2f-ed7b-00f2ef52c30e"
      },
      "execution_count": 18,
      "outputs": [
        {
          "output_type": "stream",
          "name": "stdout",
          "text": [
            "+-------+-----------+-----------------+---------+----------------+----------------------+------------+-------------------+--------------------------+--------------------------------+----------------------+----------------+-------------+------------+-----------+----------------+----------------+------+--------------------+--------------------+----------+\n",
            "|CUST_ID|    BALANCE|BALANCE_FREQUENCY|PURCHASES|ONEOFF_PURCHASES|INSTALLMENTS_PURCHASES|CASH_ADVANCE|PURCHASES_FREQUENCY|ONEOFF_PURCHASES_FREQUENCY|PURCHASES_INSTALLMENTS_FREQUENCY|CASH_ADVANCE_FREQUENCY|CASH_ADVANCE_TRX|PURCHASES_TRX|CREDIT_LIMIT|   PAYMENTS|MINIMUM_PAYMENTS|PRC_FULL_PAYMENT|TENURE|            features|        standardized|prediction|\n",
            "+-------+-----------+-----------------+---------+----------------+----------------------+------------+-------------------+--------------------------+--------------------------------+----------------------+----------------+-------------+------------+-----------+----------------+----------------+------+--------------------+--------------------+----------+\n",
            "| C10001|  40.900749|         0.818182|     95.4|             0.0|                  95.4|         0.0|           0.166667|                       0.0|                        0.083333|                   0.0|               0|            2|      1000.0| 201.802084|      139.509787|             0.0|    12|[40.900749,0.8181...|[0.01951770812869...|         6|\n",
            "| C10002|3202.467416|         0.909091|      0.0|             0.0|                   0.0| 6442.945483|                0.0|                       0.0|                             0.0|                  0.25|               4|            0|      7000.0|4103.032597|     1072.340217|        0.222222|    12|(17,[0,1,5,9,10,1...|(17,[0,1,5,9,10,1...|         0|\n",
            "| C10003|2495.148862|              1.0|   773.17|          773.17|                   0.0|         0.0|                1.0|                       1.0|                             0.0|                   0.0|               0|           12|      7500.0| 622.066742|      627.284787|             0.0|    12|[2495.148862,1.0,...|[1.19067714936384...|         5|\n",
            "| C10005| 817.714335|              1.0|     16.0|            16.0|                   0.0|         0.0|           0.083333|                  0.083333|                             0.0|                   0.0|               0|            1|      1200.0| 678.334763|      244.791237|             0.0|    12|[817.714335,1.0,1...|[0.39021069573032...|         6|\n",
            "| C10006|1809.828751|              1.0|  1333.28|             0.0|               1333.28|         0.0|           0.666667|                       0.0|                        0.583333|                   0.0|               0|            8|      1800.0| 1400.05777|     2407.246035|             0.0|    12|[1809.828751,1.0,...|[0.86364455880605...|         5|\n",
            "| C10007| 627.260806|              1.0|  7091.01|         6402.63|                688.38|         0.0|                1.0|                       1.0|                             1.0|                   0.0|               0|           64|     13500.0|6354.314328|      198.065894|             1.0|    12|[627.260806,1.0,7...|[0.29932687374696...|         8|\n",
            "| C10008|1823.652743|              1.0|    436.2|             0.0|                 436.2|         0.0|                1.0|                       0.0|                             1.0|                   0.0|               0|           12|      2300.0| 679.065082|       532.03399|             0.0|    12|[1823.652743,1.0,...|[0.87024132408850...|         5|\n",
            "| C10009|1014.926473|              1.0|   861.49|          661.49|                 200.0|         0.0|           0.333333|                  0.083333|                            0.25|                   0.0|               0|            5|      7000.0| 688.278568|      311.963409|             0.0|    12|[1014.926473,1.0,...|[0.48431970456340...|         6|\n",
            "| C10010| 152.225975|         0.545455|   1281.6|          1281.6|                   0.0|         0.0|           0.166667|                  0.166667|                             0.0|                   0.0|               0|            3|     11000.0|1164.770591|      100.302262|             0.0|    12|[152.225975,0.545...|[0.07264175405825...|         1|\n",
            "| C10011|1293.124939|              1.0|   920.12|             0.0|                920.12|         0.0|                1.0|                       0.0|                             1.0|                   0.0|               0|           12|      1200.0|1083.301007|     2172.697765|             0.0|    12|[1293.124939,1.0,...|[0.61707513310675...|         5|\n",
            "| C10012| 630.794744|         0.818182|  1492.18|         1492.18|                   0.0|         0.0|               0.25|                      0.25|                             0.0|                   0.0|               0|            6|      2000.0| 705.618627|      155.549069|             0.0|    12|[630.794744,0.818...|[0.30101325778919...|         6|\n",
            "| C10013| 1516.92862|              1.0|  3217.99|         2500.23|                717.76|         0.0|                1.0|                      0.25|                        0.916667|                   0.0|               0|           26|      3000.0| 608.263689|      490.207013|            0.25|    12|[1516.92862,1.0,3...|[0.72387354219911...|         5|\n",
            "| C10014| 921.693369|              1.0|  2137.93|          419.96|               1717.97|         0.0|               0.75|                  0.166667|                            0.75|                   0.0|               0|           26|      7500.0|1655.891435|      251.137986|        0.083333|    12|[921.693369,1.0,2...|[0.43982916206002...|         5|\n",
            "| C10015|2772.772734|              1.0|      0.0|             0.0|                   0.0|   346.81139|                0.0|                       0.0|                             0.0|              0.083333|               1|            0|      3000.0| 805.647974|      989.962866|             0.0|    12|(17,[0,1,5,9,10,1...|(17,[0,1,5,9,10,1...|         6|\n",
            "| C10016|6886.213231|              1.0|   1611.7|             0.0|                1611.7| 2301.491267|                0.5|                       0.0|                             0.5|              0.166667|               4|           11|      8000.0|1993.439277|      2109.90649|             0.0|    12|[6886.213231,1.0,...|[3.28607918536232...|         0|\n",
            "| C10017|2072.074354|            0.875|      0.0|             0.0|                   0.0| 2784.274703|                0.0|                       0.0|                             0.0|                  0.25|               3|            0|      3000.0| 391.974562|      376.579631|             0.0|     8|(17,[0,1,5,9,10,1...|(17,[0,1,5,9,10,1...|         4|\n",
            "| C10018|  41.089489|         0.454545|    519.0|             0.0|                 519.0|         0.0|           0.416667|                       0.0|                        0.333333|                   0.0|               0|            8|      2500.0| 254.590662|       73.203221|            0.25|    12|[41.089489,0.4545...|[0.01960777426005...|         1|\n",
            "| C10019|1989.072228|              1.0|   504.35|           166.0|                338.35|         0.0|           0.666667|                  0.083333|                        0.583333|                   0.0|               0|            9|     13000.0|1720.837373|      744.613395|             0.0|    12|[1989.072228,1.0,...|[0.94917897941186...|         5|\n",
            "| C10020|3577.970933|              1.0|   398.64|             0.0|                398.64|         0.0|                1.0|                       0.0|                             1.0|                   0.0|               0|           12|      4000.0|1053.980464|     12465.54938|             0.0|    12|[3577.970933,1.0,...|[1.70739641866351...|         5|\n",
            "| C10021|2016.684686|              1.0|   176.68|             0.0|                176.68|         0.0|           0.666667|                       0.0|                        0.666667|                   0.0|               0|            8|      2000.0|   223.0686|     13557.29726|             0.0|    12|[2016.684686,1.0,...|[0.96235555708187...|         5|\n",
            "+-------+-----------+-----------------+---------+----------------+----------------------+------------+-------------------+--------------------------+--------------------------------+----------------------+----------------+-------------+------------+-----------+----------------+----------------+------+--------------------+--------------------+----------+\n",
            "only showing top 20 rows\n",
            "\n"
          ]
        }
      ]
    }
  ],
  "metadata": {
    "kernelspec": {
      "display_name": "Python 3",
      "language": "python",
      "name": "python3"
    },
    "language_info": {
      "codemirror_mode": {
        "name": "ipython",
        "version": 3
      },
      "file_extension": ".py",
      "mimetype": "text/x-python",
      "name": "python",
      "nbconvert_exporter": "python",
      "pygments_lexer": "ipython3",
      "version": "3.7.6"
    },
    "colab": {
      "name": "clustering-in-PySpark.ipynb",
      "provenance": [],
      "include_colab_link": true
    }
  },
  "nbformat": 4,
  "nbformat_minor": 0
}